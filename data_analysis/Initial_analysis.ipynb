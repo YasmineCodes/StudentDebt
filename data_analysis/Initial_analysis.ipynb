{
 "cells": [
  {
   "cell_type": "markdown",
   "metadata": {
    "colab_type": "text",
    "id": "view-in-github"
   },
   "source": [
    "<a href=\"https://colab.research.google.com/github/YasmineCodes/StudentDebt/blob/master/data_analysis/Initial_analysis.ipynb\" target=\"_parent\"><img src=\"https://colab.research.google.com/assets/colab-badge.svg\" alt=\"Open In Colab\"/></a>"
   ]
  },
  {
   "cell_type": "code",
   "execution_count": 1,
   "metadata": {
    "id": "WY-Zq9w0d8cO"
   },
   "outputs": [],
   "source": [
    "import pandas as pd \n",
    "import numpy as np"
   ]
  },
  {
   "cell_type": "code",
   "execution_count": 2,
   "metadata": {
    "colab": {
     "base_uri": "https://localhost:8080/"
    },
    "id": "vjVHhgm5lD9A",
    "outputId": "8603bc47-00ef-47ff-9d18-50c0c395b9db"
   },
   "outputs": [
    {
     "name": "stderr",
     "output_type": "stream",
     "text": [
      "/usr/local/lib/python3.6/dist-packages/IPython/core/interactiveshell.py:2718: DtypeWarning: Columns (2,7,8,9,10,20,24,25,26,27,28,29,30,31,32,33,34,35,36,100,101,102,290,442,443,444,445,446,447,448,449,450,451,452,453,454,455,456,457,458,459,460,461,462,463,464,465,466,467,468,469,470,471,472,473,474,475,476,477,478,479,480,481,482,483,484,485,486,487,488,489,490,491,492,493,494,495,496,497,498,499,500,501,502,503,504,505,506,507,508,509,510,511,512,513,514,515,516,517,518,519,520,521,522,523,524,525,526,527,528,529,530,531,532,533,534,535,536,537,538,539,540,541,542,543,544,545,546,547,548,549,550,551,552,553,554,555,556,557,558,559,560,561,562,563,564,565,566,567,568,569,570,571,572,573,574,575,576,577,578,579,580,581,582,583,584,585,586,587,588,589,590,591,592,593,594,595,596,597,598,599,600,601,602,603,604,605,606,607,608,609,610,611,612,613,614,615,616,617,618,619,620,621,622,623,624,625,626,627,628,629,630,631,632,633,634,635,636,637,638,639,640,641,642,643,644,645,646,647,648,649,650,651,652,653,654,655,656,657,658,659,660,661,662,663,664,665,666,667,668,669,670,671,672,673,674,675,676,677,678,679,680,681,682,683,684,685,686,687,688,689,690,691,692,693,694,695,696,697,698,699,700,701,702,703,704,705,706,707,708,709,710,711,712,713,714,715,716,717,718,719,720,721,722,723,724,725,726,727,728,729,730,731,732,733,734,735,736,737,738,739,740,741,742,743,744,745,746,747,748,749,750,751,752,753,754,755,756,757,758,759,760,761,762,763,764,765,766,767,768,769,770,771,772,773,774,775,776,777,778,779,780,781,782,783,784,785,786,787,788,789,790,791,792,793,794,795,796,797,798,799,800,801,802,803,804,805,806,807,808,809,810,811,812,813,814,815,816,817,818,819,820,821,822,823,824,825,826,827,828,829,830,831,832,833,834,835,836,837,838,839,840,841,842,843,844,845,846,847,848,849,850,851,852,853,854,855,856,857,858,859,860,861,862,863,864,865,866,867,868,869,870,871,872,873,874,875,876,877,878,879,880,881,882,883,884,885,886,887,888,889,890,891,892,893,894,895,896,897,898,899,900,901,902,903,904,905,906,907,908,909,910,911,912,913,914,915,916,917,918,919,920,921,922,923,924,925,926,927,928,929,930,931,932,933,934,935,936,937,938,939,940,941,942,943,944,945,946,947,948,949,950,951,952,953,954,955,956,957,958,959,960,961,962,963,964,965,966,967,968,969,970,971,972,973,974,975,976,977,978,979,980,981,982,983,984,985,986,987,988,989,990,991,992,993,994,995,996,997,998,999,1000,1001,1002,1003,1004,1005,1006,1007,1008,1009,1010,1011,1012,1013,1014,1015,1016,1017,1018,1019,1020,1021,1022,1023,1024,1025,1026,1027,1028,1029,1030,1031,1032,1033,1034,1035,1036,1037,1038,1039,1040,1041,1042,1043,1044,1045,1046,1047,1048,1049,1050,1051,1052,1053,1054,1055,1056,1057,1058,1059,1060,1061,1062,1063,1064,1065,1066,1067,1068,1069,1070,1071,1072,1073,1074,1075,1076,1077,1078,1079,1080,1081,1082,1083,1084,1085,1086,1087,1088,1089,1090,1091,1092,1093,1094,1095,1096,1097,1098,1099,1100,1101,1102,1103,1104,1105,1106,1107,1108,1109,1110,1111,1112,1113,1114,1115,1116,1117,1118,1119,1120,1121,1122,1123,1124,1125,1126,1127,1128,1129,1130,1131,1132,1133,1134,1135,1136,1137,1138,1139,1140,1141,1142,1143,1144,1145,1146,1147,1148,1149,1150,1151,1152,1153,1154,1155,1156,1157,1158,1159,1160,1161,1162,1163,1164,1165,1166,1167,1168,1169,1170,1171,1172,1173,1174,1175,1176,1177,1178,1179,1180,1181,1182,1183,1184,1185,1186,1187,1188,1189,1190,1191,1192,1193,1194,1195,1196,1197,1198,1199,1200,1201,1202,1203,1204,1205,1206,1207,1208,1209,1210,1211,1212,1213,1214,1215,1216,1217,1218,1219,1220,1221,1222,1223,1224,1225,1226,1227,1228,1229,1230,1231,1232,1233,1234,1235,1236,1237,1238,1239,1240,1241,1242,1243,1244,1245,1246,1247,1248,1249,1250,1251,1252,1253,1254,1255,1256,1257,1258,1259,1260,1261,1262,1263,1264,1265,1266,1267,1268,1269,1270,1271,1272,1273,1274,1275,1276,1277,1278,1279,1280,1281,1282,1283,1284,1285,1286,1287,1288,1289,1290,1291,1292,1293,1294,1295,1296,1297,1298,1299,1300,1301,1302,1303,1304,1305,1306,1307,1308,1309,1310,1311,1312,1313,1314,1315,1316,1317,1318,1319,1320,1321,1322,1323,1324,1325,1326,1327,1328,1329,1330,1331,1332,1333,1334,1335,1336,1337,1338,1339,1340,1341,1342,1343,1344,1345,1346,1347,1348,1349,1350,1351,1352,1353,1354,1355,1356,1357,1358,1359,1360,1361,1362,1363,1364,1365,1366,1367,1368,1369,1370,1371,1372,1373,1374,1375,1376,1377,1378,1379,1380,1381,1382,1383,1384,1385,1386,1387,1388,1389,1390,1391,1392,1393,1394,1395,1396,1397,1398,1399,1400,1401,1402,1403,1404,1405,1406,1407,1408,1409,1410,1411,1412,1413,1414,1415,1416,1417,1418,1419,1420,1421,1422,1423,1424,1425,1426,1427,1428,1429,1430,1431,1432,1433,1434,1435,1436,1437,1438,1439,1440,1441,1442,1443,1444,1445,1446,1447,1448,1449,1450,1451,1452,1453,1454,1455,1456,1457,1458,1459,1460,1461,1462,1463,1464,1465,1466,1467,1468,1469,1470,1471,1472,1473,1474,1475,1476,1477,1478,1479,1480,1481,1482,1483,1484,1485,1486,1487,1488,1489,1490,1491,1492,1493,1494,1495,1496,1497,1498,1499,1500,1501,1502,1503,1504,1505,1506,1507,1508,1509,1510,1511,1512,1513,1514,1515,1516,1517,1518,1519,1520,1521,1522,1523,1524,1525,1526,1527,1528,1529,1530,1531,1532,1533,1534,1535,1536,1537,1538,1539,1540,1541,1542,1543,1544,1545,1546,1547,1548,1549,1550,1551,1552,1553,1554,1555,1556,1557,1558,1559,1560,1561,1562,1563,1564,1565,1566,1567,1568,1569,1570,1571,1572,1573,1574,1575,1576,1577,1578,1579,1580,1581,1582,1583,1584,1585,1586,1587,1588,1589,1590,1591,1592,1593,1594,1595,1596,1597,1598,1599,1600,1601,1602,1603,1605,1606,1607,1608,1609,1610,1611,1612,1613,1614,1615,1616,1617,1618,1619,1620,1621,1622,1623,1624,1625,1626,1627,1628,1629,1630,1637,1638,1639,1640,1641,1642,1643,1644,1645,1646,1647,1648,1649,1650,1651,1652,1653,1654,1655,1656,1657,1658,1659,1660,1661,1662,1663,1664,1665,1666,1667,1668,1669,1670,1671,1672,1673,1674,1675,1676,1677,1678,1679,1680,1681,1682,1683,1684,1685,1686,1687,1688,1689,1690,1691,1692,1693,1694,1695,1696,1697,1698,1699,1700,1701,1702,1703,1704,1705,1706,1707,1708,1709,1710,1711,1712,1713,1714,1715,1716,1717,1718,1719,1720,1721,1722,1723,1724,1725,1726,1727,1728,1729) have mixed types.Specify dtype option on import or set low_memory=False.\n",
      "  interactivity=interactivity, compiler=compiler, result=result)\n"
     ]
    }
   ],
   "source": [
    "df = pd.read_csv('/content/drive/MyDrive/StudentDebt/Scorecard.csv')"
   ]
  },
  {
   "cell_type": "code",
   "execution_count": 6,
   "metadata": {
    "colab": {
     "base_uri": "https://localhost:8080/"
    },
    "id": "T9kbr_iGlTr0",
    "outputId": "3b10ad01-9096-4112-cb3d-d92961a73e3c"
   },
   "outputs": [
    {
     "name": "stdout",
     "output_type": "stream",
     "text": [
      "Drive already mounted at /content/drive; to attempt to forcibly remount, call drive.mount(\"/content/drive\", force_remount=True).\n"
     ]
    }
   ],
   "source": [
    "from google.colab import drive\n",
    "drive.mount('/content/drive')"
   ]
  },
  {
   "cell_type": "code",
   "execution_count": 3,
   "metadata": {
    "colab": {
     "base_uri": "https://localhost:8080/",
     "height": 441
    },
    "id": "w5am8IrntjfQ",
    "outputId": "1e3ebb0b-543f-4a8f-a0d5-1c44973badd4"
   },
   "outputs": [
    {
     "data": {
      "text/html": [
       "<div>\n",
       "<style scoped>\n",
       "    .dataframe tbody tr th:only-of-type {\n",
       "        vertical-align: middle;\n",
       "    }\n",
       "\n",
       "    .dataframe tbody tr th {\n",
       "        vertical-align: top;\n",
       "    }\n",
       "\n",
       "    .dataframe thead th {\n",
       "        text-align: right;\n",
       "    }\n",
       "</style>\n",
       "<table border=\"1\" class=\"dataframe\">\n",
       "  <thead>\n",
       "    <tr style=\"text-align: right;\">\n",
       "      <th></th>\n",
       "      <th>0</th>\n",
       "      <th>1</th>\n",
       "      <th>2</th>\n",
       "      <th>3</th>\n",
       "      <th>4</th>\n",
       "    </tr>\n",
       "  </thead>\n",
       "  <tbody>\n",
       "    <tr>\n",
       "      <th>Id</th>\n",
       "      <td>1</td>\n",
       "      <td>2</td>\n",
       "      <td>3</td>\n",
       "      <td>4</td>\n",
       "      <td>5</td>\n",
       "    </tr>\n",
       "    <tr>\n",
       "      <th>UNITID</th>\n",
       "      <td>100636</td>\n",
       "      <td>100654</td>\n",
       "      <td>100663</td>\n",
       "      <td>100672</td>\n",
       "      <td>100690</td>\n",
       "    </tr>\n",
       "    <tr>\n",
       "      <th>OPEID</th>\n",
       "      <td>01230800</td>\n",
       "      <td>00100200</td>\n",
       "      <td>00105200</td>\n",
       "      <td>00574900</td>\n",
       "      <td>02503400</td>\n",
       "    </tr>\n",
       "    <tr>\n",
       "      <th>opeid6</th>\n",
       "      <td>12308</td>\n",
       "      <td>1002</td>\n",
       "      <td>1052</td>\n",
       "      <td>5749</td>\n",
       "      <td>25034</td>\n",
       "    </tr>\n",
       "    <tr>\n",
       "      <th>INSTNM</th>\n",
       "      <td>COMMUNITY COLLEGE OF THE AIR FORCE</td>\n",
       "      <td>ALABAMA A &amp; M UNIVERSITY</td>\n",
       "      <td>UNIVERSITY OF ALABAMA AT BIRMINGHAM</td>\n",
       "      <td>ALABAMA AVIATION AND TECHNICAL COLLEGE</td>\n",
       "      <td>SOUTHERN CHRISTIAN UNIVERSITY</td>\n",
       "    </tr>\n",
       "    <tr>\n",
       "      <th>...</th>\n",
       "      <td>...</td>\n",
       "      <td>...</td>\n",
       "      <td>...</td>\n",
       "      <td>...</td>\n",
       "      <td>...</td>\n",
       "    </tr>\n",
       "    <tr>\n",
       "      <th>C150_L4_POOLED_SUPP</th>\n",
       "      <td>NaN</td>\n",
       "      <td>NaN</td>\n",
       "      <td>NaN</td>\n",
       "      <td>NaN</td>\n",
       "      <td>NaN</td>\n",
       "    </tr>\n",
       "    <tr>\n",
       "      <th>C150_4_POOLED_SUPP</th>\n",
       "      <td>NaN</td>\n",
       "      <td>NaN</td>\n",
       "      <td>NaN</td>\n",
       "      <td>NaN</td>\n",
       "      <td>NaN</td>\n",
       "    </tr>\n",
       "    <tr>\n",
       "      <th>C200_L4_POOLED_SUPP</th>\n",
       "      <td>NaN</td>\n",
       "      <td>NaN</td>\n",
       "      <td>NaN</td>\n",
       "      <td>NaN</td>\n",
       "      <td>NaN</td>\n",
       "    </tr>\n",
       "    <tr>\n",
       "      <th>C200_4_POOLED_SUPP</th>\n",
       "      <td>NaN</td>\n",
       "      <td>NaN</td>\n",
       "      <td>NaN</td>\n",
       "      <td>NaN</td>\n",
       "      <td>NaN</td>\n",
       "    </tr>\n",
       "    <tr>\n",
       "      <th>Year</th>\n",
       "      <td>1996</td>\n",
       "      <td>1996</td>\n",
       "      <td>1996</td>\n",
       "      <td>1996</td>\n",
       "      <td>1996</td>\n",
       "    </tr>\n",
       "  </tbody>\n",
       "</table>\n",
       "<p>1731 rows × 5 columns</p>\n",
       "</div>"
      ],
      "text/plain": [
       "                                                      0  ...                              4\n",
       "Id                                                    1  ...                              5\n",
       "UNITID                                           100636  ...                         100690\n",
       "OPEID                                          01230800  ...                       02503400\n",
       "opeid6                                            12308  ...                          25034\n",
       "INSTNM               COMMUNITY COLLEGE OF THE AIR FORCE  ...  SOUTHERN CHRISTIAN UNIVERSITY\n",
       "...                                                 ...  ...                            ...\n",
       "C150_L4_POOLED_SUPP                                 NaN  ...                            NaN\n",
       "C150_4_POOLED_SUPP                                  NaN  ...                            NaN\n",
       "C200_L4_POOLED_SUPP                                 NaN  ...                            NaN\n",
       "C200_4_POOLED_SUPP                                  NaN  ...                            NaN\n",
       "Year                                               1996  ...                           1996\n",
       "\n",
       "[1731 rows x 5 columns]"
      ]
     },
     "execution_count": 3,
     "metadata": {
      "tags": []
     },
     "output_type": "execute_result"
    }
   ],
   "source": [
    "df.head().T"
   ]
  },
  {
   "cell_type": "code",
   "execution_count": 9,
   "metadata": {
    "colab": {
     "base_uri": "https://localhost:8080/"
    },
    "id": "8tmWiMdQtq-U",
    "outputId": "9ad3e4c4-b1f1-477e-b2d5-673cbcdccefe"
   },
   "outputs": [
    {
     "data": {
      "text/plain": [
       "(124699, 1731)"
      ]
     },
     "execution_count": 9,
     "metadata": {
      "tags": []
     },
     "output_type": "execute_result"
    }
   ],
   "source": [
    "df.shape"
   ]
  },
  {
   "cell_type": "code",
   "execution_count": 4,
   "metadata": {
    "id": "6afJ15XOtu0T"
   },
   "outputs": [],
   "source": [
    "data_dictionary = pd.read_csv('/content/drive/MyDrive/StudentDebt/CollegeScorecardDataDictionary-09-12-2015.csv')"
   ]
  },
  {
   "cell_type": "code",
   "execution_count": 5,
   "metadata": {
    "colab": {
     "base_uri": "https://localhost:8080/"
    },
    "id": "nSrEVZBe0Fif",
    "outputId": "efef94a1-fd8f-410a-9e4d-feaebc4970c7"
   },
   "outputs": [
    {
     "data": {
      "text/plain": [
       "Index(['NAME OF DATA ELEMENT', 'Year', 'dev-category',\n",
       "       'developer-friendly name', 'VARIABLE NAME', 'API data type', 'label',\n",
       "       'VALUE', 'LABEL', 'SCORECARD? Y/N', 'SOURCE', 'NOTES'],\n",
       "      dtype='object')"
      ]
     },
     "execution_count": 5,
     "metadata": {
      "tags": []
     },
     "output_type": "execute_result"
    }
   ],
   "source": [
    "data_dictionary.columns"
   ]
  },
  {
   "cell_type": "code",
   "execution_count": 28,
   "metadata": {
    "colab": {
     "base_uri": "https://localhost:8080/"
    },
    "id": "Ij4emmnm0l-O",
    "outputId": "a56f514c-e6a4-4df1-85d5-92524f6564f6"
   },
   "outputs": [
    {
     "data": {
      "text/plain": [
       "Index(['Id', 'UNITID', 'OPEID', 'opeid6', 'INSTNM', 'CITY', 'STABBR', 'ZIP',\n",
       "       'AccredAgency', 'INSTURL',\n",
       "       ...\n",
       "       'NOPELL_RPY_3YR_RT_SUPP', 'FEMALE_RPY_3YR_RT_SUPP',\n",
       "       'MALE_RPY_3YR_RT_SUPP', 'FIRSTGEN_RPY_3YR_RT_SUPP',\n",
       "       'NOTFIRSTGEN_RPY_3YR_RT_SUPP', 'C150_L4_POOLED_SUPP',\n",
       "       'C150_4_POOLED_SUPP', 'C200_L4_POOLED_SUPP', 'C200_4_POOLED_SUPP',\n",
       "       'Year'],\n",
       "      dtype='object', length=1731)"
      ]
     },
     "execution_count": 28,
     "metadata": {
      "tags": []
     },
     "output_type": "execute_result"
    }
   ],
   "source": [
    "df.columns"
   ]
  },
  {
   "cell_type": "code",
   "execution_count": 27,
   "metadata": {
    "colab": {
     "base_uri": "https://localhost:8080/",
     "height": 426
    },
    "id": "WFJxEhHr0Ni4",
    "outputId": "448367be-a221-4e30-d4a3-70aeb2f03cd3"
   },
   "outputs": [
    {
     "data": {
      "text/html": [
       "<div>\n",
       "<style scoped>\n",
       "    .dataframe tbody tr th:only-of-type {\n",
       "        vertical-align: middle;\n",
       "    }\n",
       "\n",
       "    .dataframe tbody tr th {\n",
       "        vertical-align: top;\n",
       "    }\n",
       "\n",
       "    .dataframe thead th {\n",
       "        text-align: right;\n",
       "    }\n",
       "</style>\n",
       "<table border=\"1\" class=\"dataframe\">\n",
       "  <thead>\n",
       "    <tr style=\"text-align: right;\">\n",
       "      <th></th>\n",
       "      <th>0</th>\n",
       "      <th>1</th>\n",
       "      <th>2</th>\n",
       "      <th>3</th>\n",
       "      <th>4</th>\n",
       "    </tr>\n",
       "  </thead>\n",
       "  <tbody>\n",
       "    <tr>\n",
       "      <th>NAME OF DATA ELEMENT</th>\n",
       "      <td>Unit ID for institution</td>\n",
       "      <td>8-digit OPE ID for institution</td>\n",
       "      <td>6-digit OPE ID for institution</td>\n",
       "      <td>Institution name</td>\n",
       "      <td>City</td>\n",
       "    </tr>\n",
       "    <tr>\n",
       "      <th>Year</th>\n",
       "      <td>NaN</td>\n",
       "      <td>NaN</td>\n",
       "      <td>NaN</td>\n",
       "      <td>2013</td>\n",
       "      <td>2013</td>\n",
       "    </tr>\n",
       "    <tr>\n",
       "      <th>dev-category</th>\n",
       "      <td>root</td>\n",
       "      <td>root</td>\n",
       "      <td>root</td>\n",
       "      <td>school</td>\n",
       "      <td>school</td>\n",
       "    </tr>\n",
       "    <tr>\n",
       "      <th>developer-friendly name</th>\n",
       "      <td>id</td>\n",
       "      <td>ope8_id</td>\n",
       "      <td>ope6_id</td>\n",
       "      <td>name</td>\n",
       "      <td>city</td>\n",
       "    </tr>\n",
       "    <tr>\n",
       "      <th>VARIABLE NAME</th>\n",
       "      <td>UNITID</td>\n",
       "      <td>OPEID</td>\n",
       "      <td>opeid6</td>\n",
       "      <td>INSTNM</td>\n",
       "      <td>CITY</td>\n",
       "    </tr>\n",
       "    <tr>\n",
       "      <th>API data type</th>\n",
       "      <td>integer</td>\n",
       "      <td>integer</td>\n",
       "      <td>integer</td>\n",
       "      <td>string</td>\n",
       "      <td>string</td>\n",
       "    </tr>\n",
       "    <tr>\n",
       "      <th>label</th>\n",
       "      <td>NaN</td>\n",
       "      <td>NaN</td>\n",
       "      <td>NaN</td>\n",
       "      <td>NaN</td>\n",
       "      <td>NaN</td>\n",
       "    </tr>\n",
       "    <tr>\n",
       "      <th>VALUE</th>\n",
       "      <td>NaN</td>\n",
       "      <td>NaN</td>\n",
       "      <td>NaN</td>\n",
       "      <td>NaN</td>\n",
       "      <td>NaN</td>\n",
       "    </tr>\n",
       "    <tr>\n",
       "      <th>LABEL</th>\n",
       "      <td>NaN</td>\n",
       "      <td>NaN</td>\n",
       "      <td>NaN</td>\n",
       "      <td>NaN</td>\n",
       "      <td>NaN</td>\n",
       "    </tr>\n",
       "    <tr>\n",
       "      <th>SCORECARD? Y/N</th>\n",
       "      <td>NaN</td>\n",
       "      <td>NaN</td>\n",
       "      <td>NaN</td>\n",
       "      <td>Y</td>\n",
       "      <td>Y</td>\n",
       "    </tr>\n",
       "    <tr>\n",
       "      <th>SOURCE</th>\n",
       "      <td>IPEDS</td>\n",
       "      <td>IPEDS</td>\n",
       "      <td>IPEDS</td>\n",
       "      <td>IPEDS</td>\n",
       "      <td>IPEDS</td>\n",
       "    </tr>\n",
       "    <tr>\n",
       "      <th>NOTES</th>\n",
       "      <td>NaN</td>\n",
       "      <td>NaN</td>\n",
       "      <td>NaN</td>\n",
       "      <td>NaN</td>\n",
       "      <td>NaN</td>\n",
       "    </tr>\n",
       "  </tbody>\n",
       "</table>\n",
       "</div>"
      ],
      "text/plain": [
       "                                               0  \\\n",
       "NAME OF DATA ELEMENT     Unit ID for institution   \n",
       "Year                     NaN                       \n",
       "dev-category             root                      \n",
       "developer-friendly name  id                        \n",
       "VARIABLE NAME            UNITID                    \n",
       "API data type            integer                   \n",
       "label                    NaN                       \n",
       "VALUE                    NaN                       \n",
       "LABEL                    NaN                       \n",
       "SCORECARD? Y/N           NaN                       \n",
       "SOURCE                   IPEDS                     \n",
       "NOTES                    NaN                       \n",
       "\n",
       "                                                      1  \\\n",
       "NAME OF DATA ELEMENT     8-digit OPE ID for institution   \n",
       "Year                     NaN                              \n",
       "dev-category             root                             \n",
       "developer-friendly name  ope8_id                          \n",
       "VARIABLE NAME            OPEID                            \n",
       "API data type            integer                          \n",
       "label                    NaN                              \n",
       "VALUE                    NaN                              \n",
       "LABEL                    NaN                              \n",
       "SCORECARD? Y/N           NaN                              \n",
       "SOURCE                   IPEDS                            \n",
       "NOTES                    NaN                              \n",
       "\n",
       "                                                      2                 3  \\\n",
       "NAME OF DATA ELEMENT     6-digit OPE ID for institution  Institution name   \n",
       "Year                     NaN                             2013               \n",
       "dev-category             root                            school             \n",
       "developer-friendly name  ope6_id                         name               \n",
       "VARIABLE NAME            opeid6                          INSTNM             \n",
       "API data type            integer                         string             \n",
       "label                    NaN                             NaN                \n",
       "VALUE                    NaN                             NaN                \n",
       "LABEL                    NaN                             NaN                \n",
       "SCORECARD? Y/N           NaN                             Y                  \n",
       "SOURCE                   IPEDS                           IPEDS              \n",
       "NOTES                    NaN                             NaN                \n",
       "\n",
       "                              4  \n",
       "NAME OF DATA ELEMENT     City    \n",
       "Year                     2013    \n",
       "dev-category             school  \n",
       "developer-friendly name  city    \n",
       "VARIABLE NAME            CITY    \n",
       "API data type            string  \n",
       "label                    NaN     \n",
       "VALUE                    NaN     \n",
       "LABEL                    NaN     \n",
       "SCORECARD? Y/N           Y       \n",
       "SOURCE                   IPEDS   \n",
       "NOTES                    NaN     "
      ]
     },
     "execution_count": 27,
     "metadata": {
      "tags": []
     },
     "output_type": "execute_result"
    }
   ],
   "source": [
    "data_dictionary.head().T"
   ]
  },
  {
   "cell_type": "code",
   "execution_count": 55,
   "metadata": {
    "id": "wU7R3zKurJux"
   },
   "outputs": [],
   "source": [
    "columns_list = ['City', 'Institution name', 'Predominant degree awarded  Average cost of attendance (academic year institutions)', \n",
    "                'Admission rate',\n",
    "                'Average cost of attendance (program-year institutions)', \n",
    "                'In-state tuition and fees', 'Out-of-state tuition and fees',\n",
    "                'Aided students with family incomes between $30,001-$48,000 in nominal dollars', \n",
    "                'Aided students with family incomes between $48,001-$75,000 in nominal dollars', \n",
    "                'Aided students with family incomes between $75,001-$110,000 in nominal dollars', \n",
    "                'Aided students with family incomes between $110,001+ in nominal dollars',\n",
    "                'Dependent students with family incomes between $30,001-$48,000 in nominal dollars', \n",
    "                'Dependent students with family incomes between $48,001-$75,000 in nominal dollars',                                                                                                                                                                         \n",
    "                'Dependent students with family incomes between $75,001-$110,000 in nominal dollars', \n",
    "                'Dependent students with family incomes between $110,001+ in nominal dollars',                                                                                                                                                                               \n",
    "                'Independent students with family incomes between $30,001-$48,000 in nominal dollars',                                                                                                                                                                       \n",
    "                'Independent students with family incomes between $48,001-$75,000 in nominal dollars',                                                                                                                                                                        \n",
    "                'Independent students with family incomes between $75,001-$110,000 in nominal dollars',   \n",
    "                'Number of Pell students in overall 2-year completion cohort',                                                                                                                                                                                               \n",
    "                'Number of no-Pell students in overall 2-year completion cohort  ',   \n",
    "                'Number of loan students in overall 2-year completion cohort',                                                                                                                                                                                              \n",
    "                'Number of no-loan students in overall 2-year completion cohort',\n",
    "                'Number of Pell students in overall 3-year completion cohort',                                                                                                                                                                                              \n",
    "                'Number of no-Pell students in overall 3-year completion cohort',                                                                                                                                                                                            \n",
    "                'Number of loan students in overall 3-year completion cohort',                                                                                                                                                                                              \n",
    "                'Number of no-loan students in overall 3-year completion cohort',  \n",
    "                'Number of dependent students in overall 4-year completion cohort',                                                                                                                                                                                          \n",
    "                'Number of independent students in overall 4-year completion cohort',\n",
    "                'Number of Pell students in overall 4-year completion cohort',                                                                                                                                                                                               \n",
    "                'Number of no-Pell students in overall 4-year completion cohort',                                                                                                                                                                                            \n",
    "                'Number of loan students in overall 4-year completion cohort',                                                                                                                                                                                               \n",
    "                'Number of no-loan students in overall 4-year completion cohort', \n",
    "                'The median debt for students who have completed',                                                                                                                                                                                                          \n",
    "                'The median debt for students who have not completed',                                                                                                                                                                                                       \n",
    "                'The median debt for students with family income between $0-$30,000',                                                                                                                                                                                      \n",
    "                'The median debt for students with family income between $30,001-$75,000',                                                                                                                                                                                   \n",
    "                'The median debt for students with family income $75,001+',                                                                                                                                                                                                 \n",
    "                'The median debt for dependent students',                                                                                                                                                                                                                   \n",
    "                'The median debt for independent students',                                                                                                                                                                                                                  \n",
    "                'The median debt for Pell students',                                                                                                                                                                                                                        \n",
    "                'The median debt for no-Pell students' ,                                                                                                                                                                                                                    \n",
    "                'The median debt for female students',                                                                                                                                                                                                                       \n",
    "                'The median debt for male students',                                                                                                                                                                                                                        \n",
    "                'The median debt for first-generation students',                                                                                                                                                                                                           \n",
    "                'The median debt for not-first-generation students', \n",
    "                'Share of students who received a federal loan while in school',                                                                                                                                                                                            \n",
    "                'Share of students who received a Pell Grant while in school',  \n",
    "                'Median household income',                                                                                                                                                                                                                                   \n",
    "                'Poverty rate, via Census data',                                                                                                                                                                                                                             \n",
    "                'Unemployment rate, via Census data']"
   ]
  },
  {
   "cell_type": "code",
   "execution_count": 6,
   "metadata": {
    "colab": {
     "base_uri": "https://localhost:8080/"
    },
    "id": "_VammgSmunA4",
    "outputId": "282d1705-2317-412f-9228-1f66ba5514c4"
   },
   "outputs": [
    {
     "name": "stderr",
     "output_type": "stream",
     "text": [
      "/usr/local/lib/python3.6/dist-packages/ipykernel_launcher.py:1: FutureWarning: Passing a negative integer is deprecated in version 1.0 and will not be supported in future version. Instead, use None to not limit the column width.\n",
      "  \"\"\"Entry point for launching an IPython kernel.\n"
     ]
    }
   ],
   "source": [
    "pd.set_option('display.max_colwidth', -1)\n",
    "pd.set_option('max_rows', 99999)\n",
    "pd.set_option('max_columns', 99999)"
   ]
  },
  {
   "cell_type": "code",
   "execution_count": 6,
   "metadata": {
    "colab": {
     "base_uri": "https://localhost:8080/"
    },
    "id": "EmvOpELwuD-U",
    "outputId": "5d1c6a1e-b415-483c-904e-29e924723f4d"
   },
   "outputs": [
    {
     "data": {
      "text/plain": [
       "<bound method Series.unique of 0                                 Unit ID for institution\n",
       "1                          8-digit OPE ID for institution\n",
       "2                          6-digit OPE ID for institution\n",
       "3                                        Institution name\n",
       "4                                                    City\n",
       "                              ...                        \n",
       "1948    3-year repayment rate for non-first-generation...\n",
       "1949    150% completion rate for less-than-four-year i...\n",
       "1950    150% completion rate for four-year institution...\n",
       "1951    200% completion rate for less-than-four-year i...\n",
       "1952    200% completion rate for four-year institution...\n",
       "Name: NAME OF DATA ELEMENT, Length: 1953, dtype: object>"
      ]
     },
     "execution_count": 6,
     "metadata": {
      "tags": []
     },
     "output_type": "execute_result"
    }
   ],
   "source": [
    "data_dictionary['NAME OF DATA ELEMENT'].unique"
   ]
  },
  {
   "cell_type": "code",
   "execution_count": 16,
   "metadata": {
    "id": "uU6DstFMy6Zk"
   },
   "outputs": [],
   "source": [
    "data_dictionary.drop_duplicates(['NAME OF DATA ELEMENT'], inplace=True)"
   ]
  },
  {
   "cell_type": "code",
   "execution_count": 56,
   "metadata": {
    "id": "IU-lZVg7wINW"
   },
   "outputs": [],
   "source": [
    "# Creating dictionary of column labels with column names as keys \n",
    "def columns_dict(columns): \n",
    "  result = {}\n",
    "  for column in columns: \n",
    "    variable = data_dictionary.loc[data_dictionary['NAME OF DATA ELEMENT'] == column]['VARIABLE NAME']\n",
    "    if variable.empty: \n",
    "      variable =['None']\n",
    "    else: \n",
    "      variable = [variable.iloc[0]]\n",
    "    result[column] = variable\n",
    "  return pd.DataFrame.from_dict(result, orient='index')  \n"
   ]
  },
  {
   "cell_type": "code",
   "execution_count": 57,
   "metadata": {
    "id": "-a1XeBRzxo45"
   },
   "outputs": [],
   "source": [
    "columns_dictionary = columns_dict(columns_list)\n"
   ]
  },
  {
   "cell_type": "code",
   "execution_count": 58,
   "metadata": {
    "id": "XaxPLFl1DJk0"
   },
   "outputs": [],
   "source": [
    "columns_dictionary.columns = ['Variable']"
   ]
  },
  {
   "cell_type": "code",
   "execution_count": 59,
   "metadata": {
    "id": "-tnIC88MFJaN"
   },
   "outputs": [],
   "source": [
    "columns=columns_dictionary['Variable'].to_list()"
   ]
  },
  {
   "cell_type": "code",
   "execution_count": 60,
   "metadata": {
    "id": "fRGRLzLUbzO5"
   },
   "outputs": [],
   "source": [
    "columns.remove( 'None')"
   ]
  },
  {
   "cell_type": "code",
   "execution_count": 61,
   "metadata": {
    "colab": {
     "base_uri": "https://localhost:8080/"
    },
    "id": "2HPc0moRcCLY",
    "outputId": "0e477322-cc3d-4428-9a7a-2f179930cbe0"
   },
   "outputs": [
    {
     "data": {
      "text/plain": [
       "['CITY',\n",
       " 'INSTNM',\n",
       " 'ADM_RATE',\n",
       " 'COSTT4_P',\n",
       " 'TUITIONFEE_IN',\n",
       " 'TUITIONFEE_OUT',\n",
       " 'INC_PCT_M1',\n",
       " 'INC_PCT_M2',\n",
       " 'INC_PCT_H1',\n",
       " 'INC_PCT_H2',\n",
       " 'DEP_INC_PCT_M1',\n",
       " 'DEP_INC_PCT_M2',\n",
       " 'DEP_INC_PCT_H1',\n",
       " 'DEP_INC_PCT_H2',\n",
       " 'IND_INC_PCT_M1',\n",
       " 'IND_INC_PCT_M2',\n",
       " 'IND_INC_PCT_H1',\n",
       " 'PELL_YR2_N',\n",
       " 'None',\n",
       " 'LOAN_YR2_N',\n",
       " 'NOLOAN_YR2_N',\n",
       " 'PELL_YR3_N',\n",
       " 'NOPELL_YR3_N',\n",
       " 'LOAN_YR3_N',\n",
       " 'NOLOAN_YR3_N',\n",
       " 'DEP_YR4_N',\n",
       " 'IND_YR4_N',\n",
       " 'PELL_YR4_N',\n",
       " 'NOPELL_YR4_N',\n",
       " 'LOAN_YR4_N',\n",
       " 'NOLOAN_YR4_N',\n",
       " 'GRAD_DEBT_MDN',\n",
       " 'WDRAW_DEBT_MDN',\n",
       " 'LO_INC_DEBT_MDN',\n",
       " 'MD_INC_DEBT_MDN',\n",
       " 'HI_INC_DEBT_MDN',\n",
       " 'DEP_DEBT_MDN',\n",
       " 'IND_DEBT_MDN',\n",
       " 'PELL_DEBT_MDN',\n",
       " 'NOPELL_DEBT_MDN',\n",
       " 'FEMALE_DEBT_MDN',\n",
       " 'MALE_DEBT_MDN',\n",
       " 'FIRSTGEN_DEBT_MDN',\n",
       " 'NOTFIRSTGEN_DEBT_MDN',\n",
       " 'loan_ever',\n",
       " 'pell_ever',\n",
       " 'median_hh_inc',\n",
       " 'poverty_rate',\n",
       " 'unemp_rate']"
      ]
     },
     "execution_count": 61,
     "metadata": {
      "tags": []
     },
     "output_type": "execute_result"
    }
   ],
   "source": [
    "columns"
   ]
  },
  {
   "cell_type": "code",
   "execution_count": 62,
   "metadata": {
    "colab": {
     "base_uri": "https://localhost:8080/",
     "height": 1000
    },
    "id": "ldHTi4X5_e5G",
    "outputId": "bdfe9836-1464-4696-e19d-868573bf3da5"
   },
   "outputs": [
    {
     "data": {
      "text/html": [
       "<div>\n",
       "<style scoped>\n",
       "    .dataframe tbody tr th:only-of-type {\n",
       "        vertical-align: middle;\n",
       "    }\n",
       "\n",
       "    .dataframe tbody tr th {\n",
       "        vertical-align: top;\n",
       "    }\n",
       "\n",
       "    .dataframe thead th {\n",
       "        text-align: right;\n",
       "    }\n",
       "</style>\n",
       "<table border=\"1\" class=\"dataframe\">\n",
       "  <thead>\n",
       "    <tr style=\"text-align: right;\">\n",
       "      <th></th>\n",
       "      <th>Variable</th>\n",
       "    </tr>\n",
       "  </thead>\n",
       "  <tbody>\n",
       "    <tr>\n",
       "      <th>City</th>\n",
       "      <td>CITY</td>\n",
       "    </tr>\n",
       "    <tr>\n",
       "      <th>Institution name</th>\n",
       "      <td>INSTNM</td>\n",
       "    </tr>\n",
       "    <tr>\n",
       "      <th>Predominant degree awarded  Average cost of attendance (academic year institutions)</th>\n",
       "      <td>None</td>\n",
       "    </tr>\n",
       "    <tr>\n",
       "      <th>Admission rate</th>\n",
       "      <td>ADM_RATE</td>\n",
       "    </tr>\n",
       "    <tr>\n",
       "      <th>Average cost of attendance (program-year institutions)</th>\n",
       "      <td>COSTT4_P</td>\n",
       "    </tr>\n",
       "    <tr>\n",
       "      <th>In-state tuition and fees</th>\n",
       "      <td>TUITIONFEE_IN</td>\n",
       "    </tr>\n",
       "    <tr>\n",
       "      <th>Out-of-state tuition and fees</th>\n",
       "      <td>TUITIONFEE_OUT</td>\n",
       "    </tr>\n",
       "    <tr>\n",
       "      <th>Aided students with family incomes between $30,001-$48,000 in nominal dollars</th>\n",
       "      <td>INC_PCT_M1</td>\n",
       "    </tr>\n",
       "    <tr>\n",
       "      <th>Aided students with family incomes between $48,001-$75,000 in nominal dollars</th>\n",
       "      <td>INC_PCT_M2</td>\n",
       "    </tr>\n",
       "    <tr>\n",
       "      <th>Aided students with family incomes between $75,001-$110,000 in nominal dollars</th>\n",
       "      <td>INC_PCT_H1</td>\n",
       "    </tr>\n",
       "    <tr>\n",
       "      <th>Aided students with family incomes between $110,001+ in nominal dollars</th>\n",
       "      <td>INC_PCT_H2</td>\n",
       "    </tr>\n",
       "    <tr>\n",
       "      <th>Dependent students with family incomes between $30,001-$48,000 in nominal dollars</th>\n",
       "      <td>DEP_INC_PCT_M1</td>\n",
       "    </tr>\n",
       "    <tr>\n",
       "      <th>Dependent students with family incomes between $48,001-$75,000 in nominal dollars</th>\n",
       "      <td>DEP_INC_PCT_M2</td>\n",
       "    </tr>\n",
       "    <tr>\n",
       "      <th>Dependent students with family incomes between $75,001-$110,000 in nominal dollars</th>\n",
       "      <td>DEP_INC_PCT_H1</td>\n",
       "    </tr>\n",
       "    <tr>\n",
       "      <th>Dependent students with family incomes between $110,001+ in nominal dollars</th>\n",
       "      <td>DEP_INC_PCT_H2</td>\n",
       "    </tr>\n",
       "    <tr>\n",
       "      <th>Independent students with family incomes between $30,001-$48,000 in nominal dollars</th>\n",
       "      <td>IND_INC_PCT_M1</td>\n",
       "    </tr>\n",
       "    <tr>\n",
       "      <th>Independent students with family incomes between $48,001-$75,000 in nominal dollars</th>\n",
       "      <td>IND_INC_PCT_M2</td>\n",
       "    </tr>\n",
       "    <tr>\n",
       "      <th>Independent students with family incomes between $75,001-$110,000 in nominal dollars</th>\n",
       "      <td>IND_INC_PCT_H1</td>\n",
       "    </tr>\n",
       "    <tr>\n",
       "      <th>Number of Pell students in overall 2-year completion cohort</th>\n",
       "      <td>PELL_YR2_N</td>\n",
       "    </tr>\n",
       "    <tr>\n",
       "      <th>Number of no-Pell students in overall 2-year completion cohort</th>\n",
       "      <td>None</td>\n",
       "    </tr>\n",
       "    <tr>\n",
       "      <th>Number of loan students in overall 2-year completion cohort</th>\n",
       "      <td>LOAN_YR2_N</td>\n",
       "    </tr>\n",
       "    <tr>\n",
       "      <th>Number of no-loan students in overall 2-year completion cohort</th>\n",
       "      <td>NOLOAN_YR2_N</td>\n",
       "    </tr>\n",
       "    <tr>\n",
       "      <th>Number of Pell students in overall 3-year completion cohort</th>\n",
       "      <td>PELL_YR3_N</td>\n",
       "    </tr>\n",
       "    <tr>\n",
       "      <th>Number of no-Pell students in overall 3-year completion cohort</th>\n",
       "      <td>NOPELL_YR3_N</td>\n",
       "    </tr>\n",
       "    <tr>\n",
       "      <th>Number of loan students in overall 3-year completion cohort</th>\n",
       "      <td>LOAN_YR3_N</td>\n",
       "    </tr>\n",
       "    <tr>\n",
       "      <th>Number of no-loan students in overall 3-year completion cohort</th>\n",
       "      <td>NOLOAN_YR3_N</td>\n",
       "    </tr>\n",
       "    <tr>\n",
       "      <th>Number of dependent students in overall 4-year completion cohort</th>\n",
       "      <td>DEP_YR4_N</td>\n",
       "    </tr>\n",
       "    <tr>\n",
       "      <th>Number of independent students in overall 4-year completion cohort</th>\n",
       "      <td>IND_YR4_N</td>\n",
       "    </tr>\n",
       "    <tr>\n",
       "      <th>Number of Pell students in overall 4-year completion cohort</th>\n",
       "      <td>PELL_YR4_N</td>\n",
       "    </tr>\n",
       "    <tr>\n",
       "      <th>Number of no-Pell students in overall 4-year completion cohort</th>\n",
       "      <td>NOPELL_YR4_N</td>\n",
       "    </tr>\n",
       "    <tr>\n",
       "      <th>Number of loan students in overall 4-year completion cohort</th>\n",
       "      <td>LOAN_YR4_N</td>\n",
       "    </tr>\n",
       "    <tr>\n",
       "      <th>Number of no-loan students in overall 4-year completion cohort</th>\n",
       "      <td>NOLOAN_YR4_N</td>\n",
       "    </tr>\n",
       "    <tr>\n",
       "      <th>The median debt for students who have completed</th>\n",
       "      <td>GRAD_DEBT_MDN</td>\n",
       "    </tr>\n",
       "    <tr>\n",
       "      <th>The median debt for students who have not completed</th>\n",
       "      <td>WDRAW_DEBT_MDN</td>\n",
       "    </tr>\n",
       "    <tr>\n",
       "      <th>The median debt for students with family income between $0-$30,000</th>\n",
       "      <td>LO_INC_DEBT_MDN</td>\n",
       "    </tr>\n",
       "    <tr>\n",
       "      <th>The median debt for students with family income between $30,001-$75,000</th>\n",
       "      <td>MD_INC_DEBT_MDN</td>\n",
       "    </tr>\n",
       "    <tr>\n",
       "      <th>The median debt for students with family income $75,001+</th>\n",
       "      <td>HI_INC_DEBT_MDN</td>\n",
       "    </tr>\n",
       "    <tr>\n",
       "      <th>The median debt for dependent students</th>\n",
       "      <td>DEP_DEBT_MDN</td>\n",
       "    </tr>\n",
       "    <tr>\n",
       "      <th>The median debt for independent students</th>\n",
       "      <td>IND_DEBT_MDN</td>\n",
       "    </tr>\n",
       "    <tr>\n",
       "      <th>The median debt for Pell students</th>\n",
       "      <td>PELL_DEBT_MDN</td>\n",
       "    </tr>\n",
       "    <tr>\n",
       "      <th>The median debt for no-Pell students</th>\n",
       "      <td>NOPELL_DEBT_MDN</td>\n",
       "    </tr>\n",
       "    <tr>\n",
       "      <th>The median debt for female students</th>\n",
       "      <td>FEMALE_DEBT_MDN</td>\n",
       "    </tr>\n",
       "    <tr>\n",
       "      <th>The median debt for male students</th>\n",
       "      <td>MALE_DEBT_MDN</td>\n",
       "    </tr>\n",
       "    <tr>\n",
       "      <th>The median debt for first-generation students</th>\n",
       "      <td>FIRSTGEN_DEBT_MDN</td>\n",
       "    </tr>\n",
       "    <tr>\n",
       "      <th>The median debt for not-first-generation students</th>\n",
       "      <td>NOTFIRSTGEN_DEBT_MDN</td>\n",
       "    </tr>\n",
       "    <tr>\n",
       "      <th>Share of students who received a federal loan while in school</th>\n",
       "      <td>loan_ever</td>\n",
       "    </tr>\n",
       "    <tr>\n",
       "      <th>Share of students who received a Pell Grant while in school</th>\n",
       "      <td>pell_ever</td>\n",
       "    </tr>\n",
       "    <tr>\n",
       "      <th>Median household income</th>\n",
       "      <td>median_hh_inc</td>\n",
       "    </tr>\n",
       "    <tr>\n",
       "      <th>Poverty rate, via Census data</th>\n",
       "      <td>poverty_rate</td>\n",
       "    </tr>\n",
       "    <tr>\n",
       "      <th>Unemployment rate, via Census data</th>\n",
       "      <td>unemp_rate</td>\n",
       "    </tr>\n",
       "  </tbody>\n",
       "</table>\n",
       "</div>"
      ],
      "text/plain": [
       "                                                                                                  Variable\n",
       "City                                                                                  CITY                \n",
       "Institution name                                                                      INSTNM              \n",
       "Predominant degree awarded  Average cost of attendance (academic year institutions)   None                \n",
       "Admission rate                                                                        ADM_RATE            \n",
       "Average cost of attendance (program-year institutions)                                COSTT4_P            \n",
       "In-state tuition and fees                                                             TUITIONFEE_IN       \n",
       "Out-of-state tuition and fees                                                         TUITIONFEE_OUT      \n",
       "Aided students with family incomes between $30,001-$48,000 in nominal dollars         INC_PCT_M1          \n",
       "Aided students with family incomes between $48,001-$75,000 in nominal dollars         INC_PCT_M2          \n",
       "Aided students with family incomes between $75,001-$110,000 in nominal dollars        INC_PCT_H1          \n",
       "Aided students with family incomes between $110,001+ in nominal dollars               INC_PCT_H2          \n",
       "Dependent students with family incomes between $30,001-$48,000 in nominal dollars     DEP_INC_PCT_M1      \n",
       "Dependent students with family incomes between $48,001-$75,000 in nominal dollars     DEP_INC_PCT_M2      \n",
       "Dependent students with family incomes between $75,001-$110,000 in nominal dollars    DEP_INC_PCT_H1      \n",
       "Dependent students with family incomes between $110,001+ in nominal dollars           DEP_INC_PCT_H2      \n",
       "Independent students with family incomes between $30,001-$48,000 in nominal dollars   IND_INC_PCT_M1      \n",
       "Independent students with family incomes between $48,001-$75,000 in nominal dollars   IND_INC_PCT_M2      \n",
       "Independent students with family incomes between $75,001-$110,000 in nominal dollars  IND_INC_PCT_H1      \n",
       "Number of Pell students in overall 2-year completion cohort                           PELL_YR2_N          \n",
       "Number of no-Pell students in overall 2-year completion cohort                        None                \n",
       "Number of loan students in overall 2-year completion cohort                           LOAN_YR2_N          \n",
       "Number of no-loan students in overall 2-year completion cohort                        NOLOAN_YR2_N        \n",
       "Number of Pell students in overall 3-year completion cohort                           PELL_YR3_N          \n",
       "Number of no-Pell students in overall 3-year completion cohort                        NOPELL_YR3_N        \n",
       "Number of loan students in overall 3-year completion cohort                           LOAN_YR3_N          \n",
       "Number of no-loan students in overall 3-year completion cohort                        NOLOAN_YR3_N        \n",
       "Number of dependent students in overall 4-year completion cohort                      DEP_YR4_N           \n",
       "Number of independent students in overall 4-year completion cohort                    IND_YR4_N           \n",
       "Number of Pell students in overall 4-year completion cohort                           PELL_YR4_N          \n",
       "Number of no-Pell students in overall 4-year completion cohort                        NOPELL_YR4_N        \n",
       "Number of loan students in overall 4-year completion cohort                           LOAN_YR4_N          \n",
       "Number of no-loan students in overall 4-year completion cohort                        NOLOAN_YR4_N        \n",
       "The median debt for students who have completed                                       GRAD_DEBT_MDN       \n",
       "The median debt for students who have not completed                                   WDRAW_DEBT_MDN      \n",
       "The median debt for students with family income between $0-$30,000                    LO_INC_DEBT_MDN     \n",
       "The median debt for students with family income between $30,001-$75,000               MD_INC_DEBT_MDN     \n",
       "The median debt for students with family income $75,001+                              HI_INC_DEBT_MDN     \n",
       "The median debt for dependent students                                                DEP_DEBT_MDN        \n",
       "The median debt for independent students                                              IND_DEBT_MDN        \n",
       "The median debt for Pell students                                                     PELL_DEBT_MDN       \n",
       "The median debt for no-Pell students                                                  NOPELL_DEBT_MDN     \n",
       "The median debt for female students                                                   FEMALE_DEBT_MDN     \n",
       "The median debt for male students                                                     MALE_DEBT_MDN       \n",
       "The median debt for first-generation students                                         FIRSTGEN_DEBT_MDN   \n",
       "The median debt for not-first-generation students                                     NOTFIRSTGEN_DEBT_MDN\n",
       "Share of students who received a federal loan while in school                         loan_ever           \n",
       "Share of students who received a Pell Grant while in school                           pell_ever           \n",
       "Median household income                                                               median_hh_inc       \n",
       "Poverty rate, via Census data                                                         poverty_rate        \n",
       "Unemployment rate, via Census data                                                    unemp_rate          "
      ]
     },
     "execution_count": 62,
     "metadata": {
      "tags": []
     },
     "output_type": "execute_result"
    }
   ],
   "source": [
    "columns_dictionary"
   ]
  },
  {
   "cell_type": "code",
   "execution_count": 18,
   "metadata": {
    "id": "fLV0agaGbc21"
   },
   "outputs": [],
   "source": [
    "df2=df[['CITY', 'ADM_RATE',\n",
    "  'INSTNM', 'median_hh_inc', 'poverty_rate', 'DEP_DEBT_MDN', 'IND_DEBT_MDN']].replace('PrivacySuppressed', np.NaN)"
   ]
  },
  {
   "cell_type": "code",
   "execution_count": 19,
   "metadata": {
    "id": "5DDOLcXxfxt3"
   },
   "outputs": [],
   "source": [
    "df2.to_csv('/content/drive/MyDrive/StudentDebt/simplified_scorecard.csv')"
   ]
  },
  {
   "cell_type": "code",
   "execution_count": 115,
   "metadata": {
    "colab": {
     "base_uri": "https://localhost:8080/"
    },
    "id": "euVvv3k8_jPY",
    "outputId": "94f889c2-7e7f-4301-aa3b-eaa2a70b6df1"
   },
   "outputs": [
    {
     "name": "stdout",
     "output_type": "stream",
     "text": [
      "LOAN_YR3_N\n"
     ]
    }
   ],
   "source": [
    "value = data_dictionary.loc[data_dictionary['NAME OF DATA ELEMENT']=='Number of loan students in overall 3-year completion cohort']['VARIABLE NAME'].item()\n",
    "print(value)"
   ]
  }
 ],
 "metadata": {
  "accelerator": "GPU",
  "colab": {
   "authorship_tag": "ABX9TyNxhJctSPTRXznDC1ZITBJU",
   "collapsed_sections": [],
   "include_colab_link": true,
   "mount_file_id": "1aYNfL4fd6g_hK9nmRF9-bQp3W7YDW_k1",
   "name": "Initial_analysis.ipynb",
   "provenance": []
  },
  "kernelspec": {
   "display_name": "Python 3",
   "language": "python",
   "name": "python3"
  },
  "language_info": {
   "codemirror_mode": {
    "name": "ipython",
    "version": 3
   },
   "file_extension": ".py",
   "mimetype": "text/x-python",
   "name": "python",
   "nbconvert_exporter": "python",
   "pygments_lexer": "ipython3",
   "version": "3.8.5"
  }
 },
 "nbformat": 4,
 "nbformat_minor": 1
}
