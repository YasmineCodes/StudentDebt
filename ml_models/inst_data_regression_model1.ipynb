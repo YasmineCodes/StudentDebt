{
 "cells": [
  {
   "cell_type": "code",
   "execution_count": 5,
   "id": "killing-making",
   "metadata": {},
   "outputs": [],
   "source": [
    "# PANDAS IS FOR DATA WRANGLING\n",
    "import pandas as pd\n",
    "import numpy as np\n",
    "# SEABORN IS A PLOTTING LIBRARY\n",
    "import seaborn as sns\n",
    "\n",
    "# MATPLOT LIB IS ALSO A PLOTTING LIBRARY\n",
    "import matplotlib.pyplot as plt\n",
    "\n",
    "# IMPORT OUR LINEAR REGRESSION MODEL\n",
    "from sklearn.linear_model import LinearRegression\n",
    "\n",
    "# IMPORT OUR RANDOM FOREST REGERSSOR MODEL\n",
    "from sklearn.ensemble import RandomForestRegressor\n",
    "\n",
    "\n",
    "# IM LEAVING THERES HERE BECAUSE IM NICE\n",
    "# METRICS HELP US SCORE OUR MODEL\n",
    "from sklearn import metrics\n",
    "\n",
    "# HELP US SPLIT OUR DATA INTO TESTING A TRAINING\n",
    "from sklearn.model_selection import train_test_split\n",
    "\n",
    "# HELPER FUNCTION WITH Z-SCORES TO REMOVE OUTLIERS\n",
    "import scipy.stats as stats\n",
    "\n",
    "%matplotlib inline\n",
    "\n",
    "import pickle"
   ]
  },
  {
   "cell_type": "code",
   "execution_count": 6,
   "id": "pregnant-briefs",
   "metadata": {},
   "outputs": [],
   "source": [
    "#Read in reduced institutional data \n",
    "na_vals = ['Na', 'NaN', 'PrivacySuppressed']\n",
    "df = pd.read_csv('../data/reduced_inst_data.csv', na_values=na_vals)"
   ]
  },
  {
   "cell_type": "code",
   "execution_count": 7,
   "id": "amber-cabinet",
   "metadata": {},
   "outputs": [
    {
     "data": {
      "text/html": [
       "<div>\n",
       "<style scoped>\n",
       "    .dataframe tbody tr th:only-of-type {\n",
       "        vertical-align: middle;\n",
       "    }\n",
       "\n",
       "    .dataframe tbody tr th {\n",
       "        vertical-align: top;\n",
       "    }\n",
       "\n",
       "    .dataframe thead th {\n",
       "        text-align: right;\n",
       "    }\n",
       "</style>\n",
       "<table border=\"1\" class=\"dataframe\">\n",
       "  <thead>\n",
       "    <tr style=\"text-align: right;\">\n",
       "      <th></th>\n",
       "      <th>Unnamed: 0</th>\n",
       "      <th>UNITID</th>\n",
       "      <th>INSTNM</th>\n",
       "      <th>CITY</th>\n",
       "      <th>STABBR</th>\n",
       "      <th>ACCREDAGENCY</th>\n",
       "      <th>CONTROL</th>\n",
       "      <th>COSTT4_A</th>\n",
       "      <th>COSTT4_P</th>\n",
       "      <th>TUITIONFEE_IN</th>\n",
       "      <th>...</th>\n",
       "      <th>MD_INC_DEBT_MDN</th>\n",
       "      <th>HI_INC_DEBT_MDN</th>\n",
       "      <th>DEP_DEBT_MDN</th>\n",
       "      <th>IND_DEBT_MDN</th>\n",
       "      <th>PELL_DEBT_MDN</th>\n",
       "      <th>NOPELL_DEBT_MDN</th>\n",
       "      <th>FEMALE_DEBT_MDN</th>\n",
       "      <th>MALE_DEBT_MDN</th>\n",
       "      <th>FIRSTGEN_DEBT_MDN</th>\n",
       "      <th>NOTFIRSTGEN_DEBT_MDN</th>\n",
       "    </tr>\n",
       "  </thead>\n",
       "  <tbody>\n",
       "    <tr>\n",
       "      <th>0</th>\n",
       "      <td>0</td>\n",
       "      <td>100654</td>\n",
       "      <td>Alabama A &amp; M University</td>\n",
       "      <td>Normal</td>\n",
       "      <td>AL</td>\n",
       "      <td>Southern Association of Colleges and Schools C...</td>\n",
       "      <td>1</td>\n",
       "      <td>22489.0</td>\n",
       "      <td>NaN</td>\n",
       "      <td>9744.0</td>\n",
       "      <td>...</td>\n",
       "      <td>16000.0</td>\n",
       "      <td>14518.0</td>\n",
       "      <td>15000.0</td>\n",
       "      <td>19000.0</td>\n",
       "      <td>17500.0</td>\n",
       "      <td>10250.0</td>\n",
       "      <td>17500.0</td>\n",
       "      <td>14250.0</td>\n",
       "      <td>15000.0</td>\n",
       "      <td>16421.0</td>\n",
       "    </tr>\n",
       "    <tr>\n",
       "      <th>1</th>\n",
       "      <td>1</td>\n",
       "      <td>100663</td>\n",
       "      <td>University of Alabama at Birmingham</td>\n",
       "      <td>Birmingham</td>\n",
       "      <td>AL</td>\n",
       "      <td>Southern Association of Colleges and Schools C...</td>\n",
       "      <td>1</td>\n",
       "      <td>24347.0</td>\n",
       "      <td>NaN</td>\n",
       "      <td>8568.0</td>\n",
       "      <td>...</td>\n",
       "      <td>15250.0</td>\n",
       "      <td>14000.0</td>\n",
       "      <td>15000.0</td>\n",
       "      <td>16000.0</td>\n",
       "      <td>17500.0</td>\n",
       "      <td>12500.0</td>\n",
       "      <td>15000.0</td>\n",
       "      <td>15000.0</td>\n",
       "      <td>15104.0</td>\n",
       "      <td>15000.0</td>\n",
       "    </tr>\n",
       "    <tr>\n",
       "      <th>2</th>\n",
       "      <td>2</td>\n",
       "      <td>100690</td>\n",
       "      <td>Amridge University</td>\n",
       "      <td>Montgomery</td>\n",
       "      <td>AL</td>\n",
       "      <td>Southern Association of Colleges and Schools C...</td>\n",
       "      <td>2</td>\n",
       "      <td>17680.0</td>\n",
       "      <td>NaN</td>\n",
       "      <td>6900.0</td>\n",
       "      <td>...</td>\n",
       "      <td>19000.0</td>\n",
       "      <td>25000.0</td>\n",
       "      <td>7646.0</td>\n",
       "      <td>12038.0</td>\n",
       "      <td>9500.0</td>\n",
       "      <td>15509.0</td>\n",
       "      <td>9500.0</td>\n",
       "      <td>17025.0</td>\n",
       "      <td>11500.0</td>\n",
       "      <td>9500.0</td>\n",
       "    </tr>\n",
       "    <tr>\n",
       "      <th>3</th>\n",
       "      <td>3</td>\n",
       "      <td>100706</td>\n",
       "      <td>University of Alabama in Huntsville</td>\n",
       "      <td>Huntsville</td>\n",
       "      <td>AL</td>\n",
       "      <td>Southern Association of Colleges and Schools C...</td>\n",
       "      <td>1</td>\n",
       "      <td>23441.0</td>\n",
       "      <td>NaN</td>\n",
       "      <td>10714.0</td>\n",
       "      <td>...</td>\n",
       "      <td>14750.0</td>\n",
       "      <td>12500.0</td>\n",
       "      <td>12750.0</td>\n",
       "      <td>18569.0</td>\n",
       "      <td>17014.0</td>\n",
       "      <td>11899.0</td>\n",
       "      <td>15250.0</td>\n",
       "      <td>13333.0</td>\n",
       "      <td>14943.0</td>\n",
       "      <td>13102.0</td>\n",
       "    </tr>\n",
       "    <tr>\n",
       "      <th>4</th>\n",
       "      <td>4</td>\n",
       "      <td>100724</td>\n",
       "      <td>Alabama State University</td>\n",
       "      <td>Montgomery</td>\n",
       "      <td>AL</td>\n",
       "      <td>Southern Association of Colleges and Schools C...</td>\n",
       "      <td>1</td>\n",
       "      <td>21476.0</td>\n",
       "      <td>NaN</td>\n",
       "      <td>11068.0</td>\n",
       "      <td>...</td>\n",
       "      <td>18500.0</td>\n",
       "      <td>18246.0</td>\n",
       "      <td>17500.0</td>\n",
       "      <td>23925.0</td>\n",
       "      <td>19056.0</td>\n",
       "      <td>12000.0</td>\n",
       "      <td>19500.0</td>\n",
       "      <td>15525.0</td>\n",
       "      <td>19000.0</td>\n",
       "      <td>17500.0</td>\n",
       "    </tr>\n",
       "  </tbody>\n",
       "</table>\n",
       "<p>5 rows × 26 columns</p>\n",
       "</div>"
      ],
      "text/plain": [
       "   Unnamed: 0  UNITID                               INSTNM        CITY STABBR  \\\n",
       "0           0  100654             Alabama A & M University      Normal     AL   \n",
       "1           1  100663  University of Alabama at Birmingham  Birmingham     AL   \n",
       "2           2  100690                   Amridge University  Montgomery     AL   \n",
       "3           3  100706  University of Alabama in Huntsville  Huntsville     AL   \n",
       "4           4  100724             Alabama State University  Montgomery     AL   \n",
       "\n",
       "                                        ACCREDAGENCY  CONTROL  COSTT4_A  \\\n",
       "0  Southern Association of Colleges and Schools C...        1   22489.0   \n",
       "1  Southern Association of Colleges and Schools C...        1   24347.0   \n",
       "2  Southern Association of Colleges and Schools C...        2   17680.0   \n",
       "3  Southern Association of Colleges and Schools C...        1   23441.0   \n",
       "4  Southern Association of Colleges and Schools C...        1   21476.0   \n",
       "\n",
       "   COSTT4_P  TUITIONFEE_IN  ...  MD_INC_DEBT_MDN  HI_INC_DEBT_MDN  \\\n",
       "0       NaN         9744.0  ...          16000.0          14518.0   \n",
       "1       NaN         8568.0  ...          15250.0          14000.0   \n",
       "2       NaN         6900.0  ...          19000.0          25000.0   \n",
       "3       NaN        10714.0  ...          14750.0          12500.0   \n",
       "4       NaN        11068.0  ...          18500.0          18246.0   \n",
       "\n",
       "   DEP_DEBT_MDN  IND_DEBT_MDN  PELL_DEBT_MDN  NOPELL_DEBT_MDN  \\\n",
       "0       15000.0       19000.0        17500.0          10250.0   \n",
       "1       15000.0       16000.0        17500.0          12500.0   \n",
       "2        7646.0       12038.0         9500.0          15509.0   \n",
       "3       12750.0       18569.0        17014.0          11899.0   \n",
       "4       17500.0       23925.0        19056.0          12000.0   \n",
       "\n",
       "   FEMALE_DEBT_MDN  MALE_DEBT_MDN  FIRSTGEN_DEBT_MDN  NOTFIRSTGEN_DEBT_MDN  \n",
       "0          17500.0        14250.0            15000.0               16421.0  \n",
       "1          15000.0        15000.0            15104.0               15000.0  \n",
       "2           9500.0        17025.0            11500.0                9500.0  \n",
       "3          15250.0        13333.0            14943.0               13102.0  \n",
       "4          19500.0        15525.0            19000.0               17500.0  \n",
       "\n",
       "[5 rows x 26 columns]"
      ]
     },
     "execution_count": 7,
     "metadata": {},
     "output_type": "execute_result"
    }
   ],
   "source": [
    "df.head()"
   ]
  },
  {
   "cell_type": "code",
   "execution_count": 8,
   "id": "expired-geometry",
   "metadata": {},
   "outputs": [
    {
     "data": {
      "text/plain": [
       "(6806, 26)"
      ]
     },
     "execution_count": 8,
     "metadata": {},
     "output_type": "execute_result"
    }
   ],
   "source": [
    "df.shape"
   ]
  },
  {
   "cell_type": "code",
   "execution_count": 9,
   "id": "patent-category",
   "metadata": {},
   "outputs": [],
   "source": [
    "df.drop('Unnamed: 0', axis=1, inplace=True)"
   ]
  },
  {
   "cell_type": "code",
   "execution_count": 10,
   "id": "broken-killing",
   "metadata": {},
   "outputs": [
    {
     "data": {
      "text/html": [
       "<div>\n",
       "<style scoped>\n",
       "    .dataframe tbody tr th:only-of-type {\n",
       "        vertical-align: middle;\n",
       "    }\n",
       "\n",
       "    .dataframe tbody tr th {\n",
       "        vertical-align: top;\n",
       "    }\n",
       "\n",
       "    .dataframe thead th {\n",
       "        text-align: right;\n",
       "    }\n",
       "</style>\n",
       "<table border=\"1\" class=\"dataframe\">\n",
       "  <thead>\n",
       "    <tr style=\"text-align: right;\">\n",
       "      <th></th>\n",
       "      <th>UNITID</th>\n",
       "      <th>INSTNM</th>\n",
       "      <th>CITY</th>\n",
       "      <th>STABBR</th>\n",
       "      <th>ACCREDAGENCY</th>\n",
       "      <th>CONTROL</th>\n",
       "      <th>COSTT4_A</th>\n",
       "      <th>COSTT4_P</th>\n",
       "      <th>TUITIONFEE_IN</th>\n",
       "      <th>TUITIONFEE_OUT</th>\n",
       "      <th>...</th>\n",
       "      <th>MD_INC_DEBT_MDN</th>\n",
       "      <th>HI_INC_DEBT_MDN</th>\n",
       "      <th>DEP_DEBT_MDN</th>\n",
       "      <th>IND_DEBT_MDN</th>\n",
       "      <th>PELL_DEBT_MDN</th>\n",
       "      <th>NOPELL_DEBT_MDN</th>\n",
       "      <th>FEMALE_DEBT_MDN</th>\n",
       "      <th>MALE_DEBT_MDN</th>\n",
       "      <th>FIRSTGEN_DEBT_MDN</th>\n",
       "      <th>NOTFIRSTGEN_DEBT_MDN</th>\n",
       "    </tr>\n",
       "  </thead>\n",
       "  <tbody>\n",
       "    <tr>\n",
       "      <th>0</th>\n",
       "      <td>100654</td>\n",
       "      <td>Alabama A &amp; M University</td>\n",
       "      <td>Normal</td>\n",
       "      <td>AL</td>\n",
       "      <td>Southern Association of Colleges and Schools C...</td>\n",
       "      <td>1</td>\n",
       "      <td>22489.0</td>\n",
       "      <td>NaN</td>\n",
       "      <td>9744.0</td>\n",
       "      <td>18354.0</td>\n",
       "      <td>...</td>\n",
       "      <td>16000.0</td>\n",
       "      <td>14518.0</td>\n",
       "      <td>15000.0</td>\n",
       "      <td>19000.0</td>\n",
       "      <td>17500.0</td>\n",
       "      <td>10250.0</td>\n",
       "      <td>17500.0</td>\n",
       "      <td>14250.0</td>\n",
       "      <td>15000.0</td>\n",
       "      <td>16421.0</td>\n",
       "    </tr>\n",
       "    <tr>\n",
       "      <th>1</th>\n",
       "      <td>100663</td>\n",
       "      <td>University of Alabama at Birmingham</td>\n",
       "      <td>Birmingham</td>\n",
       "      <td>AL</td>\n",
       "      <td>Southern Association of Colleges and Schools C...</td>\n",
       "      <td>1</td>\n",
       "      <td>24347.0</td>\n",
       "      <td>NaN</td>\n",
       "      <td>8568.0</td>\n",
       "      <td>19704.0</td>\n",
       "      <td>...</td>\n",
       "      <td>15250.0</td>\n",
       "      <td>14000.0</td>\n",
       "      <td>15000.0</td>\n",
       "      <td>16000.0</td>\n",
       "      <td>17500.0</td>\n",
       "      <td>12500.0</td>\n",
       "      <td>15000.0</td>\n",
       "      <td>15000.0</td>\n",
       "      <td>15104.0</td>\n",
       "      <td>15000.0</td>\n",
       "    </tr>\n",
       "    <tr>\n",
       "      <th>2</th>\n",
       "      <td>100690</td>\n",
       "      <td>Amridge University</td>\n",
       "      <td>Montgomery</td>\n",
       "      <td>AL</td>\n",
       "      <td>Southern Association of Colleges and Schools C...</td>\n",
       "      <td>2</td>\n",
       "      <td>17680.0</td>\n",
       "      <td>NaN</td>\n",
       "      <td>6900.0</td>\n",
       "      <td>6900.0</td>\n",
       "      <td>...</td>\n",
       "      <td>19000.0</td>\n",
       "      <td>25000.0</td>\n",
       "      <td>7646.0</td>\n",
       "      <td>12038.0</td>\n",
       "      <td>9500.0</td>\n",
       "      <td>15509.0</td>\n",
       "      <td>9500.0</td>\n",
       "      <td>17025.0</td>\n",
       "      <td>11500.0</td>\n",
       "      <td>9500.0</td>\n",
       "    </tr>\n",
       "    <tr>\n",
       "      <th>3</th>\n",
       "      <td>100706</td>\n",
       "      <td>University of Alabama in Huntsville</td>\n",
       "      <td>Huntsville</td>\n",
       "      <td>AL</td>\n",
       "      <td>Southern Association of Colleges and Schools C...</td>\n",
       "      <td>1</td>\n",
       "      <td>23441.0</td>\n",
       "      <td>NaN</td>\n",
       "      <td>10714.0</td>\n",
       "      <td>22362.0</td>\n",
       "      <td>...</td>\n",
       "      <td>14750.0</td>\n",
       "      <td>12500.0</td>\n",
       "      <td>12750.0</td>\n",
       "      <td>18569.0</td>\n",
       "      <td>17014.0</td>\n",
       "      <td>11899.0</td>\n",
       "      <td>15250.0</td>\n",
       "      <td>13333.0</td>\n",
       "      <td>14943.0</td>\n",
       "      <td>13102.0</td>\n",
       "    </tr>\n",
       "    <tr>\n",
       "      <th>4</th>\n",
       "      <td>100724</td>\n",
       "      <td>Alabama State University</td>\n",
       "      <td>Montgomery</td>\n",
       "      <td>AL</td>\n",
       "      <td>Southern Association of Colleges and Schools C...</td>\n",
       "      <td>1</td>\n",
       "      <td>21476.0</td>\n",
       "      <td>NaN</td>\n",
       "      <td>11068.0</td>\n",
       "      <td>19396.0</td>\n",
       "      <td>...</td>\n",
       "      <td>18500.0</td>\n",
       "      <td>18246.0</td>\n",
       "      <td>17500.0</td>\n",
       "      <td>23925.0</td>\n",
       "      <td>19056.0</td>\n",
       "      <td>12000.0</td>\n",
       "      <td>19500.0</td>\n",
       "      <td>15525.0</td>\n",
       "      <td>19000.0</td>\n",
       "      <td>17500.0</td>\n",
       "    </tr>\n",
       "  </tbody>\n",
       "</table>\n",
       "<p>5 rows × 25 columns</p>\n",
       "</div>"
      ],
      "text/plain": [
       "   UNITID                               INSTNM        CITY STABBR  \\\n",
       "0  100654             Alabama A & M University      Normal     AL   \n",
       "1  100663  University of Alabama at Birmingham  Birmingham     AL   \n",
       "2  100690                   Amridge University  Montgomery     AL   \n",
       "3  100706  University of Alabama in Huntsville  Huntsville     AL   \n",
       "4  100724             Alabama State University  Montgomery     AL   \n",
       "\n",
       "                                        ACCREDAGENCY  CONTROL  COSTT4_A  \\\n",
       "0  Southern Association of Colleges and Schools C...        1   22489.0   \n",
       "1  Southern Association of Colleges and Schools C...        1   24347.0   \n",
       "2  Southern Association of Colleges and Schools C...        2   17680.0   \n",
       "3  Southern Association of Colleges and Schools C...        1   23441.0   \n",
       "4  Southern Association of Colleges and Schools C...        1   21476.0   \n",
       "\n",
       "   COSTT4_P  TUITIONFEE_IN  TUITIONFEE_OUT  ...  MD_INC_DEBT_MDN  \\\n",
       "0       NaN         9744.0         18354.0  ...          16000.0   \n",
       "1       NaN         8568.0         19704.0  ...          15250.0   \n",
       "2       NaN         6900.0          6900.0  ...          19000.0   \n",
       "3       NaN        10714.0         22362.0  ...          14750.0   \n",
       "4       NaN        11068.0         19396.0  ...          18500.0   \n",
       "\n",
       "   HI_INC_DEBT_MDN  DEP_DEBT_MDN  IND_DEBT_MDN  PELL_DEBT_MDN  \\\n",
       "0          14518.0       15000.0       19000.0        17500.0   \n",
       "1          14000.0       15000.0       16000.0        17500.0   \n",
       "2          25000.0        7646.0       12038.0         9500.0   \n",
       "3          12500.0       12750.0       18569.0        17014.0   \n",
       "4          18246.0       17500.0       23925.0        19056.0   \n",
       "\n",
       "   NOPELL_DEBT_MDN  FEMALE_DEBT_MDN  MALE_DEBT_MDN  FIRSTGEN_DEBT_MDN  \\\n",
       "0          10250.0          17500.0        14250.0            15000.0   \n",
       "1          12500.0          15000.0        15000.0            15104.0   \n",
       "2          15509.0           9500.0        17025.0            11500.0   \n",
       "3          11899.0          15250.0        13333.0            14943.0   \n",
       "4          12000.0          19500.0        15525.0            19000.0   \n",
       "\n",
       "   NOTFIRSTGEN_DEBT_MDN  \n",
       "0               16421.0  \n",
       "1               15000.0  \n",
       "2                9500.0  \n",
       "3               13102.0  \n",
       "4               17500.0  \n",
       "\n",
       "[5 rows x 25 columns]"
      ]
     },
     "execution_count": 10,
     "metadata": {},
     "output_type": "execute_result"
    }
   ],
   "source": [
    "df.head()"
   ]
  },
  {
   "cell_type": "code",
   "execution_count": 11,
   "id": "musical-republican",
   "metadata": {},
   "outputs": [
    {
     "data": {
      "text/plain": [
       "False    6806\n",
       "dtype: int64"
      ]
     },
     "execution_count": 11,
     "metadata": {},
     "output_type": "execute_result"
    }
   ],
   "source": [
    "df.duplicated().value_counts()"
   ]
  },
  {
   "cell_type": "code",
   "execution_count": 12,
   "id": "silver-adelaide",
   "metadata": {},
   "outputs": [],
   "source": [
    "#Drop duplicates\n",
    "df.drop_duplicates(inplace=True)"
   ]
  },
  {
   "cell_type": "code",
   "execution_count": 13,
   "id": "gentle-influence",
   "metadata": {},
   "outputs": [
    {
     "data": {
      "text/plain": [
       "UNITID                     0\n",
       "INSTNM                     0\n",
       "CITY                       0\n",
       "STABBR                     0\n",
       "ACCREDAGENCY             354\n",
       "CONTROL                    0\n",
       "COSTT4_A                3375\n",
       "COSTT4_P                4631\n",
       "TUITIONFEE_IN           2941\n",
       "TUITIONFEE_OUT          3185\n",
       "PFTFAC                  3183\n",
       "PCTPELL                  792\n",
       "GRAD_DEBT_MDN           1499\n",
       "WDRAW_DEBT_MDN          1650\n",
       "LO_INC_DEBT_MDN         1586\n",
       "MD_INC_DEBT_MDN         2360\n",
       "HI_INC_DEBT_MDN         2366\n",
       "DEP_DEBT_MDN            1762\n",
       "IND_DEBT_MDN            1762\n",
       "PELL_DEBT_MDN           1960\n",
       "NOPELL_DEBT_MDN         1960\n",
       "FEMALE_DEBT_MDN         2204\n",
       "MALE_DEBT_MDN           2204\n",
       "FIRSTGEN_DEBT_MDN       2063\n",
       "NOTFIRSTGEN_DEBT_MDN    2063\n",
       "dtype: int64"
      ]
     },
     "execution_count": 13,
     "metadata": {},
     "output_type": "execute_result"
    }
   ],
   "source": [
    "df.isna().sum()"
   ]
  },
  {
   "cell_type": "code",
   "execution_count": 14,
   "id": "stable-intensity",
   "metadata": {},
   "outputs": [
    {
     "data": {
      "text/plain": [
       "UNITID                    int64\n",
       "INSTNM                   object\n",
       "CITY                     object\n",
       "STABBR                   object\n",
       "ACCREDAGENCY             object\n",
       "CONTROL                   int64\n",
       "COSTT4_A                float64\n",
       "COSTT4_P                float64\n",
       "TUITIONFEE_IN           float64\n",
       "TUITIONFEE_OUT          float64\n",
       "PFTFAC                  float64\n",
       "PCTPELL                 float64\n",
       "GRAD_DEBT_MDN           float64\n",
       "WDRAW_DEBT_MDN          float64\n",
       "LO_INC_DEBT_MDN         float64\n",
       "MD_INC_DEBT_MDN         float64\n",
       "HI_INC_DEBT_MDN         float64\n",
       "DEP_DEBT_MDN            float64\n",
       "IND_DEBT_MDN            float64\n",
       "PELL_DEBT_MDN           float64\n",
       "NOPELL_DEBT_MDN         float64\n",
       "FEMALE_DEBT_MDN         float64\n",
       "MALE_DEBT_MDN           float64\n",
       "FIRSTGEN_DEBT_MDN       float64\n",
       "NOTFIRSTGEN_DEBT_MDN    float64\n",
       "dtype: object"
      ]
     },
     "execution_count": 14,
     "metadata": {},
     "output_type": "execute_result"
    }
   ],
   "source": [
    "df.dtypes"
   ]
  },
  {
   "cell_type": "markdown",
   "id": "foreign-nicaragua",
   "metadata": {},
   "source": [
    "### Turn object types into pandas categories "
   ]
  },
  {
   "cell_type": "code",
   "execution_count": 15,
   "id": "documentary-communication",
   "metadata": {},
   "outputs": [
    {
     "name": "stdout",
     "output_type": "stream",
     "text": [
      "CITY\n",
      "STABBR\n",
      "ACCREDAGENCY\n"
     ]
    }
   ],
   "source": [
    "# Identify columns with dtype string, excluding INSTNM which will not be used in the model \n",
    "categoricals = []\n",
    "for label, content in df.items(): \n",
    "    if pd.api.types.is_string_dtype(content):\n",
    "        if label != 'INSTNM': \n",
    "            print(label)\n",
    "            categoricals.append(label)"
   ]
  },
  {
   "cell_type": "code",
   "execution_count": 16,
   "id": "arbitrary-cable",
   "metadata": {},
   "outputs": [],
   "source": [
    "#Turn string values into category values \n",
    "for label, content in df.items(): \n",
    "    if pd.api.types.is_string_dtype(content): \n",
    "        if label != 'INSTNM': \n",
    "            df[label] = content.astype('category').cat.as_ordered()"
   ]
  },
  {
   "cell_type": "code",
   "execution_count": 17,
   "id": "miniature-survivor",
   "metadata": {},
   "outputs": [
    {
     "name": "stdout",
     "output_type": "stream",
     "text": [
      "<class 'pandas.core.frame.DataFrame'>\n",
      "Int64Index: 6806 entries, 0 to 6805\n",
      "Data columns (total 25 columns):\n",
      " #   Column                Non-Null Count  Dtype   \n",
      "---  ------                --------------  -----   \n",
      " 0   UNITID                6806 non-null   int64   \n",
      " 1   INSTNM                6806 non-null   object  \n",
      " 2   CITY                  6806 non-null   category\n",
      " 3   STABBR                6806 non-null   category\n",
      " 4   ACCREDAGENCY          6452 non-null   category\n",
      " 5   CONTROL               6806 non-null   int64   \n",
      " 6   COSTT4_A              3431 non-null   float64 \n",
      " 7   COSTT4_P              2175 non-null   float64 \n",
      " 8   TUITIONFEE_IN         3865 non-null   float64 \n",
      " 9   TUITIONFEE_OUT        3621 non-null   float64 \n",
      " 10  PFTFAC                3623 non-null   float64 \n",
      " 11  PCTPELL               6014 non-null   float64 \n",
      " 12  GRAD_DEBT_MDN         5307 non-null   float64 \n",
      " 13  WDRAW_DEBT_MDN        5156 non-null   float64 \n",
      " 14  LO_INC_DEBT_MDN       5220 non-null   float64 \n",
      " 15  MD_INC_DEBT_MDN       4446 non-null   float64 \n",
      " 16  HI_INC_DEBT_MDN       4440 non-null   float64 \n",
      " 17  DEP_DEBT_MDN          5044 non-null   float64 \n",
      " 18  IND_DEBT_MDN          5044 non-null   float64 \n",
      " 19  PELL_DEBT_MDN         4846 non-null   float64 \n",
      " 20  NOPELL_DEBT_MDN       4846 non-null   float64 \n",
      " 21  FEMALE_DEBT_MDN       4602 non-null   float64 \n",
      " 22  MALE_DEBT_MDN         4602 non-null   float64 \n",
      " 23  FIRSTGEN_DEBT_MDN     4743 non-null   float64 \n",
      " 24  NOTFIRSTGEN_DEBT_MDN  4743 non-null   float64 \n",
      "dtypes: category(3), float64(19), int64(2), object(1)\n",
      "memory usage: 1.3+ MB\n"
     ]
    }
   ],
   "source": [
    "#Check that object columns changed to categories \n",
    "df.info()"
   ]
  },
  {
   "cell_type": "code",
   "execution_count": 18,
   "id": "super-doctor",
   "metadata": {},
   "outputs": [
    {
     "data": {
      "text/plain": [
       "Index(['ARTESIA', 'Aberdeen', 'Abilene', 'Abingdon', 'Abington', 'Ada',\n",
       "       'Addison', 'Adelphi', 'Adelphia', 'Adrian',\n",
       "       ...\n",
       "       'Yuba City', 'Yucaipa', 'Yucca Valley', 'Yukon', 'Yuma', 'Zanesville',\n",
       "       'Zebulon', 'greenacres', 'memphis', 'white plains'],\n",
       "      dtype='object', length=2456)"
      ]
     },
     "execution_count": 18,
     "metadata": {},
     "output_type": "execute_result"
    }
   ],
   "source": [
    "df.CITY.cat.categories"
   ]
  },
  {
   "cell_type": "code",
   "execution_count": 19,
   "id": "extended-intranet",
   "metadata": {},
   "outputs": [
    {
     "data": {
      "text/plain": [
       "5256       0\n",
       "3609       1\n",
       "3164       1\n",
       "3162       1\n",
       "5839       2\n",
       "        ... \n",
       "2672    2451\n",
       "6790    2452\n",
       "5943    2453\n",
       "5851    2454\n",
       "5585    2455\n",
       "Length: 6806, dtype: int16"
      ]
     },
     "execution_count": 19,
     "metadata": {},
     "output_type": "execute_result"
    }
   ],
   "source": [
    "df.CITY.cat.codes.sort_values()"
   ]
  },
  {
   "cell_type": "markdown",
   "id": "indian-obligation",
   "metadata": {},
   "source": [
    "### Handle null values in categorical columns "
   ]
  },
  {
   "cell_type": "code",
   "execution_count": 20,
   "id": "ahead-shanghai",
   "metadata": {},
   "outputs": [
    {
     "data": {
      "text/plain": [
       "CITY              0\n",
       "STABBR            0\n",
       "ACCREDAGENCY    354\n",
       "dtype: int64"
      ]
     },
     "execution_count": 20,
     "metadata": {},
     "output_type": "execute_result"
    }
   ],
   "source": [
    "# Check for nulls in categorical columns\n",
    "df[categoricals].isna().sum()"
   ]
  },
  {
   "cell_type": "code",
   "execution_count": 21,
   "id": "blessed-composer",
   "metadata": {},
   "outputs": [],
   "source": [
    "# drop columns nulls ACCREDAGENCY \n",
    "df.dropna(subset=['ACCREDAGENCY'], inplace=True)"
   ]
  },
  {
   "cell_type": "code",
   "execution_count": 22,
   "id": "inside-elevation",
   "metadata": {},
   "outputs": [
    {
     "data": {
      "text/plain": [
       "(6452, 25)"
      ]
     },
     "execution_count": 22,
     "metadata": {},
     "output_type": "execute_result"
    }
   ],
   "source": [
    "df.shape"
   ]
  },
  {
   "cell_type": "code",
   "execution_count": 23,
   "id": "aging-oakland",
   "metadata": {},
   "outputs": [
    {
     "data": {
      "text/plain": [
       "CITY            0\n",
       "STABBR          0\n",
       "ACCREDAGENCY    0\n",
       "dtype: int64"
      ]
     },
     "execution_count": 23,
     "metadata": {},
     "output_type": "execute_result"
    }
   ],
   "source": [
    "df[categoricals].isna().sum()"
   ]
  },
  {
   "cell_type": "code",
   "execution_count": 24,
   "id": "demonstrated-completion",
   "metadata": {},
   "outputs": [],
   "source": [
    "df.to_csv('../data/reduced_inst_data_with_cats.csv', index=False)"
   ]
  },
  {
   "cell_type": "markdown",
   "id": "adolescent-pencil",
   "metadata": {},
   "source": [
    "### Save Category Codes into dataframe and then csv to be accessed later "
   ]
  },
  {
   "cell_type": "code",
   "execution_count": 25,
   "id": "virtual-demonstration",
   "metadata": {},
   "outputs": [],
   "source": [
    "cats = pd.Categorical(df['CITY']).categories"
   ]
  },
  {
   "cell_type": "code",
   "execution_count": 26,
   "id": "revised-mobile",
   "metadata": {},
   "outputs": [
    {
     "data": {
      "text/plain": [
       "Index(['ARTESIA', 'Aberdeen', 'Abilene', 'Abingdon', 'Abington', 'Ada',\n",
       "       'Addison', 'Adelphi', 'Adelphia', 'Adrian',\n",
       "       ...\n",
       "       'Yuba City', 'Yucaipa', 'Yucca Valley', 'Yukon', 'Yuma', 'Zanesville',\n",
       "       'Zebulon', 'greenacres', 'memphis', 'white plains'],\n",
       "      dtype='object', length=2456)"
      ]
     },
     "execution_count": 26,
     "metadata": {},
     "output_type": "execute_result"
    }
   ],
   "source": [
    "cats"
   ]
  },
  {
   "cell_type": "code",
   "execution_count": 27,
   "id": "certified-friendship",
   "metadata": {},
   "outputs": [
    {
     "data": {
      "text/plain": [
       "array([   0,    1,    2, ..., 2453, 2454, 2455], dtype=int16)"
      ]
     },
     "execution_count": 27,
     "metadata": {},
     "output_type": "execute_result"
    }
   ],
   "source": [
    "pd.Categorical(cats).codes"
   ]
  },
  {
   "cell_type": "code",
   "execution_count": 28,
   "id": "legendary-intelligence",
   "metadata": {},
   "outputs": [],
   "source": [
    "# Function to create dataframes containing each categories/codes set \n",
    "def create_codes_df(col, df): \n",
    "    df_tmp = pd.DataFrame()\n",
    "    # Create column in category codes df with the categories\n",
    "    df_tmp[col] = pd.Categorical(df[col]).categories\n",
    "    # Create column in category codes df with the matching codes \n",
    "    df_tmp[col+'_code'] = pd.Categorical(df_tmp[col]).codes \n",
    "    return df_tmp "
   ]
  },
  {
   "cell_type": "code",
   "execution_count": 29,
   "id": "understanding-patch",
   "metadata": {},
   "outputs": [
    {
     "data": {
      "text/html": [
       "<div>\n",
       "<style scoped>\n",
       "    .dataframe tbody tr th:only-of-type {\n",
       "        vertical-align: middle;\n",
       "    }\n",
       "\n",
       "    .dataframe tbody tr th {\n",
       "        vertical-align: top;\n",
       "    }\n",
       "\n",
       "    .dataframe thead th {\n",
       "        text-align: right;\n",
       "    }\n",
       "</style>\n",
       "<table border=\"1\" class=\"dataframe\">\n",
       "  <thead>\n",
       "    <tr style=\"text-align: right;\">\n",
       "      <th></th>\n",
       "      <th>CITY</th>\n",
       "      <th>CITY_code</th>\n",
       "    </tr>\n",
       "  </thead>\n",
       "  <tbody>\n",
       "    <tr>\n",
       "      <th>0</th>\n",
       "      <td>ARTESIA</td>\n",
       "      <td>0</td>\n",
       "    </tr>\n",
       "    <tr>\n",
       "      <th>1</th>\n",
       "      <td>Aberdeen</td>\n",
       "      <td>1</td>\n",
       "    </tr>\n",
       "    <tr>\n",
       "      <th>2</th>\n",
       "      <td>Abilene</td>\n",
       "      <td>2</td>\n",
       "    </tr>\n",
       "    <tr>\n",
       "      <th>3</th>\n",
       "      <td>Abingdon</td>\n",
       "      <td>3</td>\n",
       "    </tr>\n",
       "    <tr>\n",
       "      <th>4</th>\n",
       "      <td>Abington</td>\n",
       "      <td>4</td>\n",
       "    </tr>\n",
       "    <tr>\n",
       "      <th>...</th>\n",
       "      <td>...</td>\n",
       "      <td>...</td>\n",
       "    </tr>\n",
       "    <tr>\n",
       "      <th>2451</th>\n",
       "      <td>Zanesville</td>\n",
       "      <td>2451</td>\n",
       "    </tr>\n",
       "    <tr>\n",
       "      <th>2452</th>\n",
       "      <td>Zebulon</td>\n",
       "      <td>2452</td>\n",
       "    </tr>\n",
       "    <tr>\n",
       "      <th>2453</th>\n",
       "      <td>greenacres</td>\n",
       "      <td>2453</td>\n",
       "    </tr>\n",
       "    <tr>\n",
       "      <th>2454</th>\n",
       "      <td>memphis</td>\n",
       "      <td>2454</td>\n",
       "    </tr>\n",
       "    <tr>\n",
       "      <th>2455</th>\n",
       "      <td>white plains</td>\n",
       "      <td>2455</td>\n",
       "    </tr>\n",
       "  </tbody>\n",
       "</table>\n",
       "<p>2456 rows × 2 columns</p>\n",
       "</div>"
      ],
      "text/plain": [
       "              CITY  CITY_code\n",
       "0          ARTESIA          0\n",
       "1         Aberdeen          1\n",
       "2          Abilene          2\n",
       "3         Abingdon          3\n",
       "4         Abington          4\n",
       "...            ...        ...\n",
       "2451    Zanesville       2451\n",
       "2452       Zebulon       2452\n",
       "2453    greenacres       2453\n",
       "2454       memphis       2454\n",
       "2455  white plains       2455\n",
       "\n",
       "[2456 rows x 2 columns]"
      ]
     },
     "execution_count": 29,
     "metadata": {},
     "output_type": "execute_result"
    }
   ],
   "source": [
    "city_cat_codes = create_codes_df('CITY', df)\n",
    "city_cat_codes"
   ]
  },
  {
   "cell_type": "code",
   "execution_count": 30,
   "id": "vocal-plate",
   "metadata": {},
   "outputs": [],
   "source": [
    "stabbr_cat_codes = create_codes_df('STABBR', df)\n",
    "accred_cat_codes = create_codes_df('ACCREDAGENCY', df)"
   ]
  },
  {
   "cell_type": "code",
   "execution_count": 31,
   "id": "dried-announcement",
   "metadata": {},
   "outputs": [],
   "source": [
    "# Save cat codes to csv files for later reference \n",
    "stabbr_cat_codes.to_csv('./stabbr_cat_codes.csv', index=False)\n",
    "city_cat_codes.to_csv('./city_cat_codes.csv', index=False)\n",
    "accred_cat_codes.to_csv('./accred_cat_codes.csv', index=False)"
   ]
  },
  {
   "cell_type": "markdown",
   "id": "tropical-assistant",
   "metadata": {},
   "source": [
    "### Turn categorical columns into numbers "
   ]
  },
  {
   "cell_type": "code",
   "execution_count": 32,
   "id": "nutritional-sellers",
   "metadata": {},
   "outputs": [],
   "source": [
    "for label, content in df.items(): \n",
    "    if not pd.api.types.is_numeric_dtype(content): \n",
    "        df[label] = pd.Categorical(content).codes"
   ]
  },
  {
   "cell_type": "code",
   "execution_count": 33,
   "id": "loaded-storm",
   "metadata": {},
   "outputs": [
    {
     "name": "stdout",
     "output_type": "stream",
     "text": [
      "<class 'pandas.core.frame.DataFrame'>\n",
      "Int64Index: 6452 entries, 0 to 6805\n",
      "Data columns (total 25 columns):\n",
      " #   Column                Non-Null Count  Dtype  \n",
      "---  ------                --------------  -----  \n",
      " 0   UNITID                6452 non-null   int64  \n",
      " 1   INSTNM                6452 non-null   int16  \n",
      " 2   CITY                  6452 non-null   int16  \n",
      " 3   STABBR                6452 non-null   int8   \n",
      " 4   ACCREDAGENCY          6452 non-null   int8   \n",
      " 5   CONTROL               6452 non-null   int64  \n",
      " 6   COSTT4_A              3359 non-null   float64\n",
      " 7   COSTT4_P              2009 non-null   float64\n",
      " 8   TUITIONFEE_IN         3741 non-null   float64\n",
      " 9   TUITIONFEE_OUT        3523 non-null   float64\n",
      " 10  PFTFAC                3576 non-null   float64\n",
      " 11  PCTPELL               5723 non-null   float64\n",
      " 12  GRAD_DEBT_MDN         5043 non-null   float64\n",
      " 13  WDRAW_DEBT_MDN        4902 non-null   float64\n",
      " 14  LO_INC_DEBT_MDN       4969 non-null   float64\n",
      " 15  MD_INC_DEBT_MDN       4256 non-null   float64\n",
      " 16  HI_INC_DEBT_MDN       4250 non-null   float64\n",
      " 17  DEP_DEBT_MDN          4796 non-null   float64\n",
      " 18  IND_DEBT_MDN          4796 non-null   float64\n",
      " 19  PELL_DEBT_MDN         4622 non-null   float64\n",
      " 20  NOPELL_DEBT_MDN       4622 non-null   float64\n",
      " 21  FEMALE_DEBT_MDN       4384 non-null   float64\n",
      " 22  MALE_DEBT_MDN         4384 non-null   float64\n",
      " 23  FIRSTGEN_DEBT_MDN     4525 non-null   float64\n",
      " 24  NOTFIRSTGEN_DEBT_MDN  4525 non-null   float64\n",
      "dtypes: float64(19), int16(2), int64(2), int8(2)\n",
      "memory usage: 1.1 MB\n"
     ]
    }
   ],
   "source": [
    "# check that categories are now ints \n",
    "df.info()"
   ]
  },
  {
   "cell_type": "markdown",
   "id": "equipped-spectrum",
   "metadata": {},
   "source": [
    "### Split data into train and test sets"
   ]
  },
  {
   "cell_type": "code",
   "execution_count": 34,
   "id": "plastic-warning",
   "metadata": {},
   "outputs": [
    {
     "data": {
      "text/plain": [
       "Index(['UNITID', 'INSTNM', 'CITY', 'STABBR', 'ACCREDAGENCY', 'CONTROL',\n",
       "       'COSTT4_A', 'COSTT4_P', 'TUITIONFEE_IN', 'TUITIONFEE_OUT', 'PFTFAC',\n",
       "       'PCTPELL', 'GRAD_DEBT_MDN', 'WDRAW_DEBT_MDN', 'LO_INC_DEBT_MDN',\n",
       "       'MD_INC_DEBT_MDN', 'HI_INC_DEBT_MDN', 'DEP_DEBT_MDN', 'IND_DEBT_MDN',\n",
       "       'PELL_DEBT_MDN', 'NOPELL_DEBT_MDN', 'FEMALE_DEBT_MDN', 'MALE_DEBT_MDN',\n",
       "       'FIRSTGEN_DEBT_MDN', 'NOTFIRSTGEN_DEBT_MDN'],\n",
       "      dtype='object')"
      ]
     },
     "execution_count": 34,
     "metadata": {},
     "output_type": "execute_result"
    }
   ],
   "source": [
    "df.columns"
   ]
  },
  {
   "cell_type": "code",
   "execution_count": 35,
   "id": "extended-floor",
   "metadata": {},
   "outputs": [],
   "source": [
    "# Select predictor features \n",
    "selected_features = ['UNITID', 'CITY', 'STABBR', 'ACCREDAGENCY', 'CONTROL', 'COSTT4_A', 'COSTT4_P',\n",
    "       'TUITIONFEE_IN', 'TUITIONFEE_OUT', 'PFTFAC', 'PCTPELL']"
   ]
  },
  {
   "cell_type": "code",
   "execution_count": 36,
   "id": "expressed-segment",
   "metadata": {},
   "outputs": [],
   "source": [
    "target = 'GRAD_DEBT_MDN'"
   ]
  },
  {
   "cell_type": "code",
   "execution_count": 37,
   "id": "modular-friendly",
   "metadata": {},
   "outputs": [
    {
     "data": {
      "text/plain": [
       "0       33375.0\n",
       "1       22500.0\n",
       "2       27334.0\n",
       "3       21607.0\n",
       "4       32000.0\n",
       "         ...   \n",
       "6801     9371.0\n",
       "6802     9371.0\n",
       "6803    12125.0\n",
       "6804    21000.0\n",
       "6805        NaN\n",
       "Name: GRAD_DEBT_MDN, Length: 6452, dtype: float64"
      ]
     },
     "execution_count": 37,
     "metadata": {},
     "output_type": "execute_result"
    }
   ],
   "source": [
    "df[target]"
   ]
  },
  {
   "cell_type": "code",
   "execution_count": 38,
   "id": "peaceful-colon",
   "metadata": {},
   "outputs": [],
   "source": [
    "#Define X and y variables \n",
    "X = df[selected_features]\n",
    "y = df[target]\n"
   ]
  },
  {
   "cell_type": "code",
   "execution_count": 39,
   "id": "random-enemy",
   "metadata": {},
   "outputs": [],
   "source": [
    "X_train, X_test, y_train, y_test = train_test_split(X, y, test_size=0.2, random_state=3)"
   ]
  },
  {
   "cell_type": "code",
   "execution_count": 40,
   "id": "balanced-recovery",
   "metadata": {},
   "outputs": [
    {
     "data": {
      "text/html": [
       "<div>\n",
       "<style scoped>\n",
       "    .dataframe tbody tr th:only-of-type {\n",
       "        vertical-align: middle;\n",
       "    }\n",
       "\n",
       "    .dataframe tbody tr th {\n",
       "        vertical-align: top;\n",
       "    }\n",
       "\n",
       "    .dataframe thead th {\n",
       "        text-align: right;\n",
       "    }\n",
       "</style>\n",
       "<table border=\"1\" class=\"dataframe\">\n",
       "  <thead>\n",
       "    <tr style=\"text-align: right;\">\n",
       "      <th></th>\n",
       "      <th>UNITID</th>\n",
       "      <th>CITY</th>\n",
       "      <th>STABBR</th>\n",
       "      <th>ACCREDAGENCY</th>\n",
       "      <th>CONTROL</th>\n",
       "      <th>COSTT4_A</th>\n",
       "      <th>COSTT4_P</th>\n",
       "      <th>TUITIONFEE_IN</th>\n",
       "      <th>TUITIONFEE_OUT</th>\n",
       "      <th>PFTFAC</th>\n",
       "      <th>PCTPELL</th>\n",
       "    </tr>\n",
       "  </thead>\n",
       "  <tbody>\n",
       "    <tr>\n",
       "      <th>5834</th>\n",
       "      <td>483382</td>\n",
       "      <td>450</td>\n",
       "      <td>39</td>\n",
       "      <td>4</td>\n",
       "      <td>3</td>\n",
       "      <td>NaN</td>\n",
       "      <td>16637.0</td>\n",
       "      <td>NaN</td>\n",
       "      <td>NaN</td>\n",
       "      <td>NaN</td>\n",
       "      <td>0.5563</td>\n",
       "    </tr>\n",
       "    <tr>\n",
       "      <th>4549</th>\n",
       "      <td>434496</td>\n",
       "      <td>1433</td>\n",
       "      <td>47</td>\n",
       "      <td>26</td>\n",
       "      <td>3</td>\n",
       "      <td>NaN</td>\n",
       "      <td>15451.0</td>\n",
       "      <td>NaN</td>\n",
       "      <td>NaN</td>\n",
       "      <td>NaN</td>\n",
       "      <td>0.5882</td>\n",
       "    </tr>\n",
       "    <tr>\n",
       "      <th>4626</th>\n",
       "      <td>439668</td>\n",
       "      <td>2194</td>\n",
       "      <td>4</td>\n",
       "      <td>3</td>\n",
       "      <td>3</td>\n",
       "      <td>NaN</td>\n",
       "      <td>NaN</td>\n",
       "      <td>NaN</td>\n",
       "      <td>NaN</td>\n",
       "      <td>NaN</td>\n",
       "      <td>0.3048</td>\n",
       "    </tr>\n",
       "    <tr>\n",
       "      <th>5468</th>\n",
       "      <td>461342</td>\n",
       "      <td>1739</td>\n",
       "      <td>51</td>\n",
       "      <td>26</td>\n",
       "      <td>3</td>\n",
       "      <td>NaN</td>\n",
       "      <td>20265.0</td>\n",
       "      <td>NaN</td>\n",
       "      <td>NaN</td>\n",
       "      <td>NaN</td>\n",
       "      <td>0.4885</td>\n",
       "    </tr>\n",
       "    <tr>\n",
       "      <th>409</th>\n",
       "      <td>121275</td>\n",
       "      <td>1880</td>\n",
       "      <td>5</td>\n",
       "      <td>3</td>\n",
       "      <td>3</td>\n",
       "      <td>33180.0</td>\n",
       "      <td>NaN</td>\n",
       "      <td>17235.0</td>\n",
       "      <td>17235.0</td>\n",
       "      <td>0.4211</td>\n",
       "      <td>0.5281</td>\n",
       "    </tr>\n",
       "    <tr>\n",
       "      <th>...</th>\n",
       "      <td>...</td>\n",
       "      <td>...</td>\n",
       "      <td>...</td>\n",
       "      <td>...</td>\n",
       "      <td>...</td>\n",
       "      <td>...</td>\n",
       "      <td>...</td>\n",
       "      <td>...</td>\n",
       "      <td>...</td>\n",
       "      <td>...</td>\n",
       "      <td>...</td>\n",
       "    </tr>\n",
       "    <tr>\n",
       "      <th>991</th>\n",
       "      <td>148098</td>\n",
       "      <td>1031</td>\n",
       "      <td>17</td>\n",
       "      <td>26</td>\n",
       "      <td>3</td>\n",
       "      <td>NaN</td>\n",
       "      <td>17370.0</td>\n",
       "      <td>NaN</td>\n",
       "      <td>NaN</td>\n",
       "      <td>NaN</td>\n",
       "      <td>0.3607</td>\n",
       "    </tr>\n",
       "    <tr>\n",
       "      <th>1717</th>\n",
       "      <td>174473</td>\n",
       "      <td>2158</td>\n",
       "      <td>27</td>\n",
       "      <td>20</td>\n",
       "      <td>1</td>\n",
       "      <td>15066.0</td>\n",
       "      <td>NaN</td>\n",
       "      <td>5549.0</td>\n",
       "      <td>5549.0</td>\n",
       "      <td>0.5528</td>\n",
       "      <td>0.3015</td>\n",
       "    </tr>\n",
       "    <tr>\n",
       "      <th>3423</th>\n",
       "      <td>228769</td>\n",
       "      <td>77</td>\n",
       "      <td>50</td>\n",
       "      <td>38</td>\n",
       "      <td>1</td>\n",
       "      <td>21633.0</td>\n",
       "      <td>NaN</td>\n",
       "      <td>10496.0</td>\n",
       "      <td>26533.0</td>\n",
       "      <td>0.5675</td>\n",
       "      <td>0.3609</td>\n",
       "    </tr>\n",
       "    <tr>\n",
       "      <th>1738</th>\n",
       "      <td>175120</td>\n",
       "      <td>1352</td>\n",
       "      <td>27</td>\n",
       "      <td>16</td>\n",
       "      <td>2</td>\n",
       "      <td>NaN</td>\n",
       "      <td>15306.0</td>\n",
       "      <td>NaN</td>\n",
       "      <td>NaN</td>\n",
       "      <td>NaN</td>\n",
       "      <td>0.5753</td>\n",
       "    </tr>\n",
       "    <tr>\n",
       "      <th>6294</th>\n",
       "      <td>491950</td>\n",
       "      <td>68</td>\n",
       "      <td>5</td>\n",
       "      <td>4</td>\n",
       "      <td>3</td>\n",
       "      <td>NaN</td>\n",
       "      <td>NaN</td>\n",
       "      <td>NaN</td>\n",
       "      <td>NaN</td>\n",
       "      <td>NaN</td>\n",
       "      <td>0.0000</td>\n",
       "    </tr>\n",
       "  </tbody>\n",
       "</table>\n",
       "<p>5161 rows × 11 columns</p>\n",
       "</div>"
      ],
      "text/plain": [
       "      UNITID  CITY  STABBR  ACCREDAGENCY  CONTROL  COSTT4_A  COSTT4_P  \\\n",
       "5834  483382   450      39             4        3       NaN   16637.0   \n",
       "4549  434496  1433      47            26        3       NaN   15451.0   \n",
       "4626  439668  2194       4             3        3       NaN       NaN   \n",
       "5468  461342  1739      51            26        3       NaN   20265.0   \n",
       "409   121275  1880       5             3        3   33180.0       NaN   \n",
       "...      ...   ...     ...           ...      ...       ...       ...   \n",
       "991   148098  1031      17            26        3       NaN   17370.0   \n",
       "1717  174473  2158      27            20        1   15066.0       NaN   \n",
       "3423  228769    77      50            38        1   21633.0       NaN   \n",
       "1738  175120  1352      27            16        2       NaN   15306.0   \n",
       "6294  491950    68       5             4        3       NaN       NaN   \n",
       "\n",
       "      TUITIONFEE_IN  TUITIONFEE_OUT  PFTFAC  PCTPELL  \n",
       "5834            NaN             NaN     NaN   0.5563  \n",
       "4549            NaN             NaN     NaN   0.5882  \n",
       "4626            NaN             NaN     NaN   0.3048  \n",
       "5468            NaN             NaN     NaN   0.4885  \n",
       "409         17235.0         17235.0  0.4211   0.5281  \n",
       "...             ...             ...     ...      ...  \n",
       "991             NaN             NaN     NaN   0.3607  \n",
       "1717         5549.0          5549.0  0.5528   0.3015  \n",
       "3423        10496.0         26533.0  0.5675   0.3609  \n",
       "1738            NaN             NaN     NaN   0.5753  \n",
       "6294            NaN             NaN     NaN   0.0000  \n",
       "\n",
       "[5161 rows x 11 columns]"
      ]
     },
     "execution_count": 40,
     "metadata": {},
     "output_type": "execute_result"
    }
   ],
   "source": [
    "X_train"
   ]
  },
  {
   "cell_type": "markdown",
   "id": "speaking-pricing",
   "metadata": {},
   "source": [
    "### Fill in missing Numerical data in test set and training set separately "
   ]
  },
  {
   "cell_type": "code",
   "execution_count": 41,
   "id": "seven-fountain",
   "metadata": {},
   "outputs": [
    {
     "data": {
      "text/plain": [
       "UNITID               0\n",
       "CITY                 0\n",
       "STABBR               0\n",
       "ACCREDAGENCY         0\n",
       "CONTROL              0\n",
       "COSTT4_A          2466\n",
       "COSTT4_P          3578\n",
       "TUITIONFEE_IN     2158\n",
       "TUITIONFEE_OUT    2336\n",
       "PFTFAC            2301\n",
       "PCTPELL            600\n",
       "dtype: int64"
      ]
     },
     "execution_count": 41,
     "metadata": {},
     "output_type": "execute_result"
    }
   ],
   "source": [
    "X_train.isna().sum()"
   ]
  },
  {
   "cell_type": "code",
   "execution_count": 42,
   "id": "micro-jesus",
   "metadata": {},
   "outputs": [
    {
     "name": "stdout",
     "output_type": "stream",
     "text": [
      "COSTT4_A\n",
      "COSTT4_P\n",
      "TUITIONFEE_IN\n",
      "TUITIONFEE_OUT\n",
      "PFTFAC\n",
      "PCTPELL\n"
     ]
    }
   ],
   "source": [
    "X_na = []\n",
    "for label, content in X_train.items(): \n",
    "    if pd.api.types.is_numeric_dtype(content): \n",
    "        if pd.isnull(content).sum(): \n",
    "            print(label)\n",
    "            X_na.append(label)"
   ]
  },
  {
   "cell_type": "code",
   "execution_count": 43,
   "id": "latin-stable",
   "metadata": {},
   "outputs": [
    {
     "name": "stderr",
     "output_type": "stream",
     "text": [
      "<ipython-input-43-ef68476bce50>:5: SettingWithCopyWarning: \n",
      "A value is trying to be set on a copy of a slice from a DataFrame.\n",
      "Try using .loc[row_indexer,col_indexer] = value instead\n",
      "\n",
      "See the caveats in the documentation: https://pandas.pydata.org/pandas-docs/stable/user_guide/indexing.html#returning-a-view-versus-a-copy\n",
      "  X_train[label+'_is_missing'] = pd.isnull(content)\n",
      "<ipython-input-43-ef68476bce50>:7: SettingWithCopyWarning: \n",
      "A value is trying to be set on a copy of a slice from a DataFrame.\n",
      "Try using .loc[row_indexer,col_indexer] = value instead\n",
      "\n",
      "See the caveats in the documentation: https://pandas.pydata.org/pandas-docs/stable/user_guide/indexing.html#returning-a-view-versus-a-copy\n",
      "  X_train[label] = content.fillna(content.median())\n",
      "<ipython-input-43-ef68476bce50>:5: SettingWithCopyWarning: \n",
      "A value is trying to be set on a copy of a slice from a DataFrame.\n",
      "Try using .loc[row_indexer,col_indexer] = value instead\n",
      "\n",
      "See the caveats in the documentation: https://pandas.pydata.org/pandas-docs/stable/user_guide/indexing.html#returning-a-view-versus-a-copy\n",
      "  X_train[label+'_is_missing'] = pd.isnull(content)\n",
      "<ipython-input-43-ef68476bce50>:7: SettingWithCopyWarning: \n",
      "A value is trying to be set on a copy of a slice from a DataFrame.\n",
      "Try using .loc[row_indexer,col_indexer] = value instead\n",
      "\n",
      "See the caveats in the documentation: https://pandas.pydata.org/pandas-docs/stable/user_guide/indexing.html#returning-a-view-versus-a-copy\n",
      "  X_train[label] = content.fillna(content.median())\n",
      "<ipython-input-43-ef68476bce50>:5: SettingWithCopyWarning: \n",
      "A value is trying to be set on a copy of a slice from a DataFrame.\n",
      "Try using .loc[row_indexer,col_indexer] = value instead\n",
      "\n",
      "See the caveats in the documentation: https://pandas.pydata.org/pandas-docs/stable/user_guide/indexing.html#returning-a-view-versus-a-copy\n",
      "  X_train[label+'_is_missing'] = pd.isnull(content)\n",
      "<ipython-input-43-ef68476bce50>:7: SettingWithCopyWarning: \n",
      "A value is trying to be set on a copy of a slice from a DataFrame.\n",
      "Try using .loc[row_indexer,col_indexer] = value instead\n",
      "\n",
      "See the caveats in the documentation: https://pandas.pydata.org/pandas-docs/stable/user_guide/indexing.html#returning-a-view-versus-a-copy\n",
      "  X_train[label] = content.fillna(content.median())\n",
      "<ipython-input-43-ef68476bce50>:5: SettingWithCopyWarning: \n",
      "A value is trying to be set on a copy of a slice from a DataFrame.\n",
      "Try using .loc[row_indexer,col_indexer] = value instead\n",
      "\n",
      "See the caveats in the documentation: https://pandas.pydata.org/pandas-docs/stable/user_guide/indexing.html#returning-a-view-versus-a-copy\n",
      "  X_train[label+'_is_missing'] = pd.isnull(content)\n",
      "<ipython-input-43-ef68476bce50>:7: SettingWithCopyWarning: \n",
      "A value is trying to be set on a copy of a slice from a DataFrame.\n",
      "Try using .loc[row_indexer,col_indexer] = value instead\n",
      "\n",
      "See the caveats in the documentation: https://pandas.pydata.org/pandas-docs/stable/user_guide/indexing.html#returning-a-view-versus-a-copy\n",
      "  X_train[label] = content.fillna(content.median())\n",
      "<ipython-input-43-ef68476bce50>:5: SettingWithCopyWarning: \n",
      "A value is trying to be set on a copy of a slice from a DataFrame.\n",
      "Try using .loc[row_indexer,col_indexer] = value instead\n",
      "\n",
      "See the caveats in the documentation: https://pandas.pydata.org/pandas-docs/stable/user_guide/indexing.html#returning-a-view-versus-a-copy\n",
      "  X_train[label+'_is_missing'] = pd.isnull(content)\n",
      "<ipython-input-43-ef68476bce50>:7: SettingWithCopyWarning: \n",
      "A value is trying to be set on a copy of a slice from a DataFrame.\n",
      "Try using .loc[row_indexer,col_indexer] = value instead\n",
      "\n",
      "See the caveats in the documentation: https://pandas.pydata.org/pandas-docs/stable/user_guide/indexing.html#returning-a-view-versus-a-copy\n",
      "  X_train[label] = content.fillna(content.median())\n",
      "<ipython-input-43-ef68476bce50>:5: SettingWithCopyWarning: \n",
      "A value is trying to be set on a copy of a slice from a DataFrame.\n",
      "Try using .loc[row_indexer,col_indexer] = value instead\n",
      "\n",
      "See the caveats in the documentation: https://pandas.pydata.org/pandas-docs/stable/user_guide/indexing.html#returning-a-view-versus-a-copy\n",
      "  X_train[label+'_is_missing'] = pd.isnull(content)\n",
      "<ipython-input-43-ef68476bce50>:7: SettingWithCopyWarning: \n",
      "A value is trying to be set on a copy of a slice from a DataFrame.\n",
      "Try using .loc[row_indexer,col_indexer] = value instead\n",
      "\n",
      "See the caveats in the documentation: https://pandas.pydata.org/pandas-docs/stable/user_guide/indexing.html#returning-a-view-versus-a-copy\n",
      "  X_train[label] = content.fillna(content.median())\n"
     ]
    }
   ],
   "source": [
    "# Fill nulls in X numeric columns with median, add column indicating if value was missing \n",
    "for label, content in X_train.items(): \n",
    "    if label in X_na:  \n",
    "        #Add column that has true if row had missing value for the column \n",
    "        X_train[label+'_is_missing'] = pd.isnull(content) \n",
    "        # Fill missing values for median for the column \n",
    "        X_train[label] = content.fillna(content.median())"
   ]
  },
  {
   "cell_type": "code",
   "execution_count": 44,
   "id": "agricultural-third",
   "metadata": {},
   "outputs": [
    {
     "data": {
      "text/plain": [
       "UNITID                       0\n",
       "CITY                         0\n",
       "STABBR                       0\n",
       "ACCREDAGENCY                 0\n",
       "CONTROL                      0\n",
       "COSTT4_A                     0\n",
       "COSTT4_P                     0\n",
       "TUITIONFEE_IN                0\n",
       "TUITIONFEE_OUT               0\n",
       "PFTFAC                       0\n",
       "PCTPELL                      0\n",
       "COSTT4_A_is_missing          0\n",
       "COSTT4_P_is_missing          0\n",
       "TUITIONFEE_IN_is_missing     0\n",
       "TUITIONFEE_OUT_is_missing    0\n",
       "PFTFAC_is_missing            0\n",
       "PCTPELL_is_missing           0\n",
       "dtype: int64"
      ]
     },
     "execution_count": 44,
     "metadata": {},
     "output_type": "execute_result"
    }
   ],
   "source": [
    "X_train.isna().sum()"
   ]
  },
  {
   "cell_type": "code",
   "execution_count": 45,
   "id": "imported-california",
   "metadata": {},
   "outputs": [
    {
     "data": {
      "text/plain": [
       "UNITID              0\n",
       "CITY                0\n",
       "STABBR              0\n",
       "ACCREDAGENCY        0\n",
       "CONTROL             0\n",
       "COSTT4_A          627\n",
       "COSTT4_P          865\n",
       "TUITIONFEE_IN     553\n",
       "TUITIONFEE_OUT    593\n",
       "PFTFAC            575\n",
       "PCTPELL           129\n",
       "dtype: int64"
      ]
     },
     "execution_count": 45,
     "metadata": {},
     "output_type": "execute_result"
    }
   ],
   "source": [
    "X_test.isna().sum()"
   ]
  },
  {
   "cell_type": "code",
   "execution_count": 46,
   "id": "critical-tenant",
   "metadata": {},
   "outputs": [],
   "source": [
    "# Do the same for X_test \n",
    "def fill_na(dataframe): \n",
    "    for label, content in dataframe.items(): \n",
    "        if pd.isnull(content).sum():  \n",
    "            #Add column that has true if row had missing value for the column \n",
    "            dataframe[label+'_is_missing'] = pd.isnull(content) \n",
    "            # Fill missing values for median for the column \n",
    "            dataframe[label] = content.fillna(content.median())"
   ]
  },
  {
   "cell_type": "code",
   "execution_count": 47,
   "id": "several-capability",
   "metadata": {},
   "outputs": [
    {
     "name": "stderr",
     "output_type": "stream",
     "text": [
      "<ipython-input-46-c1472fc2007d>:6: SettingWithCopyWarning: \n",
      "A value is trying to be set on a copy of a slice from a DataFrame.\n",
      "Try using .loc[row_indexer,col_indexer] = value instead\n",
      "\n",
      "See the caveats in the documentation: https://pandas.pydata.org/pandas-docs/stable/user_guide/indexing.html#returning-a-view-versus-a-copy\n",
      "  dataframe[label+'_is_missing'] = pd.isnull(content)\n",
      "<ipython-input-46-c1472fc2007d>:8: SettingWithCopyWarning: \n",
      "A value is trying to be set on a copy of a slice from a DataFrame.\n",
      "Try using .loc[row_indexer,col_indexer] = value instead\n",
      "\n",
      "See the caveats in the documentation: https://pandas.pydata.org/pandas-docs/stable/user_guide/indexing.html#returning-a-view-versus-a-copy\n",
      "  dataframe[label] = content.fillna(content.median())\n",
      "<ipython-input-46-c1472fc2007d>:6: SettingWithCopyWarning: \n",
      "A value is trying to be set on a copy of a slice from a DataFrame.\n",
      "Try using .loc[row_indexer,col_indexer] = value instead\n",
      "\n",
      "See the caveats in the documentation: https://pandas.pydata.org/pandas-docs/stable/user_guide/indexing.html#returning-a-view-versus-a-copy\n",
      "  dataframe[label+'_is_missing'] = pd.isnull(content)\n",
      "<ipython-input-46-c1472fc2007d>:8: SettingWithCopyWarning: \n",
      "A value is trying to be set on a copy of a slice from a DataFrame.\n",
      "Try using .loc[row_indexer,col_indexer] = value instead\n",
      "\n",
      "See the caveats in the documentation: https://pandas.pydata.org/pandas-docs/stable/user_guide/indexing.html#returning-a-view-versus-a-copy\n",
      "  dataframe[label] = content.fillna(content.median())\n",
      "<ipython-input-46-c1472fc2007d>:6: SettingWithCopyWarning: \n",
      "A value is trying to be set on a copy of a slice from a DataFrame.\n",
      "Try using .loc[row_indexer,col_indexer] = value instead\n",
      "\n",
      "See the caveats in the documentation: https://pandas.pydata.org/pandas-docs/stable/user_guide/indexing.html#returning-a-view-versus-a-copy\n",
      "  dataframe[label+'_is_missing'] = pd.isnull(content)\n",
      "<ipython-input-46-c1472fc2007d>:8: SettingWithCopyWarning: \n",
      "A value is trying to be set on a copy of a slice from a DataFrame.\n",
      "Try using .loc[row_indexer,col_indexer] = value instead\n",
      "\n",
      "See the caveats in the documentation: https://pandas.pydata.org/pandas-docs/stable/user_guide/indexing.html#returning-a-view-versus-a-copy\n",
      "  dataframe[label] = content.fillna(content.median())\n",
      "<ipython-input-46-c1472fc2007d>:6: SettingWithCopyWarning: \n",
      "A value is trying to be set on a copy of a slice from a DataFrame.\n",
      "Try using .loc[row_indexer,col_indexer] = value instead\n",
      "\n",
      "See the caveats in the documentation: https://pandas.pydata.org/pandas-docs/stable/user_guide/indexing.html#returning-a-view-versus-a-copy\n",
      "  dataframe[label+'_is_missing'] = pd.isnull(content)\n",
      "<ipython-input-46-c1472fc2007d>:8: SettingWithCopyWarning: \n",
      "A value is trying to be set on a copy of a slice from a DataFrame.\n",
      "Try using .loc[row_indexer,col_indexer] = value instead\n",
      "\n",
      "See the caveats in the documentation: https://pandas.pydata.org/pandas-docs/stable/user_guide/indexing.html#returning-a-view-versus-a-copy\n",
      "  dataframe[label] = content.fillna(content.median())\n",
      "<ipython-input-46-c1472fc2007d>:6: SettingWithCopyWarning: \n",
      "A value is trying to be set on a copy of a slice from a DataFrame.\n",
      "Try using .loc[row_indexer,col_indexer] = value instead\n",
      "\n",
      "See the caveats in the documentation: https://pandas.pydata.org/pandas-docs/stable/user_guide/indexing.html#returning-a-view-versus-a-copy\n",
      "  dataframe[label+'_is_missing'] = pd.isnull(content)\n",
      "<ipython-input-46-c1472fc2007d>:8: SettingWithCopyWarning: \n",
      "A value is trying to be set on a copy of a slice from a DataFrame.\n",
      "Try using .loc[row_indexer,col_indexer] = value instead\n",
      "\n",
      "See the caveats in the documentation: https://pandas.pydata.org/pandas-docs/stable/user_guide/indexing.html#returning-a-view-versus-a-copy\n",
      "  dataframe[label] = content.fillna(content.median())\n",
      "<ipython-input-46-c1472fc2007d>:6: SettingWithCopyWarning: \n",
      "A value is trying to be set on a copy of a slice from a DataFrame.\n",
      "Try using .loc[row_indexer,col_indexer] = value instead\n",
      "\n",
      "See the caveats in the documentation: https://pandas.pydata.org/pandas-docs/stable/user_guide/indexing.html#returning-a-view-versus-a-copy\n",
      "  dataframe[label+'_is_missing'] = pd.isnull(content)\n",
      "<ipython-input-46-c1472fc2007d>:8: SettingWithCopyWarning: \n",
      "A value is trying to be set on a copy of a slice from a DataFrame.\n",
      "Try using .loc[row_indexer,col_indexer] = value instead\n",
      "\n",
      "See the caveats in the documentation: https://pandas.pydata.org/pandas-docs/stable/user_guide/indexing.html#returning-a-view-versus-a-copy\n",
      "  dataframe[label] = content.fillna(content.median())\n"
     ]
    }
   ],
   "source": [
    "fill_na(X_test)"
   ]
  },
  {
   "cell_type": "code",
   "execution_count": 48,
   "id": "certain-bennett",
   "metadata": {},
   "outputs": [
    {
     "data": {
      "text/plain": [
       "UNITID                       0\n",
       "CITY                         0\n",
       "STABBR                       0\n",
       "ACCREDAGENCY                 0\n",
       "CONTROL                      0\n",
       "COSTT4_A                     0\n",
       "COSTT4_P                     0\n",
       "TUITIONFEE_IN                0\n",
       "TUITIONFEE_OUT               0\n",
       "PFTFAC                       0\n",
       "PCTPELL                      0\n",
       "COSTT4_A_is_missing          0\n",
       "COSTT4_P_is_missing          0\n",
       "TUITIONFEE_IN_is_missing     0\n",
       "TUITIONFEE_OUT_is_missing    0\n",
       "PFTFAC_is_missing            0\n",
       "PCTPELL_is_missing           0\n",
       "dtype: int64"
      ]
     },
     "execution_count": 48,
     "metadata": {},
     "output_type": "execute_result"
    }
   ],
   "source": [
    "X_test.isna().sum()"
   ]
  },
  {
   "cell_type": "code",
   "execution_count": 49,
   "id": "varying-proceeding",
   "metadata": {},
   "outputs": [],
   "source": [
    "# fill na in y_train and y_test \n",
    "y_train.fillna(y_train.median(), inplace=True)"
   ]
  },
  {
   "cell_type": "code",
   "execution_count": 50,
   "id": "protecting-discount",
   "metadata": {},
   "outputs": [
    {
     "data": {
      "text/plain": [
       "0"
      ]
     },
     "execution_count": 50,
     "metadata": {},
     "output_type": "execute_result"
    }
   ],
   "source": [
    "y_train.isna().sum()"
   ]
  },
  {
   "cell_type": "code",
   "execution_count": 51,
   "id": "limited-character",
   "metadata": {},
   "outputs": [
    {
     "data": {
      "text/plain": [
       "UNITID                       0\n",
       "CITY                         0\n",
       "STABBR                       0\n",
       "ACCREDAGENCY                 0\n",
       "CONTROL                      0\n",
       "COSTT4_A                     0\n",
       "COSTT4_P                     0\n",
       "TUITIONFEE_IN                0\n",
       "TUITIONFEE_OUT               0\n",
       "PFTFAC                       0\n",
       "PCTPELL                      0\n",
       "COSTT4_A_is_missing          0\n",
       "COSTT4_P_is_missing          0\n",
       "TUITIONFEE_IN_is_missing     0\n",
       "TUITIONFEE_OUT_is_missing    0\n",
       "PFTFAC_is_missing            0\n",
       "PCTPELL_is_missing           0\n",
       "dtype: int64"
      ]
     },
     "execution_count": 51,
     "metadata": {},
     "output_type": "execute_result"
    }
   ],
   "source": [
    "X_test.isna().sum()"
   ]
  },
  {
   "cell_type": "code",
   "execution_count": 52,
   "id": "talented-flood",
   "metadata": {},
   "outputs": [],
   "source": [
    "y_test.fillna(y_test.median(), inplace=True)"
   ]
  },
  {
   "cell_type": "code",
   "execution_count": 53,
   "id": "detailed-roots",
   "metadata": {},
   "outputs": [
    {
     "data": {
      "text/plain": [
       "0"
      ]
     },
     "execution_count": 53,
     "metadata": {},
     "output_type": "execute_result"
    }
   ],
   "source": [
    "y_test.isna().sum()"
   ]
  },
  {
   "cell_type": "markdown",
   "id": "visible-burst",
   "metadata": {},
   "source": [
    "## Build and Train model "
   ]
  },
  {
   "cell_type": "code",
   "execution_count": 54,
   "id": "cardiovascular-citation",
   "metadata": {},
   "outputs": [],
   "source": [
    "model = RandomForestRegressor()"
   ]
  },
  {
   "cell_type": "code",
   "execution_count": 55,
   "id": "leading-delta",
   "metadata": {},
   "outputs": [
    {
     "data": {
      "text/plain": [
       "RandomForestRegressor()"
      ]
     },
     "execution_count": 55,
     "metadata": {},
     "output_type": "execute_result"
    }
   ],
   "source": [
    "model.fit(X_train, y_train)"
   ]
  },
  {
   "cell_type": "code",
   "execution_count": 56,
   "id": "united-shannon",
   "metadata": {},
   "outputs": [],
   "source": [
    "y_pred = model.predict(X_test)"
   ]
  },
  {
   "cell_type": "code",
   "execution_count": 57,
   "id": "blessed-conclusion",
   "metadata": {},
   "outputs": [
    {
     "name": "stdout",
     "output_type": "stream",
     "text": [
      "R-Squared Score:  0.7352458705930416\n",
      "Mean Absolute Error:  2653.0885243996904\n"
     ]
    }
   ],
   "source": [
    "r_squared = metrics.r2_score(y_test, y_pred)\n",
    "mae = metrics.mean_absolute_error(y_test, y_pred)\n",
    "print('R-Squared Score: ', r_squared)\n",
    "print('Mean Absolute Error: ', mae)"
   ]
  },
  {
   "cell_type": "code",
   "execution_count": 61,
   "id": "early-calgary",
   "metadata": {},
   "outputs": [
    {
     "data": {
      "text/plain": [
       "array([8.61212367e-02, 3.44014430e-02, 2.91107192e-02, 9.51094890e-02,\n",
       "       1.44514660e-02, 4.43055543e-02, 1.58769419e-02, 4.62919791e-01,\n",
       "       9.83001061e-02, 3.32843782e-02, 5.76073458e-02, 1.20425414e-03,\n",
       "       2.16149526e-02, 3.88351061e-04, 3.58843063e-04, 3.49674024e-03,\n",
       "       1.44838819e-03])"
      ]
     },
     "execution_count": 61,
     "metadata": {},
     "output_type": "execute_result"
    }
   ],
   "source": [
    "importances = model.feature_importances_\n",
    "importances"
   ]
  },
  {
   "cell_type": "code",
   "execution_count": 66,
   "id": "disciplinary-wallpaper",
   "metadata": {},
   "outputs": [
    {
     "data": {
      "text/plain": [
       "Index(['UNITID', 'CITY', 'STABBR', 'ACCREDAGENCY', 'CONTROL', 'COSTT4_A',\n",
       "       'COSTT4_P', 'TUITIONFEE_IN', 'TUITIONFEE_OUT', 'PFTFAC', 'PCTPELL',\n",
       "       'COSTT4_A_is_missing', 'COSTT4_P_is_missing',\n",
       "       'TUITIONFEE_IN_is_missing', 'TUITIONFEE_OUT_is_missing',\n",
       "       'PFTFAC_is_missing', 'PCTPELL_is_missing'],\n",
       "      dtype='object')"
      ]
     },
     "execution_count": 66,
     "metadata": {},
     "output_type": "execute_result"
    }
   ],
   "source": [
    "X_train.columns"
   ]
  },
  {
   "cell_type": "code",
   "execution_count": 76,
   "id": "fitting-brook",
   "metadata": {},
   "outputs": [],
   "source": [
    "feature_imp = pd.Series(importances*100, index=X_train.columns).sort_values(ascending=False)"
   ]
  },
  {
   "cell_type": "code",
   "execution_count": 77,
   "id": "matched-beast",
   "metadata": {},
   "outputs": [
    {
     "data": {
      "text/plain": [
       "TUITIONFEE_IN                46.291979\n",
       "TUITIONFEE_OUT                9.830011\n",
       "ACCREDAGENCY                  9.510949\n",
       "UNITID                        8.612124\n",
       "PCTPELL                       5.760735\n",
       "COSTT4_A                      4.430555\n",
       "CITY                          3.440144\n",
       "PFTFAC                        3.328438\n",
       "STABBR                        2.911072\n",
       "COSTT4_P_is_missing           2.161495\n",
       "COSTT4_P                      1.587694\n",
       "CONTROL                       1.445147\n",
       "PFTFAC_is_missing             0.349674\n",
       "PCTPELL_is_missing            0.144839\n",
       "COSTT4_A_is_missing           0.120425\n",
       "TUITIONFEE_IN_is_missing      0.038835\n",
       "TUITIONFEE_OUT_is_missing     0.035884\n",
       "dtype: float64"
      ]
     },
     "execution_count": 77,
     "metadata": {},
     "output_type": "execute_result"
    }
   ],
   "source": [
    "feature_imp"
   ]
  },
  {
   "cell_type": "code",
   "execution_count": 79,
   "id": "delayed-characteristic",
   "metadata": {},
   "outputs": [
    {
     "data": {
      "image/png": "[encoded data removed]",
      "text/plain": [
       "<Figure size 432x288 with 1 Axes>"
      ]
     },
     "metadata": {
      "needs_background": "light"
     },
     "output_type": "display_data"
    }
   ],
   "source": [
    "fig, ax = plt.subplots()\n",
    "feature_imp.plot.bar()\n",
    "# forest_importances.plot.bar(yerr=result.importances_std, ax=ax)\n",
    "ax.set_title(\"Feature Importances\")\n",
    "ax.set_ylabel(\"Importance in %\")\n",
    "# fig.tight_layout()\n",
    "plt.show()"
   ]
  },
  {
   "cell_type": "markdown",
   "id": "placed-edinburgh",
   "metadata": {},
   "source": [
    "### Pickle model "
   ]
  },
  {
   "cell_type": "code",
   "execution_count": 58,
   "id": "neutral-height",
   "metadata": {},
   "outputs": [],
   "source": [
    "file_name = 'rf_regressor1.pkl'\n",
    "pickle.dump(model, open(file_name, 'wb'))"
   ]
  },
  {
   "cell_type": "markdown",
   "id": "closing-newport",
   "metadata": {},
   "source": [
    "### Load Pickled Model"
   ]
  },
  {
   "cell_type": "code",
   "execution_count": null,
   "id": "center-johns",
   "metadata": {},
   "outputs": [],
   "source": []
  }
 ],
 "metadata": {
  "kernelspec": {
   "display_name": "Python 3",
   "language": "python",
   "name": "python3"
  },
  "language_info": {
   "codemirror_mode": {
    "name": "ipython",
    "version": 3
   },
   "file_extension": ".py",
   "mimetype": "text/x-python",
   "name": "python",
   "nbconvert_exporter": "python",
   "pygments_lexer": "ipython3",
   "version": "3.8.5"
  }
 },
 "nbformat": 4,
 "nbformat_minor": 5
}
