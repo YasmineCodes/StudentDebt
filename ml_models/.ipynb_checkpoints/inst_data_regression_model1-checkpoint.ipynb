{
 "cells": [
  {
   "cell_type": "code",
   "execution_count": 27,
   "id": "killing-making",
   "metadata": {},
   "outputs": [],
   "source": [
    "# PANDAS IS FOR DATA WRANGLING\n",
    "import pandas as pd\n",
    "import numpy as np\n",
    "# SEABORN IS A PLOTTING LIBRARY\n",
    "import seaborn as sns\n",
    "\n",
    "# MATPLOT LIB IS ALSO A PLOTTING LIBRARY\n",
    "import matplotlib.pyplot as plt\n",
    "\n",
    "# IMPORT OUR LINEAR REGRESSION MODEL\n",
    "from sklearn.linear_model import LinearRegression\n",
    "\n",
    "# IMPORT OUR RANDOM FOREST REGERSSOR MODEL\n",
    "from sklearn.ensemble import RandomForestRegressor\n",
    "\n",
    "\n",
    "# IM LEAVING THERES HERE BECAUSE IM NICE\n",
    "# METRICS HELP US SCORE OUR MODEL\n",
    "from sklearn import metrics\n",
    "\n",
    "# HELP US SPLIT OUR DATA INTO TESTING A TRAINING\n",
    "from sklearn.model_selection import train_test_split\n",
    "\n",
    "# HELPER FUNCTION WITH Z-SCORES TO REMOVE OUTLIERS\n",
    "import scipy.stats as stats\n",
    "\n",
    "%matplotlib inline\n",
    "\n",
    "import pickle"
   ]
  },
  {
   "cell_type": "code",
   "execution_count": 2,
   "id": "pregnant-briefs",
   "metadata": {},
   "outputs": [],
   "source": [
    "#Read in reduced institutional data \n",
    "na_vals = ['Na', 'NaN', 'PrivacySuppressed']\n",
    "df = pd.read_csv('../data/reduced_inst_data.csv', na_values=na_vals, index_col='UNITID')"
   ]
  },
  {
   "cell_type": "code",
   "execution_count": 3,
   "id": "amber-cabinet",
   "metadata": {},
   "outputs": [
    {
     "data": {
      "text/html": [
       "<div>\n",
       "<style scoped>\n",
       "    .dataframe tbody tr th:only-of-type {\n",
       "        vertical-align: middle;\n",
       "    }\n",
       "\n",
       "    .dataframe tbody tr th {\n",
       "        vertical-align: top;\n",
       "    }\n",
       "\n",
       "    .dataframe thead th {\n",
       "        text-align: right;\n",
       "    }\n",
       "</style>\n",
       "<table border=\"1\" class=\"dataframe\">\n",
       "  <thead>\n",
       "    <tr style=\"text-align: right;\">\n",
       "      <th></th>\n",
       "      <th>Unnamed: 0</th>\n",
       "      <th>CITY</th>\n",
       "      <th>STABBR</th>\n",
       "      <th>ACCREDAGENCY</th>\n",
       "      <th>CONTROL</th>\n",
       "      <th>COSTT4_A</th>\n",
       "      <th>COSTT4_P</th>\n",
       "      <th>TUITIONFEE_IN</th>\n",
       "      <th>TUITIONFEE_OUT</th>\n",
       "      <th>PFTFAC</th>\n",
       "      <th>...</th>\n",
       "      <th>MD_INC_DEBT_MDN</th>\n",
       "      <th>HI_INC_DEBT_MDN</th>\n",
       "      <th>DEP_DEBT_MDN</th>\n",
       "      <th>IND_DEBT_MDN</th>\n",
       "      <th>PELL_DEBT_MDN</th>\n",
       "      <th>NOPELL_DEBT_MDN</th>\n",
       "      <th>FEMALE_DEBT_MDN</th>\n",
       "      <th>MALE_DEBT_MDN</th>\n",
       "      <th>FIRSTGEN_DEBT_MDN</th>\n",
       "      <th>NOTFIRSTGEN_DEBT_MDN</th>\n",
       "    </tr>\n",
       "    <tr>\n",
       "      <th>UNITID</th>\n",
       "      <th></th>\n",
       "      <th></th>\n",
       "      <th></th>\n",
       "      <th></th>\n",
       "      <th></th>\n",
       "      <th></th>\n",
       "      <th></th>\n",
       "      <th></th>\n",
       "      <th></th>\n",
       "      <th></th>\n",
       "      <th></th>\n",
       "      <th></th>\n",
       "      <th></th>\n",
       "      <th></th>\n",
       "      <th></th>\n",
       "      <th></th>\n",
       "      <th></th>\n",
       "      <th></th>\n",
       "      <th></th>\n",
       "      <th></th>\n",
       "      <th></th>\n",
       "    </tr>\n",
       "  </thead>\n",
       "  <tbody>\n",
       "    <tr>\n",
       "      <th>100654</th>\n",
       "      <td>0</td>\n",
       "      <td>Normal</td>\n",
       "      <td>AL</td>\n",
       "      <td>Southern Association of Colleges and Schools C...</td>\n",
       "      <td>1</td>\n",
       "      <td>22489.0</td>\n",
       "      <td>NaN</td>\n",
       "      <td>9744.0</td>\n",
       "      <td>18354.0</td>\n",
       "      <td>0.7411</td>\n",
       "      <td>...</td>\n",
       "      <td>16000.0</td>\n",
       "      <td>14518.0</td>\n",
       "      <td>15000.0</td>\n",
       "      <td>19000.0</td>\n",
       "      <td>17500.0</td>\n",
       "      <td>10250.0</td>\n",
       "      <td>17500.0</td>\n",
       "      <td>14250.0</td>\n",
       "      <td>15000.0</td>\n",
       "      <td>16421.0</td>\n",
       "    </tr>\n",
       "    <tr>\n",
       "      <th>100663</th>\n",
       "      <td>1</td>\n",
       "      <td>Birmingham</td>\n",
       "      <td>AL</td>\n",
       "      <td>Southern Association of Colleges and Schools C...</td>\n",
       "      <td>1</td>\n",
       "      <td>24347.0</td>\n",
       "      <td>NaN</td>\n",
       "      <td>8568.0</td>\n",
       "      <td>19704.0</td>\n",
       "      <td>0.7766</td>\n",
       "      <td>...</td>\n",
       "      <td>15250.0</td>\n",
       "      <td>14000.0</td>\n",
       "      <td>15000.0</td>\n",
       "      <td>16000.0</td>\n",
       "      <td>17500.0</td>\n",
       "      <td>12500.0</td>\n",
       "      <td>15000.0</td>\n",
       "      <td>15000.0</td>\n",
       "      <td>15104.0</td>\n",
       "      <td>15000.0</td>\n",
       "    </tr>\n",
       "    <tr>\n",
       "      <th>100690</th>\n",
       "      <td>2</td>\n",
       "      <td>Montgomery</td>\n",
       "      <td>AL</td>\n",
       "      <td>Southern Association of Colleges and Schools C...</td>\n",
       "      <td>2</td>\n",
       "      <td>17680.0</td>\n",
       "      <td>NaN</td>\n",
       "      <td>6900.0</td>\n",
       "      <td>6900.0</td>\n",
       "      <td>1.0000</td>\n",
       "      <td>...</td>\n",
       "      <td>19000.0</td>\n",
       "      <td>25000.0</td>\n",
       "      <td>7646.0</td>\n",
       "      <td>12038.0</td>\n",
       "      <td>9500.0</td>\n",
       "      <td>15509.0</td>\n",
       "      <td>9500.0</td>\n",
       "      <td>17025.0</td>\n",
       "      <td>11500.0</td>\n",
       "      <td>9500.0</td>\n",
       "    </tr>\n",
       "    <tr>\n",
       "      <th>100706</th>\n",
       "      <td>3</td>\n",
       "      <td>Huntsville</td>\n",
       "      <td>AL</td>\n",
       "      <td>Southern Association of Colleges and Schools C...</td>\n",
       "      <td>1</td>\n",
       "      <td>23441.0</td>\n",
       "      <td>NaN</td>\n",
       "      <td>10714.0</td>\n",
       "      <td>22362.0</td>\n",
       "      <td>0.6544</td>\n",
       "      <td>...</td>\n",
       "      <td>14750.0</td>\n",
       "      <td>12500.0</td>\n",
       "      <td>12750.0</td>\n",
       "      <td>18569.0</td>\n",
       "      <td>17014.0</td>\n",
       "      <td>11899.0</td>\n",
       "      <td>15250.0</td>\n",
       "      <td>13333.0</td>\n",
       "      <td>14943.0</td>\n",
       "      <td>13102.0</td>\n",
       "    </tr>\n",
       "    <tr>\n",
       "      <th>100724</th>\n",
       "      <td>4</td>\n",
       "      <td>Montgomery</td>\n",
       "      <td>AL</td>\n",
       "      <td>Southern Association of Colleges and Schools C...</td>\n",
       "      <td>1</td>\n",
       "      <td>21476.0</td>\n",
       "      <td>NaN</td>\n",
       "      <td>11068.0</td>\n",
       "      <td>19396.0</td>\n",
       "      <td>0.5826</td>\n",
       "      <td>...</td>\n",
       "      <td>18500.0</td>\n",
       "      <td>18246.0</td>\n",
       "      <td>17500.0</td>\n",
       "      <td>23925.0</td>\n",
       "      <td>19056.0</td>\n",
       "      <td>12000.0</td>\n",
       "      <td>19500.0</td>\n",
       "      <td>15525.0</td>\n",
       "      <td>19000.0</td>\n",
       "      <td>17500.0</td>\n",
       "    </tr>\n",
       "  </tbody>\n",
       "</table>\n",
       "<p>5 rows × 24 columns</p>\n",
       "</div>"
      ],
      "text/plain": [
       "        Unnamed: 0        CITY STABBR  \\\n",
       "UNITID                                  \n",
       "100654           0      Normal     AL   \n",
       "100663           1  Birmingham     AL   \n",
       "100690           2  Montgomery     AL   \n",
       "100706           3  Huntsville     AL   \n",
       "100724           4  Montgomery     AL   \n",
       "\n",
       "                                             ACCREDAGENCY  CONTROL  COSTT4_A  \\\n",
       "UNITID                                                                         \n",
       "100654  Southern Association of Colleges and Schools C...        1   22489.0   \n",
       "100663  Southern Association of Colleges and Schools C...        1   24347.0   \n",
       "100690  Southern Association of Colleges and Schools C...        2   17680.0   \n",
       "100706  Southern Association of Colleges and Schools C...        1   23441.0   \n",
       "100724  Southern Association of Colleges and Schools C...        1   21476.0   \n",
       "\n",
       "        COSTT4_P  TUITIONFEE_IN  TUITIONFEE_OUT  PFTFAC  ...  MD_INC_DEBT_MDN  \\\n",
       "UNITID                                                   ...                    \n",
       "100654       NaN         9744.0         18354.0  0.7411  ...          16000.0   \n",
       "100663       NaN         8568.0         19704.0  0.7766  ...          15250.0   \n",
       "100690       NaN         6900.0          6900.0  1.0000  ...          19000.0   \n",
       "100706       NaN        10714.0         22362.0  0.6544  ...          14750.0   \n",
       "100724       NaN        11068.0         19396.0  0.5826  ...          18500.0   \n",
       "\n",
       "        HI_INC_DEBT_MDN  DEP_DEBT_MDN  IND_DEBT_MDN  PELL_DEBT_MDN  \\\n",
       "UNITID                                                               \n",
       "100654          14518.0       15000.0       19000.0        17500.0   \n",
       "100663          14000.0       15000.0       16000.0        17500.0   \n",
       "100690          25000.0        7646.0       12038.0         9500.0   \n",
       "100706          12500.0       12750.0       18569.0        17014.0   \n",
       "100724          18246.0       17500.0       23925.0        19056.0   \n",
       "\n",
       "        NOPELL_DEBT_MDN  FEMALE_DEBT_MDN  MALE_DEBT_MDN  FIRSTGEN_DEBT_MDN  \\\n",
       "UNITID                                                                       \n",
       "100654          10250.0          17500.0        14250.0            15000.0   \n",
       "100663          12500.0          15000.0        15000.0            15104.0   \n",
       "100690          15509.0           9500.0        17025.0            11500.0   \n",
       "100706          11899.0          15250.0        13333.0            14943.0   \n",
       "100724          12000.0          19500.0        15525.0            19000.0   \n",
       "\n",
       "        NOTFIRSTGEN_DEBT_MDN  \n",
       "UNITID                        \n",
       "100654               16421.0  \n",
       "100663               15000.0  \n",
       "100690                9500.0  \n",
       "100706               13102.0  \n",
       "100724               17500.0  \n",
       "\n",
       "[5 rows x 24 columns]"
      ]
     },
     "execution_count": 3,
     "metadata": {},
     "output_type": "execute_result"
    }
   ],
   "source": [
    "df.head()"
   ]
  },
  {
   "cell_type": "code",
   "execution_count": 4,
   "id": "patent-category",
   "metadata": {},
   "outputs": [],
   "source": [
    "df.drop('Unnamed: 0', axis=1, inplace=True)"
   ]
  },
  {
   "cell_type": "code",
   "execution_count": 5,
   "id": "broken-killing",
   "metadata": {},
   "outputs": [
    {
     "data": {
      "text/html": [
       "<div>\n",
       "<style scoped>\n",
       "    .dataframe tbody tr th:only-of-type {\n",
       "        vertical-align: middle;\n",
       "    }\n",
       "\n",
       "    .dataframe tbody tr th {\n",
       "        vertical-align: top;\n",
       "    }\n",
       "\n",
       "    .dataframe thead th {\n",
       "        text-align: right;\n",
       "    }\n",
       "</style>\n",
       "<table border=\"1\" class=\"dataframe\">\n",
       "  <thead>\n",
       "    <tr style=\"text-align: right;\">\n",
       "      <th></th>\n",
       "      <th>CITY</th>\n",
       "      <th>STABBR</th>\n",
       "      <th>ACCREDAGENCY</th>\n",
       "      <th>CONTROL</th>\n",
       "      <th>COSTT4_A</th>\n",
       "      <th>COSTT4_P</th>\n",
       "      <th>TUITIONFEE_IN</th>\n",
       "      <th>TUITIONFEE_OUT</th>\n",
       "      <th>PFTFAC</th>\n",
       "      <th>PCTPELL</th>\n",
       "      <th>...</th>\n",
       "      <th>MD_INC_DEBT_MDN</th>\n",
       "      <th>HI_INC_DEBT_MDN</th>\n",
       "      <th>DEP_DEBT_MDN</th>\n",
       "      <th>IND_DEBT_MDN</th>\n",
       "      <th>PELL_DEBT_MDN</th>\n",
       "      <th>NOPELL_DEBT_MDN</th>\n",
       "      <th>FEMALE_DEBT_MDN</th>\n",
       "      <th>MALE_DEBT_MDN</th>\n",
       "      <th>FIRSTGEN_DEBT_MDN</th>\n",
       "      <th>NOTFIRSTGEN_DEBT_MDN</th>\n",
       "    </tr>\n",
       "    <tr>\n",
       "      <th>UNITID</th>\n",
       "      <th></th>\n",
       "      <th></th>\n",
       "      <th></th>\n",
       "      <th></th>\n",
       "      <th></th>\n",
       "      <th></th>\n",
       "      <th></th>\n",
       "      <th></th>\n",
       "      <th></th>\n",
       "      <th></th>\n",
       "      <th></th>\n",
       "      <th></th>\n",
       "      <th></th>\n",
       "      <th></th>\n",
       "      <th></th>\n",
       "      <th></th>\n",
       "      <th></th>\n",
       "      <th></th>\n",
       "      <th></th>\n",
       "      <th></th>\n",
       "      <th></th>\n",
       "    </tr>\n",
       "  </thead>\n",
       "  <tbody>\n",
       "    <tr>\n",
       "      <th>100654</th>\n",
       "      <td>Normal</td>\n",
       "      <td>AL</td>\n",
       "      <td>Southern Association of Colleges and Schools C...</td>\n",
       "      <td>1</td>\n",
       "      <td>22489.0</td>\n",
       "      <td>NaN</td>\n",
       "      <td>9744.0</td>\n",
       "      <td>18354.0</td>\n",
       "      <td>0.7411</td>\n",
       "      <td>0.7067</td>\n",
       "      <td>...</td>\n",
       "      <td>16000.0</td>\n",
       "      <td>14518.0</td>\n",
       "      <td>15000.0</td>\n",
       "      <td>19000.0</td>\n",
       "      <td>17500.0</td>\n",
       "      <td>10250.0</td>\n",
       "      <td>17500.0</td>\n",
       "      <td>14250.0</td>\n",
       "      <td>15000.0</td>\n",
       "      <td>16421.0</td>\n",
       "    </tr>\n",
       "    <tr>\n",
       "      <th>100663</th>\n",
       "      <td>Birmingham</td>\n",
       "      <td>AL</td>\n",
       "      <td>Southern Association of Colleges and Schools C...</td>\n",
       "      <td>1</td>\n",
       "      <td>24347.0</td>\n",
       "      <td>NaN</td>\n",
       "      <td>8568.0</td>\n",
       "      <td>19704.0</td>\n",
       "      <td>0.7766</td>\n",
       "      <td>0.3632</td>\n",
       "      <td>...</td>\n",
       "      <td>15250.0</td>\n",
       "      <td>14000.0</td>\n",
       "      <td>15000.0</td>\n",
       "      <td>16000.0</td>\n",
       "      <td>17500.0</td>\n",
       "      <td>12500.0</td>\n",
       "      <td>15000.0</td>\n",
       "      <td>15000.0</td>\n",
       "      <td>15104.0</td>\n",
       "      <td>15000.0</td>\n",
       "    </tr>\n",
       "    <tr>\n",
       "      <th>100690</th>\n",
       "      <td>Montgomery</td>\n",
       "      <td>AL</td>\n",
       "      <td>Southern Association of Colleges and Schools C...</td>\n",
       "      <td>2</td>\n",
       "      <td>17680.0</td>\n",
       "      <td>NaN</td>\n",
       "      <td>6900.0</td>\n",
       "      <td>6900.0</td>\n",
       "      <td>1.0000</td>\n",
       "      <td>0.7673</td>\n",
       "      <td>...</td>\n",
       "      <td>19000.0</td>\n",
       "      <td>25000.0</td>\n",
       "      <td>7646.0</td>\n",
       "      <td>12038.0</td>\n",
       "      <td>9500.0</td>\n",
       "      <td>15509.0</td>\n",
       "      <td>9500.0</td>\n",
       "      <td>17025.0</td>\n",
       "      <td>11500.0</td>\n",
       "      <td>9500.0</td>\n",
       "    </tr>\n",
       "    <tr>\n",
       "      <th>100706</th>\n",
       "      <td>Huntsville</td>\n",
       "      <td>AL</td>\n",
       "      <td>Southern Association of Colleges and Schools C...</td>\n",
       "      <td>1</td>\n",
       "      <td>23441.0</td>\n",
       "      <td>NaN</td>\n",
       "      <td>10714.0</td>\n",
       "      <td>22362.0</td>\n",
       "      <td>0.6544</td>\n",
       "      <td>0.2698</td>\n",
       "      <td>...</td>\n",
       "      <td>14750.0</td>\n",
       "      <td>12500.0</td>\n",
       "      <td>12750.0</td>\n",
       "      <td>18569.0</td>\n",
       "      <td>17014.0</td>\n",
       "      <td>11899.0</td>\n",
       "      <td>15250.0</td>\n",
       "      <td>13333.0</td>\n",
       "      <td>14943.0</td>\n",
       "      <td>13102.0</td>\n",
       "    </tr>\n",
       "    <tr>\n",
       "      <th>100724</th>\n",
       "      <td>Montgomery</td>\n",
       "      <td>AL</td>\n",
       "      <td>Southern Association of Colleges and Schools C...</td>\n",
       "      <td>1</td>\n",
       "      <td>21476.0</td>\n",
       "      <td>NaN</td>\n",
       "      <td>11068.0</td>\n",
       "      <td>19396.0</td>\n",
       "      <td>0.5826</td>\n",
       "      <td>0.7448</td>\n",
       "      <td>...</td>\n",
       "      <td>18500.0</td>\n",
       "      <td>18246.0</td>\n",
       "      <td>17500.0</td>\n",
       "      <td>23925.0</td>\n",
       "      <td>19056.0</td>\n",
       "      <td>12000.0</td>\n",
       "      <td>19500.0</td>\n",
       "      <td>15525.0</td>\n",
       "      <td>19000.0</td>\n",
       "      <td>17500.0</td>\n",
       "    </tr>\n",
       "  </tbody>\n",
       "</table>\n",
       "<p>5 rows × 23 columns</p>\n",
       "</div>"
      ],
      "text/plain": [
       "              CITY STABBR                                       ACCREDAGENCY  \\\n",
       "UNITID                                                                         \n",
       "100654      Normal     AL  Southern Association of Colleges and Schools C...   \n",
       "100663  Birmingham     AL  Southern Association of Colleges and Schools C...   \n",
       "100690  Montgomery     AL  Southern Association of Colleges and Schools C...   \n",
       "100706  Huntsville     AL  Southern Association of Colleges and Schools C...   \n",
       "100724  Montgomery     AL  Southern Association of Colleges and Schools C...   \n",
       "\n",
       "        CONTROL  COSTT4_A  COSTT4_P  TUITIONFEE_IN  TUITIONFEE_OUT  PFTFAC  \\\n",
       "UNITID                                                                       \n",
       "100654        1   22489.0       NaN         9744.0         18354.0  0.7411   \n",
       "100663        1   24347.0       NaN         8568.0         19704.0  0.7766   \n",
       "100690        2   17680.0       NaN         6900.0          6900.0  1.0000   \n",
       "100706        1   23441.0       NaN        10714.0         22362.0  0.6544   \n",
       "100724        1   21476.0       NaN        11068.0         19396.0  0.5826   \n",
       "\n",
       "        PCTPELL  ...  MD_INC_DEBT_MDN  HI_INC_DEBT_MDN  DEP_DEBT_MDN  \\\n",
       "UNITID           ...                                                   \n",
       "100654   0.7067  ...          16000.0          14518.0       15000.0   \n",
       "100663   0.3632  ...          15250.0          14000.0       15000.0   \n",
       "100690   0.7673  ...          19000.0          25000.0        7646.0   \n",
       "100706   0.2698  ...          14750.0          12500.0       12750.0   \n",
       "100724   0.7448  ...          18500.0          18246.0       17500.0   \n",
       "\n",
       "        IND_DEBT_MDN  PELL_DEBT_MDN  NOPELL_DEBT_MDN  FEMALE_DEBT_MDN  \\\n",
       "UNITID                                                                  \n",
       "100654       19000.0        17500.0          10250.0          17500.0   \n",
       "100663       16000.0        17500.0          12500.0          15000.0   \n",
       "100690       12038.0         9500.0          15509.0           9500.0   \n",
       "100706       18569.0        17014.0          11899.0          15250.0   \n",
       "100724       23925.0        19056.0          12000.0          19500.0   \n",
       "\n",
       "        MALE_DEBT_MDN  FIRSTGEN_DEBT_MDN  NOTFIRSTGEN_DEBT_MDN  \n",
       "UNITID                                                          \n",
       "100654        14250.0            15000.0               16421.0  \n",
       "100663        15000.0            15104.0               15000.0  \n",
       "100690        17025.0            11500.0                9500.0  \n",
       "100706        13333.0            14943.0               13102.0  \n",
       "100724        15525.0            19000.0               17500.0  \n",
       "\n",
       "[5 rows x 23 columns]"
      ]
     },
     "execution_count": 5,
     "metadata": {},
     "output_type": "execute_result"
    }
   ],
   "source": [
    "df.head()"
   ]
  },
  {
   "cell_type": "code",
   "execution_count": 6,
   "id": "musical-republican",
   "metadata": {},
   "outputs": [
    {
     "data": {
      "text/plain": [
       "False    6787\n",
       "True       19\n",
       "dtype: int64"
      ]
     },
     "execution_count": 6,
     "metadata": {},
     "output_type": "execute_result"
    }
   ],
   "source": [
    "df.duplicated().value_counts()"
   ]
  },
  {
   "cell_type": "code",
   "execution_count": 7,
   "id": "silver-adelaide",
   "metadata": {},
   "outputs": [],
   "source": [
    "#Drop duplicates\n",
    "df.drop_duplicates(inplace=True)"
   ]
  },
  {
   "cell_type": "code",
   "execution_count": 8,
   "id": "gentle-influence",
   "metadata": {},
   "outputs": [
    {
     "data": {
      "text/plain": [
       "CITY                       0\n",
       "STABBR                     0\n",
       "ACCREDAGENCY             354\n",
       "CONTROL                    0\n",
       "COSTT4_A                3356\n",
       "COSTT4_P                4612\n",
       "TUITIONFEE_IN           2929\n",
       "TUITIONFEE_OUT          3167\n",
       "PFTFAC                  3167\n",
       "PCTPELL                  774\n",
       "GRAD_DEBT_MDN           1489\n",
       "WDRAW_DEBT_MDN          1640\n",
       "LO_INC_DEBT_MDN         1576\n",
       "MD_INC_DEBT_MDN         2349\n",
       "HI_INC_DEBT_MDN         2355\n",
       "DEP_DEBT_MDN            1752\n",
       "IND_DEBT_MDN            1752\n",
       "PELL_DEBT_MDN           1950\n",
       "NOPELL_DEBT_MDN         1950\n",
       "FEMALE_DEBT_MDN         2194\n",
       "MALE_DEBT_MDN           2194\n",
       "FIRSTGEN_DEBT_MDN       2053\n",
       "NOTFIRSTGEN_DEBT_MDN    2053\n",
       "dtype: int64"
      ]
     },
     "execution_count": 8,
     "metadata": {},
     "output_type": "execute_result"
    }
   ],
   "source": [
    "df.isna().sum()"
   ]
  },
  {
   "cell_type": "code",
   "execution_count": 9,
   "id": "stable-intensity",
   "metadata": {},
   "outputs": [
    {
     "data": {
      "text/plain": [
       "CITY                     object\n",
       "STABBR                   object\n",
       "ACCREDAGENCY             object\n",
       "CONTROL                   int64\n",
       "COSTT4_A                float64\n",
       "COSTT4_P                float64\n",
       "TUITIONFEE_IN           float64\n",
       "TUITIONFEE_OUT          float64\n",
       "PFTFAC                  float64\n",
       "PCTPELL                 float64\n",
       "GRAD_DEBT_MDN           float64\n",
       "WDRAW_DEBT_MDN          float64\n",
       "LO_INC_DEBT_MDN         float64\n",
       "MD_INC_DEBT_MDN         float64\n",
       "HI_INC_DEBT_MDN         float64\n",
       "DEP_DEBT_MDN            float64\n",
       "IND_DEBT_MDN            float64\n",
       "PELL_DEBT_MDN           float64\n",
       "NOPELL_DEBT_MDN         float64\n",
       "FEMALE_DEBT_MDN         float64\n",
       "MALE_DEBT_MDN           float64\n",
       "FIRSTGEN_DEBT_MDN       float64\n",
       "NOTFIRSTGEN_DEBT_MDN    float64\n",
       "dtype: object"
      ]
     },
     "execution_count": 9,
     "metadata": {},
     "output_type": "execute_result"
    }
   ],
   "source": [
    "df.dtypes"
   ]
  },
  {
   "cell_type": "markdown",
   "id": "foreign-nicaragua",
   "metadata": {},
   "source": [
    "### Turn object times into pandas categories "
   ]
  },
  {
   "cell_type": "code",
   "execution_count": 10,
   "id": "documentary-communication",
   "metadata": {},
   "outputs": [
    {
     "name": "stdout",
     "output_type": "stream",
     "text": [
      "CITY\n",
      "STABBR\n",
      "ACCREDAGENCY\n"
     ]
    }
   ],
   "source": [
    "categoricals = []\n",
    "for label, content in df.items(): \n",
    "    if pd.api.types.is_string_dtype(content): \n",
    "        print(label)\n",
    "        categoricals.append(label)"
   ]
  },
  {
   "cell_type": "code",
   "execution_count": 11,
   "id": "arbitrary-cable",
   "metadata": {},
   "outputs": [],
   "source": [
    "#Turn string values into category values \n",
    "for label, content in df.items(): \n",
    "    if pd.api.types.is_string_dtype(content): \n",
    "        df[label] = content.astype('category').cat.as_ordered()"
   ]
  },
  {
   "cell_type": "code",
   "execution_count": 12,
   "id": "miniature-survivor",
   "metadata": {},
   "outputs": [
    {
     "name": "stdout",
     "output_type": "stream",
     "text": [
      "<class 'pandas.core.frame.DataFrame'>\n",
      "Int64Index: 6787 entries, 100654 to 49146401\n",
      "Data columns (total 23 columns):\n",
      " #   Column                Non-Null Count  Dtype   \n",
      "---  ------                --------------  -----   \n",
      " 0   CITY                  6787 non-null   category\n",
      " 1   STABBR                6787 non-null   category\n",
      " 2   ACCREDAGENCY          6433 non-null   category\n",
      " 3   CONTROL               6787 non-null   int64   \n",
      " 4   COSTT4_A              3431 non-null   float64 \n",
      " 5   COSTT4_P              2175 non-null   float64 \n",
      " 6   TUITIONFEE_IN         3858 non-null   float64 \n",
      " 7   TUITIONFEE_OUT        3620 non-null   float64 \n",
      " 8   PFTFAC                3620 non-null   float64 \n",
      " 9   PCTPELL               6013 non-null   float64 \n",
      " 10  GRAD_DEBT_MDN         5298 non-null   float64 \n",
      " 11  WDRAW_DEBT_MDN        5147 non-null   float64 \n",
      " 12  LO_INC_DEBT_MDN       5211 non-null   float64 \n",
      " 13  MD_INC_DEBT_MDN       4438 non-null   float64 \n",
      " 14  HI_INC_DEBT_MDN       4432 non-null   float64 \n",
      " 15  DEP_DEBT_MDN          5035 non-null   float64 \n",
      " 16  IND_DEBT_MDN          5035 non-null   float64 \n",
      " 17  PELL_DEBT_MDN         4837 non-null   float64 \n",
      " 18  NOPELL_DEBT_MDN       4837 non-null   float64 \n",
      " 19  FEMALE_DEBT_MDN       4593 non-null   float64 \n",
      " 20  MALE_DEBT_MDN         4593 non-null   float64 \n",
      " 21  FIRSTGEN_DEBT_MDN     4734 non-null   float64 \n",
      " 22  NOTFIRSTGEN_DEBT_MDN  4734 non-null   float64 \n",
      "dtypes: category(3), float64(19), int64(1)\n",
      "memory usage: 1.2 MB\n"
     ]
    }
   ],
   "source": [
    "#Check that object columns changed to categories \n",
    "df.info()"
   ]
  },
  {
   "cell_type": "code",
   "execution_count": 13,
   "id": "super-doctor",
   "metadata": {},
   "outputs": [
    {
     "data": {
      "text/plain": [
       "Index(['ARTESIA', 'Aberdeen', 'Abilene', 'Abingdon', 'Abington', 'Ada',\n",
       "       'Addison', 'Adelphi', 'Adelphia', 'Adrian',\n",
       "       ...\n",
       "       'Yuba City', 'Yucaipa', 'Yucca Valley', 'Yukon', 'Yuma', 'Zanesville',\n",
       "       'Zebulon', 'greenacres', 'memphis', 'white plains'],\n",
       "      dtype='object', length=2456)"
      ]
     },
     "execution_count": 13,
     "metadata": {},
     "output_type": "execute_result"
    }
   ],
   "source": [
    "df.CITY.cat.categories"
   ]
  },
  {
   "cell_type": "code",
   "execution_count": 43,
   "id": "extended-intranet",
   "metadata": {},
   "outputs": [
    {
     "data": {
      "text/plain": [
       "UNITID\n",
       "457314         0\n",
       "219259         1\n",
       "235334         1\n",
       "219295         1\n",
       "225247         2\n",
       "            ... \n",
       "204255      2451\n",
       "48511101    2452\n",
       "485485      2453\n",
       "483744      2454\n",
       "475404      2455\n",
       "Length: 6433, dtype: int16"
      ]
     },
     "execution_count": 43,
     "metadata": {},
     "output_type": "execute_result"
    }
   ],
   "source": [
    "df.CITY.cat.codes.sort_values()"
   ]
  },
  {
   "cell_type": "code",
   "execution_count": 66,
   "id": "dominican-richardson",
   "metadata": {},
   "outputs": [
    {
     "data": {
      "text/plain": [
       "CITY                                                              Zebulon\n",
       "STABBR                                                                 GA\n",
       "ACCREDAGENCY            Southern Association of Colleges and Schools C...\n",
       "CONTROL                                                                 1\n",
       "COSTT4_A                                                              NaN\n",
       "COSTT4_P                                                              NaN\n",
       "TUITIONFEE_IN                                                      6120.0\n",
       "TUITIONFEE_OUT                                                        NaN\n",
       "PFTFAC                                                                NaN\n",
       "PCTPELL                                                               NaN\n",
       "GRAD_DEBT_MDN                                                      9371.0\n",
       "WDRAW_DEBT_MDN                                                     4940.0\n",
       "LO_INC_DEBT_MDN                                                    5500.0\n",
       "MD_INC_DEBT_MDN                                                    5343.0\n",
       "HI_INC_DEBT_MDN                                                    5500.0\n",
       "DEP_DEBT_MDN                                                       4500.0\n",
       "IND_DEBT_MDN                                                       7500.0\n",
       "PELL_DEBT_MDN                                                      5500.0\n",
       "NOPELL_DEBT_MDN                                                    5407.0\n",
       "FEMALE_DEBT_MDN                                                    5500.0\n",
       "MALE_DEBT_MDN                                                      5299.0\n",
       "FIRSTGEN_DEBT_MDN                                                  5500.0\n",
       "NOTFIRSTGEN_DEBT_MDN                                               5196.0\n",
       "Name: 48511101, dtype: object"
      ]
     },
     "execution_count": 66,
     "metadata": {},
     "output_type": "execute_result"
    }
   ],
   "source": [
    "df.loc[48511101]"
   ]
  },
  {
   "cell_type": "markdown",
   "id": "indian-obligation",
   "metadata": {},
   "source": [
    "### Handle null values in categorical columns "
   ]
  },
  {
   "cell_type": "code",
   "execution_count": 15,
   "id": "ahead-shanghai",
   "metadata": {},
   "outputs": [
    {
     "data": {
      "text/plain": [
       "CITY              0\n",
       "STABBR            0\n",
       "ACCREDAGENCY    354\n",
       "dtype: int64"
      ]
     },
     "execution_count": 15,
     "metadata": {},
     "output_type": "execute_result"
    }
   ],
   "source": [
    "# Check for nulls in categorical columns\n",
    "df[categoricals].isna().sum()"
   ]
  },
  {
   "cell_type": "code",
   "execution_count": 16,
   "id": "blessed-composer",
   "metadata": {},
   "outputs": [],
   "source": [
    "# drop columns nulls ACCREDAGENCY \n",
    "df.dropna(subset=['ACCREDAGENCY'], inplace=True)"
   ]
  },
  {
   "cell_type": "code",
   "execution_count": 17,
   "id": "inside-elevation",
   "metadata": {},
   "outputs": [
    {
     "data": {
      "text/plain": [
       "(6433, 23)"
      ]
     },
     "execution_count": 17,
     "metadata": {},
     "output_type": "execute_result"
    }
   ],
   "source": [
    "df.shape"
   ]
  },
  {
   "cell_type": "code",
   "execution_count": 18,
   "id": "aging-oakland",
   "metadata": {},
   "outputs": [
    {
     "data": {
      "text/plain": [
       "CITY            0\n",
       "STABBR          0\n",
       "ACCREDAGENCY    0\n",
       "dtype: int64"
      ]
     },
     "execution_count": 18,
     "metadata": {},
     "output_type": "execute_result"
    }
   ],
   "source": [
    "df[categoricals].isna().sum()"
   ]
  },
  {
   "cell_type": "markdown",
   "id": "adolescent-pencil",
   "metadata": {},
   "source": [
    "### Save Category Codes into dataframe and then csv to be accessed later "
   ]
  },
  {
   "cell_type": "code",
   "execution_count": 49,
   "id": "virtual-demonstration",
   "metadata": {},
   "outputs": [],
   "source": [
    "cats = pd.Categorical(df['CITY']).categories"
   ]
  },
  {
   "cell_type": "code",
   "execution_count": 51,
   "id": "revised-mobile",
   "metadata": {},
   "outputs": [
    {
     "data": {
      "text/plain": [
       "Index(['ARTESIA', 'Aberdeen', 'Abilene', 'Abingdon', 'Abington', 'Ada',\n",
       "       'Addison', 'Adelphi', 'Adelphia', 'Adrian',\n",
       "       ...\n",
       "       'Yuba City', 'Yucaipa', 'Yucca Valley', 'Yukon', 'Yuma', 'Zanesville',\n",
       "       'Zebulon', 'greenacres', 'memphis', 'white plains'],\n",
       "      dtype='object', length=2456)"
      ]
     },
     "execution_count": 51,
     "metadata": {},
     "output_type": "execute_result"
    }
   ],
   "source": [
    "cats"
   ]
  },
  {
   "cell_type": "code",
   "execution_count": 50,
   "id": "certified-friendship",
   "metadata": {},
   "outputs": [
    {
     "data": {
      "text/plain": [
       "array([   0,    1,    2, ..., 2453, 2454, 2455], dtype=int16)"
      ]
     },
     "execution_count": 50,
     "metadata": {},
     "output_type": "execute_result"
    }
   ],
   "source": [
    "pd.Categorical(cats).codes"
   ]
  },
  {
   "cell_type": "code",
   "execution_count": 64,
   "id": "legendary-intelligence",
   "metadata": {},
   "outputs": [],
   "source": [
    "# Function to create dataframes containing each categories/codes set \n",
    "def create_codes_df(col, df): \n",
    "    df_tmp = pd.DataFrame()\n",
    "    # Create column in category codes df with the categories\n",
    "    df_tmp[col] = pd.Categorical(df[col]).categories\n",
    "    # Create column in category codes df with the matching codes \n",
    "    df_tmp[col+'_code'] = pd.Categorical(df_tmp[col]).codes \n",
    "    return df_tmp "
   ]
  },
  {
   "cell_type": "code",
   "execution_count": 79,
   "id": "understanding-patch",
   "metadata": {},
   "outputs": [
    {
     "data": {
      "text/html": [
       "<div>\n",
       "<style scoped>\n",
       "    .dataframe tbody tr th:only-of-type {\n",
       "        vertical-align: middle;\n",
       "    }\n",
       "\n",
       "    .dataframe tbody tr th {\n",
       "        vertical-align: top;\n",
       "    }\n",
       "\n",
       "    .dataframe thead th {\n",
       "        text-align: right;\n",
       "    }\n",
       "</style>\n",
       "<table border=\"1\" class=\"dataframe\">\n",
       "  <thead>\n",
       "    <tr style=\"text-align: right;\">\n",
       "      <th></th>\n",
       "      <th>CITY</th>\n",
       "      <th>CITY_code</th>\n",
       "    </tr>\n",
       "  </thead>\n",
       "  <tbody>\n",
       "    <tr>\n",
       "      <th>0</th>\n",
       "      <td>ARTESIA</td>\n",
       "      <td>0</td>\n",
       "    </tr>\n",
       "    <tr>\n",
       "      <th>1</th>\n",
       "      <td>Aberdeen</td>\n",
       "      <td>1</td>\n",
       "    </tr>\n",
       "    <tr>\n",
       "      <th>2</th>\n",
       "      <td>Abilene</td>\n",
       "      <td>2</td>\n",
       "    </tr>\n",
       "    <tr>\n",
       "      <th>3</th>\n",
       "      <td>Abingdon</td>\n",
       "      <td>3</td>\n",
       "    </tr>\n",
       "    <tr>\n",
       "      <th>4</th>\n",
       "      <td>Abington</td>\n",
       "      <td>4</td>\n",
       "    </tr>\n",
       "    <tr>\n",
       "      <th>...</th>\n",
       "      <td>...</td>\n",
       "      <td>...</td>\n",
       "    </tr>\n",
       "    <tr>\n",
       "      <th>2451</th>\n",
       "      <td>Zanesville</td>\n",
       "      <td>2451</td>\n",
       "    </tr>\n",
       "    <tr>\n",
       "      <th>2452</th>\n",
       "      <td>Zebulon</td>\n",
       "      <td>2452</td>\n",
       "    </tr>\n",
       "    <tr>\n",
       "      <th>2453</th>\n",
       "      <td>greenacres</td>\n",
       "      <td>2453</td>\n",
       "    </tr>\n",
       "    <tr>\n",
       "      <th>2454</th>\n",
       "      <td>memphis</td>\n",
       "      <td>2454</td>\n",
       "    </tr>\n",
       "    <tr>\n",
       "      <th>2455</th>\n",
       "      <td>white plains</td>\n",
       "      <td>2455</td>\n",
       "    </tr>\n",
       "  </tbody>\n",
       "</table>\n",
       "<p>2456 rows × 2 columns</p>\n",
       "</div>"
      ],
      "text/plain": [
       "              CITY  CITY_code\n",
       "0          ARTESIA          0\n",
       "1         Aberdeen          1\n",
       "2          Abilene          2\n",
       "3         Abingdon          3\n",
       "4         Abington          4\n",
       "...            ...        ...\n",
       "2451    Zanesville       2451\n",
       "2452       Zebulon       2452\n",
       "2453    greenacres       2453\n",
       "2454       memphis       2454\n",
       "2455  white plains       2455\n",
       "\n",
       "[2456 rows x 2 columns]"
      ]
     },
     "execution_count": 79,
     "metadata": {},
     "output_type": "execute_result"
    }
   ],
   "source": [
    "city_cat_codes = create_codes_df('CITY', df)\n",
    "city_cat_codes"
   ]
  },
  {
   "cell_type": "code",
   "execution_count": 80,
   "id": "vocal-plate",
   "metadata": {},
   "outputs": [],
   "source": [
    "stabbr_cat_codes = create_codes_df('STABBR', df)\n",
    "accred_cat_codes = create_codes_df('ACCREDAGENCY', df)"
   ]
  },
  {
   "cell_type": "code",
   "execution_count": 82,
   "id": "dried-announcement",
   "metadata": {},
   "outputs": [],
   "source": [
    "# Save cat codes to csv files for later reference \n",
    "stabbr_cat_codes.to_csv('./stabbr_cat_codes.csv', index=False)\n",
    "city_cat_codes.to_csv('./city_cat_codes.csv', index=False)\n",
    "accred_cat_codes.to_csv('./accred_cat_codes.csv', index=False)"
   ]
  },
  {
   "cell_type": "markdown",
   "id": "tropical-assistant",
   "metadata": {},
   "source": [
    "### Turn categorical columns into numbers "
   ]
  },
  {
   "cell_type": "code",
   "execution_count": 83,
   "id": "nutritional-sellers",
   "metadata": {},
   "outputs": [],
   "source": [
    "for label, content in df.items(): \n",
    "    if not pd.api.types.is_numeric_dtype(content): \n",
    "        df[label] = pd.Categorical(content).codes"
   ]
  },
  {
   "cell_type": "code",
   "execution_count": 84,
   "id": "loaded-storm",
   "metadata": {},
   "outputs": [
    {
     "name": "stdout",
     "output_type": "stream",
     "text": [
      "<class 'pandas.core.frame.DataFrame'>\n",
      "Int64Index: 6433 entries, 100654 to 49146401\n",
      "Data columns (total 23 columns):\n",
      " #   Column                Non-Null Count  Dtype  \n",
      "---  ------                --------------  -----  \n",
      " 0   CITY                  6433 non-null   int16  \n",
      " 1   STABBR                6433 non-null   int8   \n",
      " 2   ACCREDAGENCY          6433 non-null   int8   \n",
      " 3   CONTROL               6433 non-null   int64  \n",
      " 4   COSTT4_A              3359 non-null   float64\n",
      " 5   COSTT4_P              2009 non-null   float64\n",
      " 6   TUITIONFEE_IN         3734 non-null   float64\n",
      " 7   TUITIONFEE_OUT        3522 non-null   float64\n",
      " 8   PFTFAC                3573 non-null   float64\n",
      " 9   PCTPELL               5722 non-null   float64\n",
      " 10  GRAD_DEBT_MDN         5034 non-null   float64\n",
      " 11  WDRAW_DEBT_MDN        4893 non-null   float64\n",
      " 12  LO_INC_DEBT_MDN       4960 non-null   float64\n",
      " 13  MD_INC_DEBT_MDN       4248 non-null   float64\n",
      " 14  HI_INC_DEBT_MDN       4242 non-null   float64\n",
      " 15  DEP_DEBT_MDN          4787 non-null   float64\n",
      " 16  IND_DEBT_MDN          4787 non-null   float64\n",
      " 17  PELL_DEBT_MDN         4613 non-null   float64\n",
      " 18  NOPELL_DEBT_MDN       4613 non-null   float64\n",
      " 19  FEMALE_DEBT_MDN       4375 non-null   float64\n",
      " 20  MALE_DEBT_MDN         4375 non-null   float64\n",
      " 21  FIRSTGEN_DEBT_MDN     4516 non-null   float64\n",
      " 22  NOTFIRSTGEN_DEBT_MDN  4516 non-null   float64\n",
      "dtypes: float64(19), int16(1), int64(1), int8(2)\n",
      "memory usage: 1.3 MB\n"
     ]
    }
   ],
   "source": [
    "# check that categories are now ints \n",
    "df.info()"
   ]
  },
  {
   "cell_type": "markdown",
   "id": "equipped-spectrum",
   "metadata": {},
   "source": [
    "### Split data into train and test sets"
   ]
  },
  {
   "cell_type": "code",
   "execution_count": 85,
   "id": "plastic-warning",
   "metadata": {},
   "outputs": [
    {
     "data": {
      "text/plain": [
       "Index(['CITY', 'STABBR', 'ACCREDAGENCY', 'CONTROL', 'COSTT4_A', 'COSTT4_P',\n",
       "       'TUITIONFEE_IN', 'TUITIONFEE_OUT', 'PFTFAC', 'PCTPELL', 'GRAD_DEBT_MDN',\n",
       "       'WDRAW_DEBT_MDN', 'LO_INC_DEBT_MDN', 'MD_INC_DEBT_MDN',\n",
       "       'HI_INC_DEBT_MDN', 'DEP_DEBT_MDN', 'IND_DEBT_MDN', 'PELL_DEBT_MDN',\n",
       "       'NOPELL_DEBT_MDN', 'FEMALE_DEBT_MDN', 'MALE_DEBT_MDN',\n",
       "       'FIRSTGEN_DEBT_MDN', 'NOTFIRSTGEN_DEBT_MDN'],\n",
       "      dtype='object')"
      ]
     },
     "execution_count": 85,
     "metadata": {},
     "output_type": "execute_result"
    }
   ],
   "source": [
    "df.columns"
   ]
  },
  {
   "cell_type": "code",
   "execution_count": 86,
   "id": "extended-floor",
   "metadata": {},
   "outputs": [],
   "source": [
    "# Select predictor features \n",
    "selected_features = ['CITY', 'STABBR', 'ACCREDAGENCY', 'CONTROL', 'COSTT4_A', 'COSTT4_P',\n",
    "       'TUITIONFEE_IN', 'TUITIONFEE_OUT', 'PFTFAC', 'PCTPELL']"
   ]
  },
  {
   "cell_type": "code",
   "execution_count": 87,
   "id": "expressed-segment",
   "metadata": {},
   "outputs": [],
   "source": [
    "target = 'GRAD_DEBT_MDN'"
   ]
  },
  {
   "cell_type": "code",
   "execution_count": 88,
   "id": "modular-friendly",
   "metadata": {},
   "outputs": [
    {
     "data": {
      "text/plain": [
       "UNITID\n",
       "100654      33375.0\n",
       "100663      22500.0\n",
       "100690      27334.0\n",
       "100706      21607.0\n",
       "100724      32000.0\n",
       "             ...   \n",
       "48511112     9371.0\n",
       "48511113     9371.0\n",
       "48616901    12125.0\n",
       "49005401    21000.0\n",
       "49146401        NaN\n",
       "Name: GRAD_DEBT_MDN, Length: 6433, dtype: float64"
      ]
     },
     "execution_count": 88,
     "metadata": {},
     "output_type": "execute_result"
    }
   ],
   "source": [
    "df[target]"
   ]
  },
  {
   "cell_type": "code",
   "execution_count": 89,
   "id": "peaceful-colon",
   "metadata": {},
   "outputs": [],
   "source": [
    "#Define X and y variables \n",
    "X = df[selected_features]\n",
    "y = df[target]\n"
   ]
  },
  {
   "cell_type": "code",
   "execution_count": 90,
   "id": "random-enemy",
   "metadata": {},
   "outputs": [],
   "source": [
    "X_train, X_test, y_train, y_test = train_test_split(X, y, test_size=0.2, random_state=3)"
   ]
  },
  {
   "cell_type": "code",
   "execution_count": 91,
   "id": "balanced-recovery",
   "metadata": {},
   "outputs": [
    {
     "data": {
      "text/html": [
       "<div>\n",
       "<style scoped>\n",
       "    .dataframe tbody tr th:only-of-type {\n",
       "        vertical-align: middle;\n",
       "    }\n",
       "\n",
       "    .dataframe tbody tr th {\n",
       "        vertical-align: top;\n",
       "    }\n",
       "\n",
       "    .dataframe thead th {\n",
       "        text-align: right;\n",
       "    }\n",
       "</style>\n",
       "<table border=\"1\" class=\"dataframe\">\n",
       "  <thead>\n",
       "    <tr style=\"text-align: right;\">\n",
       "      <th></th>\n",
       "      <th>CITY</th>\n",
       "      <th>STABBR</th>\n",
       "      <th>ACCREDAGENCY</th>\n",
       "      <th>CONTROL</th>\n",
       "      <th>COSTT4_A</th>\n",
       "      <th>COSTT4_P</th>\n",
       "      <th>TUITIONFEE_IN</th>\n",
       "      <th>TUITIONFEE_OUT</th>\n",
       "      <th>PFTFAC</th>\n",
       "      <th>PCTPELL</th>\n",
       "    </tr>\n",
       "    <tr>\n",
       "      <th>UNITID</th>\n",
       "      <th></th>\n",
       "      <th></th>\n",
       "      <th></th>\n",
       "      <th></th>\n",
       "      <th></th>\n",
       "      <th></th>\n",
       "      <th></th>\n",
       "      <th></th>\n",
       "      <th></th>\n",
       "      <th></th>\n",
       "    </tr>\n",
       "  </thead>\n",
       "  <tbody>\n",
       "    <tr>\n",
       "      <th>101189</th>\n",
       "      <td>1380</td>\n",
       "      <td>1</td>\n",
       "      <td>38</td>\n",
       "      <td>2</td>\n",
       "      <td>33944.0</td>\n",
       "      <td>NaN</td>\n",
       "      <td>21690.0</td>\n",
       "      <td>21690.0</td>\n",
       "      <td>0.4534</td>\n",
       "      <td>0.4888</td>\n",
       "    </tr>\n",
       "    <tr>\n",
       "      <th>429085</th>\n",
       "      <td>959</td>\n",
       "      <td>50</td>\n",
       "      <td>38</td>\n",
       "      <td>3</td>\n",
       "      <td>NaN</td>\n",
       "      <td>NaN</td>\n",
       "      <td>NaN</td>\n",
       "      <td>NaN</td>\n",
       "      <td>0.5333</td>\n",
       "      <td>NaN</td>\n",
       "    </tr>\n",
       "    <tr>\n",
       "      <th>248192</th>\n",
       "      <td>2367</td>\n",
       "      <td>20</td>\n",
       "      <td>26</td>\n",
       "      <td>3</td>\n",
       "      <td>NaN</td>\n",
       "      <td>12861.0</td>\n",
       "      <td>NaN</td>\n",
       "      <td>NaN</td>\n",
       "      <td>NaN</td>\n",
       "      <td>0.8605</td>\n",
       "    </tr>\n",
       "    <tr>\n",
       "      <th>185509</th>\n",
       "      <td>2350</td>\n",
       "      <td>36</td>\n",
       "      <td>22</td>\n",
       "      <td>1</td>\n",
       "      <td>10095.0</td>\n",
       "      <td>NaN</td>\n",
       "      <td>4206.0</td>\n",
       "      <td>7638.0</td>\n",
       "      <td>1.0000</td>\n",
       "      <td>0.2908</td>\n",
       "    </tr>\n",
       "    <tr>\n",
       "      <th>488387</th>\n",
       "      <td>394</td>\n",
       "      <td>5</td>\n",
       "      <td>41</td>\n",
       "      <td>2</td>\n",
       "      <td>NaN</td>\n",
       "      <td>NaN</td>\n",
       "      <td>NaN</td>\n",
       "      <td>NaN</td>\n",
       "      <td>0.0000</td>\n",
       "      <td>NaN</td>\n",
       "    </tr>\n",
       "    <tr>\n",
       "      <th>...</th>\n",
       "      <td>...</td>\n",
       "      <td>...</td>\n",
       "      <td>...</td>\n",
       "      <td>...</td>\n",
       "      <td>...</td>\n",
       "      <td>...</td>\n",
       "      <td>...</td>\n",
       "      <td>...</td>\n",
       "      <td>...</td>\n",
       "      <td>...</td>\n",
       "    </tr>\n",
       "    <tr>\n",
       "      <th>148098</th>\n",
       "      <td>1031</td>\n",
       "      <td>17</td>\n",
       "      <td>26</td>\n",
       "      <td>3</td>\n",
       "      <td>NaN</td>\n",
       "      <td>17370.0</td>\n",
       "      <td>NaN</td>\n",
       "      <td>NaN</td>\n",
       "      <td>NaN</td>\n",
       "      <td>0.3607</td>\n",
       "    </tr>\n",
       "    <tr>\n",
       "      <th>174473</th>\n",
       "      <td>2158</td>\n",
       "      <td>27</td>\n",
       "      <td>20</td>\n",
       "      <td>1</td>\n",
       "      <td>15066.0</td>\n",
       "      <td>NaN</td>\n",
       "      <td>5549.0</td>\n",
       "      <td>5549.0</td>\n",
       "      <td>0.5528</td>\n",
       "      <td>0.3015</td>\n",
       "    </tr>\n",
       "    <tr>\n",
       "      <th>228778</th>\n",
       "      <td>99</td>\n",
       "      <td>50</td>\n",
       "      <td>38</td>\n",
       "      <td>1</td>\n",
       "      <td>25228.0</td>\n",
       "      <td>NaN</td>\n",
       "      <td>10610.0</td>\n",
       "      <td>37580.0</td>\n",
       "      <td>0.8434</td>\n",
       "      <td>0.2262</td>\n",
       "    </tr>\n",
       "    <tr>\n",
       "      <th>175120</th>\n",
       "      <td>1352</td>\n",
       "      <td>27</td>\n",
       "      <td>16</td>\n",
       "      <td>2</td>\n",
       "      <td>NaN</td>\n",
       "      <td>15306.0</td>\n",
       "      <td>NaN</td>\n",
       "      <td>NaN</td>\n",
       "      <td>NaN</td>\n",
       "      <td>0.5753</td>\n",
       "    </tr>\n",
       "    <tr>\n",
       "      <th>492379</th>\n",
       "      <td>184</td>\n",
       "      <td>33</td>\n",
       "      <td>3</td>\n",
       "      <td>3</td>\n",
       "      <td>NaN</td>\n",
       "      <td>18325.0</td>\n",
       "      <td>NaN</td>\n",
       "      <td>NaN</td>\n",
       "      <td>NaN</td>\n",
       "      <td>0.0000</td>\n",
       "    </tr>\n",
       "  </tbody>\n",
       "</table>\n",
       "<p>5146 rows × 10 columns</p>\n",
       "</div>"
      ],
      "text/plain": [
       "        CITY  STABBR  ACCREDAGENCY  CONTROL  COSTT4_A  COSTT4_P  \\\n",
       "UNITID                                                            \n",
       "101189  1380       1            38        2   33944.0       NaN   \n",
       "429085   959      50            38        3       NaN       NaN   \n",
       "248192  2367      20            26        3       NaN   12861.0   \n",
       "185509  2350      36            22        1   10095.0       NaN   \n",
       "488387   394       5            41        2       NaN       NaN   \n",
       "...      ...     ...           ...      ...       ...       ...   \n",
       "148098  1031      17            26        3       NaN   17370.0   \n",
       "174473  2158      27            20        1   15066.0       NaN   \n",
       "228778    99      50            38        1   25228.0       NaN   \n",
       "175120  1352      27            16        2       NaN   15306.0   \n",
       "492379   184      33             3        3       NaN   18325.0   \n",
       "\n",
       "        TUITIONFEE_IN  TUITIONFEE_OUT  PFTFAC  PCTPELL  \n",
       "UNITID                                                  \n",
       "101189        21690.0         21690.0  0.4534   0.4888  \n",
       "429085            NaN             NaN  0.5333      NaN  \n",
       "248192            NaN             NaN     NaN   0.8605  \n",
       "185509         4206.0          7638.0  1.0000   0.2908  \n",
       "488387            NaN             NaN  0.0000      NaN  \n",
       "...               ...             ...     ...      ...  \n",
       "148098            NaN             NaN     NaN   0.3607  \n",
       "174473         5549.0          5549.0  0.5528   0.3015  \n",
       "228778        10610.0         37580.0  0.8434   0.2262  \n",
       "175120            NaN             NaN     NaN   0.5753  \n",
       "492379            NaN             NaN     NaN   0.0000  \n",
       "\n",
       "[5146 rows x 10 columns]"
      ]
     },
     "execution_count": 91,
     "metadata": {},
     "output_type": "execute_result"
    }
   ],
   "source": [
    "X_train"
   ]
  },
  {
   "cell_type": "markdown",
   "id": "speaking-pricing",
   "metadata": {},
   "source": [
    "### Fill in missing Numerical data in test set and training set separately "
   ]
  },
  {
   "cell_type": "code",
   "execution_count": 92,
   "id": "seven-fountain",
   "metadata": {},
   "outputs": [
    {
     "data": {
      "text/plain": [
       "CITY                 0\n",
       "STABBR               0\n",
       "ACCREDAGENCY         0\n",
       "CONTROL              0\n",
       "COSTT4_A          2466\n",
       "COSTT4_P          3545\n",
       "TUITIONFEE_IN     2169\n",
       "TUITIONFEE_OUT    2329\n",
       "PFTFAC            2288\n",
       "PCTPELL            578\n",
       "dtype: int64"
      ]
     },
     "execution_count": 92,
     "metadata": {},
     "output_type": "execute_result"
    }
   ],
   "source": [
    "X_train.isna().sum()"
   ]
  },
  {
   "cell_type": "code",
   "execution_count": 93,
   "id": "micro-jesus",
   "metadata": {},
   "outputs": [
    {
     "name": "stdout",
     "output_type": "stream",
     "text": [
      "COSTT4_A\n",
      "COSTT4_P\n",
      "TUITIONFEE_IN\n",
      "TUITIONFEE_OUT\n",
      "PFTFAC\n",
      "PCTPELL\n"
     ]
    }
   ],
   "source": [
    "X_na = []\n",
    "for label, content in X_train.items(): \n",
    "    if pd.api.types.is_numeric_dtype(content): \n",
    "        if pd.isnull(content).sum(): \n",
    "            print(label)\n",
    "            X_na.append(label)"
   ]
  },
  {
   "cell_type": "code",
   "execution_count": 94,
   "id": "latin-stable",
   "metadata": {},
   "outputs": [
    {
     "name": "stderr",
     "output_type": "stream",
     "text": [
      "<ipython-input-94-ef68476bce50>:5: SettingWithCopyWarning: \n",
      "A value is trying to be set on a copy of a slice from a DataFrame.\n",
      "Try using .loc[row_indexer,col_indexer] = value instead\n",
      "\n",
      "See the caveats in the documentation: https://pandas.pydata.org/pandas-docs/stable/user_guide/indexing.html#returning-a-view-versus-a-copy\n",
      "  X_train[label+'_is_missing'] = pd.isnull(content)\n",
      "<ipython-input-94-ef68476bce50>:7: SettingWithCopyWarning: \n",
      "A value is trying to be set on a copy of a slice from a DataFrame.\n",
      "Try using .loc[row_indexer,col_indexer] = value instead\n",
      "\n",
      "See the caveats in the documentation: https://pandas.pydata.org/pandas-docs/stable/user_guide/indexing.html#returning-a-view-versus-a-copy\n",
      "  X_train[label] = content.fillna(content.median())\n",
      "<ipython-input-94-ef68476bce50>:5: SettingWithCopyWarning: \n",
      "A value is trying to be set on a copy of a slice from a DataFrame.\n",
      "Try using .loc[row_indexer,col_indexer] = value instead\n",
      "\n",
      "See the caveats in the documentation: https://pandas.pydata.org/pandas-docs/stable/user_guide/indexing.html#returning-a-view-versus-a-copy\n",
      "  X_train[label+'_is_missing'] = pd.isnull(content)\n",
      "<ipython-input-94-ef68476bce50>:7: SettingWithCopyWarning: \n",
      "A value is trying to be set on a copy of a slice from a DataFrame.\n",
      "Try using .loc[row_indexer,col_indexer] = value instead\n",
      "\n",
      "See the caveats in the documentation: https://pandas.pydata.org/pandas-docs/stable/user_guide/indexing.html#returning-a-view-versus-a-copy\n",
      "  X_train[label] = content.fillna(content.median())\n",
      "<ipython-input-94-ef68476bce50>:5: SettingWithCopyWarning: \n",
      "A value is trying to be set on a copy of a slice from a DataFrame.\n",
      "Try using .loc[row_indexer,col_indexer] = value instead\n",
      "\n",
      "See the caveats in the documentation: https://pandas.pydata.org/pandas-docs/stable/user_guide/indexing.html#returning-a-view-versus-a-copy\n",
      "  X_train[label+'_is_missing'] = pd.isnull(content)\n",
      "<ipython-input-94-ef68476bce50>:7: SettingWithCopyWarning: \n",
      "A value is trying to be set on a copy of a slice from a DataFrame.\n",
      "Try using .loc[row_indexer,col_indexer] = value instead\n",
      "\n",
      "See the caveats in the documentation: https://pandas.pydata.org/pandas-docs/stable/user_guide/indexing.html#returning-a-view-versus-a-copy\n",
      "  X_train[label] = content.fillna(content.median())\n",
      "<ipython-input-94-ef68476bce50>:5: SettingWithCopyWarning: \n",
      "A value is trying to be set on a copy of a slice from a DataFrame.\n",
      "Try using .loc[row_indexer,col_indexer] = value instead\n",
      "\n",
      "See the caveats in the documentation: https://pandas.pydata.org/pandas-docs/stable/user_guide/indexing.html#returning-a-view-versus-a-copy\n",
      "  X_train[label+'_is_missing'] = pd.isnull(content)\n",
      "<ipython-input-94-ef68476bce50>:7: SettingWithCopyWarning: \n",
      "A value is trying to be set on a copy of a slice from a DataFrame.\n",
      "Try using .loc[row_indexer,col_indexer] = value instead\n",
      "\n",
      "See the caveats in the documentation: https://pandas.pydata.org/pandas-docs/stable/user_guide/indexing.html#returning-a-view-versus-a-copy\n",
      "  X_train[label] = content.fillna(content.median())\n",
      "<ipython-input-94-ef68476bce50>:5: SettingWithCopyWarning: \n",
      "A value is trying to be set on a copy of a slice from a DataFrame.\n",
      "Try using .loc[row_indexer,col_indexer] = value instead\n",
      "\n",
      "See the caveats in the documentation: https://pandas.pydata.org/pandas-docs/stable/user_guide/indexing.html#returning-a-view-versus-a-copy\n",
      "  X_train[label+'_is_missing'] = pd.isnull(content)\n",
      "<ipython-input-94-ef68476bce50>:7: SettingWithCopyWarning: \n",
      "A value is trying to be set on a copy of a slice from a DataFrame.\n",
      "Try using .loc[row_indexer,col_indexer] = value instead\n",
      "\n",
      "See the caveats in the documentation: https://pandas.pydata.org/pandas-docs/stable/user_guide/indexing.html#returning-a-view-versus-a-copy\n",
      "  X_train[label] = content.fillna(content.median())\n",
      "<ipython-input-94-ef68476bce50>:5: SettingWithCopyWarning: \n",
      "A value is trying to be set on a copy of a slice from a DataFrame.\n",
      "Try using .loc[row_indexer,col_indexer] = value instead\n",
      "\n",
      "See the caveats in the documentation: https://pandas.pydata.org/pandas-docs/stable/user_guide/indexing.html#returning-a-view-versus-a-copy\n",
      "  X_train[label+'_is_missing'] = pd.isnull(content)\n",
      "<ipython-input-94-ef68476bce50>:7: SettingWithCopyWarning: \n",
      "A value is trying to be set on a copy of a slice from a DataFrame.\n",
      "Try using .loc[row_indexer,col_indexer] = value instead\n",
      "\n",
      "See the caveats in the documentation: https://pandas.pydata.org/pandas-docs/stable/user_guide/indexing.html#returning-a-view-versus-a-copy\n",
      "  X_train[label] = content.fillna(content.median())\n"
     ]
    }
   ],
   "source": [
    "# Fill nulls in X numeric columns with median, add column indicating if value was missing \n",
    "for label, content in X_train.items(): \n",
    "    if label in X_na:  \n",
    "        #Add column that has true if row had missing value for the column \n",
    "        X_train[label+'_is_missing'] = pd.isnull(content) \n",
    "        # Fill missing values for median for the column \n",
    "        X_train[label] = content.fillna(content.median())"
   ]
  },
  {
   "cell_type": "code",
   "execution_count": 95,
   "id": "agricultural-third",
   "metadata": {},
   "outputs": [
    {
     "data": {
      "text/plain": [
       "CITY                         0\n",
       "STABBR                       0\n",
       "ACCREDAGENCY                 0\n",
       "CONTROL                      0\n",
       "COSTT4_A                     0\n",
       "COSTT4_P                     0\n",
       "TUITIONFEE_IN                0\n",
       "TUITIONFEE_OUT               0\n",
       "PFTFAC                       0\n",
       "PCTPELL                      0\n",
       "COSTT4_A_is_missing          0\n",
       "COSTT4_P_is_missing          0\n",
       "TUITIONFEE_IN_is_missing     0\n",
       "TUITIONFEE_OUT_is_missing    0\n",
       "PFTFAC_is_missing            0\n",
       "PCTPELL_is_missing           0\n",
       "dtype: int64"
      ]
     },
     "execution_count": 95,
     "metadata": {},
     "output_type": "execute_result"
    }
   ],
   "source": [
    "X_train.isna().sum()"
   ]
  },
  {
   "cell_type": "code",
   "execution_count": 96,
   "id": "imported-california",
   "metadata": {},
   "outputs": [
    {
     "data": {
      "text/plain": [
       "CITY                0\n",
       "STABBR              0\n",
       "ACCREDAGENCY        0\n",
       "CONTROL             0\n",
       "COSTT4_A          608\n",
       "COSTT4_P          879\n",
       "TUITIONFEE_IN     530\n",
       "TUITIONFEE_OUT    582\n",
       "PFTFAC            572\n",
       "PCTPELL           133\n",
       "dtype: int64"
      ]
     },
     "execution_count": 96,
     "metadata": {},
     "output_type": "execute_result"
    }
   ],
   "source": [
    "X_test.isna().sum()"
   ]
  },
  {
   "cell_type": "code",
   "execution_count": 97,
   "id": "critical-tenant",
   "metadata": {},
   "outputs": [],
   "source": [
    "# Do the same for X_test \n",
    "def fill_na(dataframe): \n",
    "    for label, content in dataframe.items(): \n",
    "        if pd.isnull(content).sum():  \n",
    "            #Add column that has true if row had missing value for the column \n",
    "            dataframe[label+'_is_missing'] = pd.isnull(content) \n",
    "            # Fill missing values for median for the column \n",
    "            dataframe[label] = content.fillna(content.median())"
   ]
  },
  {
   "cell_type": "code",
   "execution_count": 98,
   "id": "several-capability",
   "metadata": {},
   "outputs": [
    {
     "name": "stderr",
     "output_type": "stream",
     "text": [
      "<ipython-input-97-c1472fc2007d>:6: SettingWithCopyWarning: \n",
      "A value is trying to be set on a copy of a slice from a DataFrame.\n",
      "Try using .loc[row_indexer,col_indexer] = value instead\n",
      "\n",
      "See the caveats in the documentation: https://pandas.pydata.org/pandas-docs/stable/user_guide/indexing.html#returning-a-view-versus-a-copy\n",
      "  dataframe[label+'_is_missing'] = pd.isnull(content)\n",
      "<ipython-input-97-c1472fc2007d>:8: SettingWithCopyWarning: \n",
      "A value is trying to be set on a copy of a slice from a DataFrame.\n",
      "Try using .loc[row_indexer,col_indexer] = value instead\n",
      "\n",
      "See the caveats in the documentation: https://pandas.pydata.org/pandas-docs/stable/user_guide/indexing.html#returning-a-view-versus-a-copy\n",
      "  dataframe[label] = content.fillna(content.median())\n",
      "<ipython-input-97-c1472fc2007d>:6: SettingWithCopyWarning: \n",
      "A value is trying to be set on a copy of a slice from a DataFrame.\n",
      "Try using .loc[row_indexer,col_indexer] = value instead\n",
      "\n",
      "See the caveats in the documentation: https://pandas.pydata.org/pandas-docs/stable/user_guide/indexing.html#returning-a-view-versus-a-copy\n",
      "  dataframe[label+'_is_missing'] = pd.isnull(content)\n",
      "<ipython-input-97-c1472fc2007d>:8: SettingWithCopyWarning: \n",
      "A value is trying to be set on a copy of a slice from a DataFrame.\n",
      "Try using .loc[row_indexer,col_indexer] = value instead\n",
      "\n",
      "See the caveats in the documentation: https://pandas.pydata.org/pandas-docs/stable/user_guide/indexing.html#returning-a-view-versus-a-copy\n",
      "  dataframe[label] = content.fillna(content.median())\n",
      "<ipython-input-97-c1472fc2007d>:6: SettingWithCopyWarning: \n",
      "A value is trying to be set on a copy of a slice from a DataFrame.\n",
      "Try using .loc[row_indexer,col_indexer] = value instead\n",
      "\n",
      "See the caveats in the documentation: https://pandas.pydata.org/pandas-docs/stable/user_guide/indexing.html#returning-a-view-versus-a-copy\n",
      "  dataframe[label+'_is_missing'] = pd.isnull(content)\n",
      "<ipython-input-97-c1472fc2007d>:8: SettingWithCopyWarning: \n",
      "A value is trying to be set on a copy of a slice from a DataFrame.\n",
      "Try using .loc[row_indexer,col_indexer] = value instead\n",
      "\n",
      "See the caveats in the documentation: https://pandas.pydata.org/pandas-docs/stable/user_guide/indexing.html#returning-a-view-versus-a-copy\n",
      "  dataframe[label] = content.fillna(content.median())\n",
      "<ipython-input-97-c1472fc2007d>:6: SettingWithCopyWarning: \n",
      "A value is trying to be set on a copy of a slice from a DataFrame.\n",
      "Try using .loc[row_indexer,col_indexer] = value instead\n",
      "\n",
      "See the caveats in the documentation: https://pandas.pydata.org/pandas-docs/stable/user_guide/indexing.html#returning-a-view-versus-a-copy\n",
      "  dataframe[label+'_is_missing'] = pd.isnull(content)\n",
      "<ipython-input-97-c1472fc2007d>:8: SettingWithCopyWarning: \n",
      "A value is trying to be set on a copy of a slice from a DataFrame.\n",
      "Try using .loc[row_indexer,col_indexer] = value instead\n",
      "\n",
      "See the caveats in the documentation: https://pandas.pydata.org/pandas-docs/stable/user_guide/indexing.html#returning-a-view-versus-a-copy\n",
      "  dataframe[label] = content.fillna(content.median())\n",
      "<ipython-input-97-c1472fc2007d>:6: SettingWithCopyWarning: \n",
      "A value is trying to be set on a copy of a slice from a DataFrame.\n",
      "Try using .loc[row_indexer,col_indexer] = value instead\n",
      "\n",
      "See the caveats in the documentation: https://pandas.pydata.org/pandas-docs/stable/user_guide/indexing.html#returning-a-view-versus-a-copy\n",
      "  dataframe[label+'_is_missing'] = pd.isnull(content)\n",
      "<ipython-input-97-c1472fc2007d>:8: SettingWithCopyWarning: \n",
      "A value is trying to be set on a copy of a slice from a DataFrame.\n",
      "Try using .loc[row_indexer,col_indexer] = value instead\n",
      "\n",
      "See the caveats in the documentation: https://pandas.pydata.org/pandas-docs/stable/user_guide/indexing.html#returning-a-view-versus-a-copy\n",
      "  dataframe[label] = content.fillna(content.median())\n",
      "<ipython-input-97-c1472fc2007d>:6: SettingWithCopyWarning: \n",
      "A value is trying to be set on a copy of a slice from a DataFrame.\n",
      "Try using .loc[row_indexer,col_indexer] = value instead\n",
      "\n",
      "See the caveats in the documentation: https://pandas.pydata.org/pandas-docs/stable/user_guide/indexing.html#returning-a-view-versus-a-copy\n",
      "  dataframe[label+'_is_missing'] = pd.isnull(content)\n",
      "<ipython-input-97-c1472fc2007d>:8: SettingWithCopyWarning: \n",
      "A value is trying to be set on a copy of a slice from a DataFrame.\n",
      "Try using .loc[row_indexer,col_indexer] = value instead\n",
      "\n",
      "See the caveats in the documentation: https://pandas.pydata.org/pandas-docs/stable/user_guide/indexing.html#returning-a-view-versus-a-copy\n",
      "  dataframe[label] = content.fillna(content.median())\n"
     ]
    }
   ],
   "source": [
    "fill_na(X_test)"
   ]
  },
  {
   "cell_type": "code",
   "execution_count": 99,
   "id": "certain-bennett",
   "metadata": {},
   "outputs": [
    {
     "data": {
      "text/plain": [
       "CITY                         0\n",
       "STABBR                       0\n",
       "ACCREDAGENCY                 0\n",
       "CONTROL                      0\n",
       "COSTT4_A                     0\n",
       "COSTT4_P                     0\n",
       "TUITIONFEE_IN                0\n",
       "TUITIONFEE_OUT               0\n",
       "PFTFAC                       0\n",
       "PCTPELL                      0\n",
       "COSTT4_A_is_missing          0\n",
       "COSTT4_P_is_missing          0\n",
       "TUITIONFEE_IN_is_missing     0\n",
       "TUITIONFEE_OUT_is_missing    0\n",
       "PFTFAC_is_missing            0\n",
       "PCTPELL_is_missing           0\n",
       "dtype: int64"
      ]
     },
     "execution_count": 99,
     "metadata": {},
     "output_type": "execute_result"
    }
   ],
   "source": [
    "X_test.isna().sum()"
   ]
  },
  {
   "cell_type": "code",
   "execution_count": 100,
   "id": "varying-proceeding",
   "metadata": {},
   "outputs": [],
   "source": [
    "# fill na in y_train and y_test \n",
    "y_train.fillna(y_train.median(), inplace=True)"
   ]
  },
  {
   "cell_type": "code",
   "execution_count": 101,
   "id": "protecting-discount",
   "metadata": {},
   "outputs": [
    {
     "data": {
      "text/plain": [
       "0"
      ]
     },
     "execution_count": 101,
     "metadata": {},
     "output_type": "execute_result"
    }
   ],
   "source": [
    "y_train.isna().sum()"
   ]
  },
  {
   "cell_type": "code",
   "execution_count": 102,
   "id": "limited-character",
   "metadata": {},
   "outputs": [
    {
     "data": {
      "text/plain": [
       "CITY                         0\n",
       "STABBR                       0\n",
       "ACCREDAGENCY                 0\n",
       "CONTROL                      0\n",
       "COSTT4_A                     0\n",
       "COSTT4_P                     0\n",
       "TUITIONFEE_IN                0\n",
       "TUITIONFEE_OUT               0\n",
       "PFTFAC                       0\n",
       "PCTPELL                      0\n",
       "COSTT4_A_is_missing          0\n",
       "COSTT4_P_is_missing          0\n",
       "TUITIONFEE_IN_is_missing     0\n",
       "TUITIONFEE_OUT_is_missing    0\n",
       "PFTFAC_is_missing            0\n",
       "PCTPELL_is_missing           0\n",
       "dtype: int64"
      ]
     },
     "execution_count": 102,
     "metadata": {},
     "output_type": "execute_result"
    }
   ],
   "source": [
    "X_test.isna().sum()"
   ]
  },
  {
   "cell_type": "code",
   "execution_count": 103,
   "id": "talented-flood",
   "metadata": {},
   "outputs": [],
   "source": [
    "y_test.fillna(y_test.median(), inplace=True)"
   ]
  },
  {
   "cell_type": "code",
   "execution_count": 104,
   "id": "detailed-roots",
   "metadata": {},
   "outputs": [
    {
     "data": {
      "text/plain": [
       "0"
      ]
     },
     "execution_count": 104,
     "metadata": {},
     "output_type": "execute_result"
    }
   ],
   "source": [
    "y_test.isna().sum()"
   ]
  },
  {
   "cell_type": "markdown",
   "id": "visible-burst",
   "metadata": {},
   "source": [
    "## Build and Train model "
   ]
  },
  {
   "cell_type": "code",
   "execution_count": 105,
   "id": "cardiovascular-citation",
   "metadata": {},
   "outputs": [],
   "source": [
    "model = RandomForestRegressor()"
   ]
  },
  {
   "cell_type": "code",
   "execution_count": 106,
   "id": "leading-delta",
   "metadata": {},
   "outputs": [
    {
     "data": {
      "text/plain": [
       "RandomForestRegressor()"
      ]
     },
     "execution_count": 106,
     "metadata": {},
     "output_type": "execute_result"
    }
   ],
   "source": [
    "model.fit(X_train, y_train)"
   ]
  },
  {
   "cell_type": "code",
   "execution_count": 107,
   "id": "united-shannon",
   "metadata": {},
   "outputs": [],
   "source": [
    "y_pred = model.predict(X_test)"
   ]
  },
  {
   "cell_type": "code",
   "execution_count": 108,
   "id": "blessed-conclusion",
   "metadata": {},
   "outputs": [
    {
     "name": "stdout",
     "output_type": "stream",
     "text": [
      "R-Squared Score:  0.7381390102239831\n",
      "Mean Absolute Error:  2647.088352046102\n"
     ]
    }
   ],
   "source": [
    "r_squared = metrics.r2_score(y_test, y_pred)\n",
    "mae = metrics.mean_absolute_error(y_test, y_pred)\n",
    "print('R-Squared Score: ', r_squared)\n",
    "print('Mean Absolute Error: ', mae)"
   ]
  },
  {
   "cell_type": "markdown",
   "id": "placed-edinburgh",
   "metadata": {},
   "source": [
    "### Pickle model "
   ]
  },
  {
   "cell_type": "code",
   "execution_count": 109,
   "id": "neutral-height",
   "metadata": {},
   "outputs": [],
   "source": [
    "file_name = 'rf_regressor1.pkl'\n",
    "pickle.dump(model, open(file_name, 'wb'))"
   ]
  },
  {
   "cell_type": "code",
   "execution_count": null,
   "id": "covered-poverty",
   "metadata": {},
   "outputs": [],
   "source": []
  }
 ],
 "metadata": {
  "kernelspec": {
   "display_name": "Python 3",
   "language": "python",
   "name": "python3"
  },
  "language_info": {
   "codemirror_mode": {
    "name": "ipython",
    "version": 3
   },
   "file_extension": ".py",
   "mimetype": "text/x-python",
   "name": "python",
   "nbconvert_exporter": "python",
   "pygments_lexer": "ipython3",
   "version": "3.8.5"
  }
 },
 "nbformat": 4,
 "nbformat_minor": 5
}
