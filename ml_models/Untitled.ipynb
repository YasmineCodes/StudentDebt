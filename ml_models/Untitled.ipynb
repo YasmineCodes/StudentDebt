{
 "cells": [
  {
   "cell_type": "code",
   "execution_count": 1,
   "id": "oriented-unknown",
   "metadata": {},
   "outputs": [],
   "source": [
    "import pandas as pd\n"
   ]
  },
  {
   "cell_type": "code",
   "execution_count": 3,
   "id": "blind-retail",
   "metadata": {},
   "outputs": [],
   "source": [
    "df = pd.read_csv(\"../data/reduced_inst_data_with_cats.csv\")"
   ]
  },
  {
   "cell_type": "code",
   "execution_count": 4,
   "id": "canadian-diesel",
   "metadata": {},
   "outputs": [
    {
     "data": {
      "text/html": [
       "<div>\n",
       "<style scoped>\n",
       "    .dataframe tbody tr th:only-of-type {\n",
       "        vertical-align: middle;\n",
       "    }\n",
       "\n",
       "    .dataframe tbody tr th {\n",
       "        vertical-align: top;\n",
       "    }\n",
       "\n",
       "    .dataframe thead th {\n",
       "        text-align: right;\n",
       "    }\n",
       "</style>\n",
       "<table border=\"1\" class=\"dataframe\">\n",
       "  <thead>\n",
       "    <tr style=\"text-align: right;\">\n",
       "      <th></th>\n",
       "      <th>UNITID</th>\n",
       "      <th>INSTNM</th>\n",
       "      <th>CITY</th>\n",
       "      <th>STABBR</th>\n",
       "      <th>ACCREDAGENCY</th>\n",
       "      <th>CONTROL</th>\n",
       "      <th>COSTT4_A</th>\n",
       "      <th>COSTT4_P</th>\n",
       "      <th>TUITIONFEE_IN</th>\n",
       "      <th>TUITIONFEE_OUT</th>\n",
       "      <th>...</th>\n",
       "      <th>MD_INC_DEBT_MDN</th>\n",
       "      <th>HI_INC_DEBT_MDN</th>\n",
       "      <th>DEP_DEBT_MDN</th>\n",
       "      <th>IND_DEBT_MDN</th>\n",
       "      <th>PELL_DEBT_MDN</th>\n",
       "      <th>NOPELL_DEBT_MDN</th>\n",
       "      <th>FEMALE_DEBT_MDN</th>\n",
       "      <th>MALE_DEBT_MDN</th>\n",
       "      <th>FIRSTGEN_DEBT_MDN</th>\n",
       "      <th>NOTFIRSTGEN_DEBT_MDN</th>\n",
       "    </tr>\n",
       "  </thead>\n",
       "  <tbody>\n",
       "    <tr>\n",
       "      <th>0</th>\n",
       "      <td>100654</td>\n",
       "      <td>Alabama A &amp; M University</td>\n",
       "      <td>Normal</td>\n",
       "      <td>AL</td>\n",
       "      <td>Southern Association of Colleges and Schools C...</td>\n",
       "      <td>1</td>\n",
       "      <td>22489.0</td>\n",
       "      <td>NaN</td>\n",
       "      <td>9744.0</td>\n",
       "      <td>18354.0</td>\n",
       "      <td>...</td>\n",
       "      <td>16000.0</td>\n",
       "      <td>14518.0</td>\n",
       "      <td>15000.0</td>\n",
       "      <td>19000.0</td>\n",
       "      <td>17500.0</td>\n",
       "      <td>10250.0</td>\n",
       "      <td>17500.0</td>\n",
       "      <td>14250.0</td>\n",
       "      <td>15000.0</td>\n",
       "      <td>16421.0</td>\n",
       "    </tr>\n",
       "    <tr>\n",
       "      <th>1</th>\n",
       "      <td>100663</td>\n",
       "      <td>University of Alabama at Birmingham</td>\n",
       "      <td>Birmingham</td>\n",
       "      <td>AL</td>\n",
       "      <td>Southern Association of Colleges and Schools C...</td>\n",
       "      <td>1</td>\n",
       "      <td>24347.0</td>\n",
       "      <td>NaN</td>\n",
       "      <td>8568.0</td>\n",
       "      <td>19704.0</td>\n",
       "      <td>...</td>\n",
       "      <td>15250.0</td>\n",
       "      <td>14000.0</td>\n",
       "      <td>15000.0</td>\n",
       "      <td>16000.0</td>\n",
       "      <td>17500.0</td>\n",
       "      <td>12500.0</td>\n",
       "      <td>15000.0</td>\n",
       "      <td>15000.0</td>\n",
       "      <td>15104.0</td>\n",
       "      <td>15000.0</td>\n",
       "    </tr>\n",
       "    <tr>\n",
       "      <th>2</th>\n",
       "      <td>100690</td>\n",
       "      <td>Amridge University</td>\n",
       "      <td>Montgomery</td>\n",
       "      <td>AL</td>\n",
       "      <td>Southern Association of Colleges and Schools C...</td>\n",
       "      <td>2</td>\n",
       "      <td>17680.0</td>\n",
       "      <td>NaN</td>\n",
       "      <td>6900.0</td>\n",
       "      <td>6900.0</td>\n",
       "      <td>...</td>\n",
       "      <td>19000.0</td>\n",
       "      <td>25000.0</td>\n",
       "      <td>7646.0</td>\n",
       "      <td>12038.0</td>\n",
       "      <td>9500.0</td>\n",
       "      <td>15509.0</td>\n",
       "      <td>9500.0</td>\n",
       "      <td>17025.0</td>\n",
       "      <td>11500.0</td>\n",
       "      <td>9500.0</td>\n",
       "    </tr>\n",
       "    <tr>\n",
       "      <th>3</th>\n",
       "      <td>100706</td>\n",
       "      <td>University of Alabama in Huntsville</td>\n",
       "      <td>Huntsville</td>\n",
       "      <td>AL</td>\n",
       "      <td>Southern Association of Colleges and Schools C...</td>\n",
       "      <td>1</td>\n",
       "      <td>23441.0</td>\n",
       "      <td>NaN</td>\n",
       "      <td>10714.0</td>\n",
       "      <td>22362.0</td>\n",
       "      <td>...</td>\n",
       "      <td>14750.0</td>\n",
       "      <td>12500.0</td>\n",
       "      <td>12750.0</td>\n",
       "      <td>18569.0</td>\n",
       "      <td>17014.0</td>\n",
       "      <td>11899.0</td>\n",
       "      <td>15250.0</td>\n",
       "      <td>13333.0</td>\n",
       "      <td>14943.0</td>\n",
       "      <td>13102.0</td>\n",
       "    </tr>\n",
       "    <tr>\n",
       "      <th>4</th>\n",
       "      <td>100724</td>\n",
       "      <td>Alabama State University</td>\n",
       "      <td>Montgomery</td>\n",
       "      <td>AL</td>\n",
       "      <td>Southern Association of Colleges and Schools C...</td>\n",
       "      <td>1</td>\n",
       "      <td>21476.0</td>\n",
       "      <td>NaN</td>\n",
       "      <td>11068.0</td>\n",
       "      <td>19396.0</td>\n",
       "      <td>...</td>\n",
       "      <td>18500.0</td>\n",
       "      <td>18246.0</td>\n",
       "      <td>17500.0</td>\n",
       "      <td>23925.0</td>\n",
       "      <td>19056.0</td>\n",
       "      <td>12000.0</td>\n",
       "      <td>19500.0</td>\n",
       "      <td>15525.0</td>\n",
       "      <td>19000.0</td>\n",
       "      <td>17500.0</td>\n",
       "    </tr>\n",
       "  </tbody>\n",
       "</table>\n",
       "<p>5 rows × 25 columns</p>\n",
       "</div>"
      ],
      "text/plain": [
       "   UNITID                               INSTNM        CITY STABBR  \\\n",
       "0  100654             Alabama A & M University      Normal     AL   \n",
       "1  100663  University of Alabama at Birmingham  Birmingham     AL   \n",
       "2  100690                   Amridge University  Montgomery     AL   \n",
       "3  100706  University of Alabama in Huntsville  Huntsville     AL   \n",
       "4  100724             Alabama State University  Montgomery     AL   \n",
       "\n",
       "                                        ACCREDAGENCY  CONTROL  COSTT4_A  \\\n",
       "0  Southern Association of Colleges and Schools C...        1   22489.0   \n",
       "1  Southern Association of Colleges and Schools C...        1   24347.0   \n",
       "2  Southern Association of Colleges and Schools C...        2   17680.0   \n",
       "3  Southern Association of Colleges and Schools C...        1   23441.0   \n",
       "4  Southern Association of Colleges and Schools C...        1   21476.0   \n",
       "\n",
       "   COSTT4_P  TUITIONFEE_IN  TUITIONFEE_OUT  ...  MD_INC_DEBT_MDN  \\\n",
       "0       NaN         9744.0         18354.0  ...          16000.0   \n",
       "1       NaN         8568.0         19704.0  ...          15250.0   \n",
       "2       NaN         6900.0          6900.0  ...          19000.0   \n",
       "3       NaN        10714.0         22362.0  ...          14750.0   \n",
       "4       NaN        11068.0         19396.0  ...          18500.0   \n",
       "\n",
       "   HI_INC_DEBT_MDN  DEP_DEBT_MDN  IND_DEBT_MDN  PELL_DEBT_MDN  \\\n",
       "0          14518.0       15000.0       19000.0        17500.0   \n",
       "1          14000.0       15000.0       16000.0        17500.0   \n",
       "2          25000.0        7646.0       12038.0         9500.0   \n",
       "3          12500.0       12750.0       18569.0        17014.0   \n",
       "4          18246.0       17500.0       23925.0        19056.0   \n",
       "\n",
       "   NOPELL_DEBT_MDN  FEMALE_DEBT_MDN  MALE_DEBT_MDN  FIRSTGEN_DEBT_MDN  \\\n",
       "0          10250.0          17500.0        14250.0            15000.0   \n",
       "1          12500.0          15000.0        15000.0            15104.0   \n",
       "2          15509.0           9500.0        17025.0            11500.0   \n",
       "3          11899.0          15250.0        13333.0            14943.0   \n",
       "4          12000.0          19500.0        15525.0            19000.0   \n",
       "\n",
       "   NOTFIRSTGEN_DEBT_MDN  \n",
       "0               16421.0  \n",
       "1               15000.0  \n",
       "2                9500.0  \n",
       "3               13102.0  \n",
       "4               17500.0  \n",
       "\n",
       "[5 rows x 25 columns]"
      ]
     },
     "execution_count": 4,
     "metadata": {},
     "output_type": "execute_result"
    }
   ],
   "source": [
    "df.head()"
   ]
  },
  {
   "cell_type": "code",
   "execution_count": 5,
   "id": "grand-plane",
   "metadata": {},
   "outputs": [
    {
     "data": {
      "text/plain": [
       "Series([], Name: INSTNM, dtype: object)"
      ]
     },
     "execution_count": 5,
     "metadata": {},
     "output_type": "execute_result"
    }
   ],
   "source": [
    "df.INSTNM[df.INSTNM == \"Columbia College - Coast Guard Island\"]"
   ]
  },
  {
   "cell_type": "code",
   "execution_count": 9,
   "id": "talented-burke",
   "metadata": {},
   "outputs": [
    {
     "data": {
      "text/plain": [
       "Series([], Name: INSTNM, dtype: object)"
      ]
     },
     "execution_count": 9,
     "metadata": {},
     "output_type": "execute_result"
    }
   ],
   "source": [
    "df.INSTNM[df['INSTNM'].str.contains(\"Coast Guard\")]"
   ]
  },
  {
   "cell_type": "code",
   "execution_count": 13,
   "id": "computational-scheme",
   "metadata": {},
   "outputs": [],
   "source": [
    "school_list = [\"Columbia College - Coast Guard Island\",\"Avalon School of Cosmetology-Alameda\",\"College of Alameda\"]"
   ]
  },
  {
   "cell_type": "code",
   "execution_count": 14,
   "id": "rocky-liechtenstein",
   "metadata": {},
   "outputs": [
    {
     "data": {
      "text/plain": [
       "1"
      ]
     },
     "execution_count": 14,
     "metadata": {},
     "output_type": "execute_result"
    }
   ],
   "source": [
    "df.INSTNM[df['INSTNM'].isin(school_list)].count()"
   ]
  },
  {
   "cell_type": "code",
   "execution_count": null,
   "id": "binding-creator",
   "metadata": {},
   "outputs": [],
   "source": [
    "df.INSTNM[df['INSTNM']]"
   ]
  }
 ],
 "metadata": {
  "kernelspec": {
   "display_name": "Python 3",
   "language": "python",
   "name": "python3"
  },
  "language_info": {
   "codemirror_mode": {
    "name": "ipython",
    "version": 3
   },
   "file_extension": ".py",
   "mimetype": "text/x-python",
   "name": "python",
   "nbconvert_exporter": "python",
   "pygments_lexer": "ipython3",
   "version": "3.8.5"
  }
 },
 "nbformat": 4,
 "nbformat_minor": 5
}
